{
 "cells": [
  {
   "cell_type": "code",
   "execution_count": 1,
   "metadata": {
    "collapsed": true
   },
   "outputs": [],
   "source": [
    "import warnings; warnings.simplefilter('ignore')\n",
    "import pandas as pd\n",
    "import numpy as np\n",
    "import matplotlib.pyplot as plt\n",
    "from pandas import Series, DataFrame\n",
    "import seaborn as sns\n",
    "from sklearn import preprocessing\n",
    "from sklearn.preprocessing import OneHotEncoder\n",
    "from sklearn.preprocessing import Imputer\n",
    "from sklearn.ensemble import RandomForestClassifier\n",
    "from scipy import stats\n",
    "from collections import Counter\n",
    "\n",
    "# import other methods\n",
    "from clean import *"
   ]
  },
  {
   "cell_type": "code",
   "execution_count": 2,
   "metadata": {
    "collapsed": true
   },
   "outputs": [],
   "source": [
    "%matplotlib inline"
   ]
  },
  {
   "cell_type": "code",
   "execution_count": 3,
   "metadata": {
    "collapsed": false
   },
   "outputs": [
    {
     "data": {
      "text/html": [
       "<div>\n",
       "<table border=\"1\" class=\"dataframe\">\n",
       "  <thead>\n",
       "    <tr style=\"text-align: right;\">\n",
       "      <th></th>\n",
       "      <th>id</th>\n",
       "      <th>log_feature</th>\n",
       "      <th>volume</th>\n",
       "    </tr>\n",
       "  </thead>\n",
       "  <tbody>\n",
       "    <tr>\n",
       "      <th>0</th>\n",
       "      <td>6597</td>\n",
       "      <td>68</td>\n",
       "      <td>6</td>\n",
       "    </tr>\n",
       "    <tr>\n",
       "      <th>1</th>\n",
       "      <td>8011</td>\n",
       "      <td>68</td>\n",
       "      <td>7</td>\n",
       "    </tr>\n",
       "    <tr>\n",
       "      <th>2</th>\n",
       "      <td>6597</td>\n",
       "      <td>68</td>\n",
       "      <td>1</td>\n",
       "    </tr>\n",
       "    <tr>\n",
       "      <th>3</th>\n",
       "      <td>5022</td>\n",
       "      <td>172</td>\n",
       "      <td>2</td>\n",
       "    </tr>\n",
       "    <tr>\n",
       "      <th>4</th>\n",
       "      <td>5022</td>\n",
       "      <td>56</td>\n",
       "      <td>1</td>\n",
       "    </tr>\n",
       "  </tbody>\n",
       "</table>\n",
       "</div>"
      ],
      "text/plain": [
       "     id  log_feature  volume\n",
       "0  6597           68       6\n",
       "1  8011           68       7\n",
       "2  6597           68       1\n",
       "3  5022          172       2\n",
       "4  5022           56       1"
      ]
     },
     "execution_count": 3,
     "metadata": {},
     "output_type": "execute_result"
    }
   ],
   "source": [
    "sample = pd.read_csv('sample.csv')\n",
    "sample.head()"
   ]
  },
  {
   "cell_type": "code",
   "execution_count": 4,
   "metadata": {
    "collapsed": false
   },
   "outputs": [
    {
     "name": "stdout",
     "output_type": "stream",
     "text": [
      "shit log_feature\n",
      "id\n",
      "5022    {56: 1, 172: 1, 71: 1}\n",
      "6597           {193: 1, 68: 1}\n",
      "6852    {56: 1, 80: 1, 201: 1}\n",
      "8011                   {68: 1}\n",
      "dtype: object\n",
      "id\n",
      "5022    {1: 1, 2: 1, 3: 1}\n",
      "6597    {1: 1, 4: 1, 6: 1}\n",
      "6852          {1: 1, 2: 1}\n",
      "8011                {7: 1}\n",
      "dtype: object\n"
     ]
    }
   ],
   "source": [
    "ncol = len(sample.columns)\n",
    "if ncol == 3:\n",
    "    a = sample.groupby([sample.columns[-3],sample.columns[-2],sample.columns[-1]]).agg({sample.columns[-1]:'count',sample.columns[-2]:'count'})\n",
    "    a.index.names = ['id','cat1','cat2']\n",
    "    root = a.reset_index()\n",
    "    one = root.set_index('cat1')\n",
    "    two = root.set_index('cat2')\n",
    "    print('shit',one.columns[-1])\n",
    "    #two = one.groupby('id').apply(debugger)\n",
    "    onef = one.groupby('id').apply(lambda x: x.to_dict()[one.columns[-1]])\n",
    "    twof = two.groupby('id').apply(lambda x: x.to_dict()[one.columns[-2]])\n",
    "    print(onef)\n",
    "    print(twof)\n",
    "    #one = one.set_index('cat2')\n",
    "    #two = one.groupby('id').apply(debugger)\n",
    "elif ncol == 2:\n",
    "    a = sample.groupby([sample.columns[-2],sample.columns[-1]]).agg({sample.columns[-1]:'count'})\n",
    "    a.index.names = ['id','cat']\n",
    "    a = a.reset_index()\n",
    "    a = a.set_index('cat')\n",
    "    #for i in range(len(a['event_type'])):\n",
    "    #    if a['event_type'].iloc[i] != 1:\n",
    "    #        print('more than once',a['id'].iloc[i])\n",
    "    print(a)\n",
    "    print(a['event_type'])\n",
    "    #two = one.groupby('id').apply(debugger)\n",
    "    a = a.groupby('id').apply(lambda x: {int(k):int(v) for k,v in x.to_dict()[sample.columns[-1]].items()})\n",
    "    print(a)\n",
    "    #one = one.set_index('cat2')\n",
    "    #two = one.groupby('id').apply(debugger)\n"
   ]
  },
  {
   "cell_type": "code",
   "execution_count": 5,
   "metadata": {
    "collapsed": false
   },
   "outputs": [
    {
     "data": {
      "text/html": [
       "<div>\n",
       "<table border=\"1\" class=\"dataframe\">\n",
       "  <thead>\n",
       "    <tr style=\"text-align: right;\">\n",
       "      <th></th>\n",
       "      <th>a</th>\n",
       "    </tr>\n",
       "    <tr>\n",
       "      <th>id</th>\n",
       "      <th></th>\n",
       "    </tr>\n",
       "  </thead>\n",
       "  <tbody>\n",
       "    <tr>\n",
       "      <th>5022</th>\n",
       "      <td>{56: 1, 172: 1, 71: 1}</td>\n",
       "    </tr>\n",
       "    <tr>\n",
       "      <th>6597</th>\n",
       "      <td>{193: 1, 68: 1}</td>\n",
       "    </tr>\n",
       "    <tr>\n",
       "      <th>6852</th>\n",
       "      <td>{56: 1, 80: 1, 201: 1}</td>\n",
       "    </tr>\n",
       "    <tr>\n",
       "      <th>8011</th>\n",
       "      <td>{68: 1}</td>\n",
       "    </tr>\n",
       "  </tbody>\n",
       "</table>\n",
       "</div>"
      ],
      "text/plain": [
       "                           a\n",
       "id                          \n",
       "5022  {56: 1, 172: 1, 71: 1}\n",
       "6597         {193: 1, 68: 1}\n",
       "6852  {56: 1, 80: 1, 201: 1}\n",
       "8011                 {68: 1}"
      ]
     },
     "execution_count": 5,
     "metadata": {},
     "output_type": "execute_result"
    }
   ],
   "source": [
    "shit = pd.DataFrame(onef,columns=['a'])\n",
    "shit"
   ]
  },
  {
   "cell_type": "code",
   "execution_count": null,
   "metadata": {
    "collapsed": true
   },
   "outputs": [],
   "source": []
  },
  {
   "cell_type": "code",
   "execution_count": null,
   "metadata": {
    "collapsed": false
   },
   "outputs": [],
   "source": [
    "dic = DictVectorizer()\n",
    "dic = dic.fit(twof)\n",
    "nsample = dic.transform(twof)"
   ]
  },
  {
   "cell_type": "code",
   "execution_count": null,
   "metadata": {
    "collapsed": false
   },
   "outputs": [],
   "source": [
    "print(nsample)"
   ]
  },
  {
   "cell_type": "code",
   "execution_count": null,
   "metadata": {
    "collapsed": false,
    "scrolled": true
   },
   "outputs": [],
   "source": [
    "a.index.names = ['id','cat']\n",
    "one = a.reset_index()\n",
    "one = one.set_index('cat')\n",
    "#two = one.groupby('id').apply(debugger)\n",
    "two = one.groupby('id').apply(lambda x: x.to_dict()['event_type'])\n",
    "#.apply(debugger)\n",
    "two"
   ]
  },
  {
   "cell_type": "code",
   "execution_count": null,
   "metadata": {
    "collapsed": true
   },
   "outputs": [],
   "source": []
  },
  {
   "cell_type": "code",
   "execution_count": null,
   "metadata": {
    "collapsed": true
   },
   "outputs": [],
   "source": []
  }
 ],
 "metadata": {
  "kernelspec": {
   "display_name": "Python 3",
   "language": "python",
   "name": "python3"
  },
  "language_info": {
   "codemirror_mode": {
    "name": "ipython",
    "version": 3
   },
   "file_extension": ".py",
   "mimetype": "text/x-python",
   "name": "python",
   "nbconvert_exporter": "python",
   "pygments_lexer": "ipython3",
   "version": "3.4.3+"
  }
 },
 "nbformat": 4,
 "nbformat_minor": 0
}
