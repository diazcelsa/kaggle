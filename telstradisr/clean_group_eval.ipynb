{
 "cells": [
  {
   "cell_type": "markdown",
   "metadata": {},
   "source": [
    "# Kaggle Competiton | Telstra Network Disruptions\n",
    "\n",
    ">We need to build a model to efficiently predict Telstra network's fault severity at a time at a particular location based on the log data available. The log data is splited in several tables therefore we need first to aggregate the data in each table by time (id) and location and merge tables.\n",
    "\n",
    ">In order to build this model we first need to learn from the data (train data) which features could lead to one decission or the other. We will set up a protocol for processing data and it will be implemented in a pipeline.\n",
    "\n",
    ">Additionally, we will predict a model with this processed data using the Random Forest classifier and its default parameters. Finally, we will assess the sampling by performing Cross Validation and the predictions by plotting confusion matrices.\n",
    "\n",
    "Go to the official page of the [Kaggle Competition.](https://www.kaggle.com/c/telstra-recruiting-network)"
   ]
  },
  {
   "cell_type": "markdown",
   "metadata": {},
   "source": [
    "### Goal for this Notebook:\n",
    "* Aggregate data by time (id) and location in each table\n",
    "* Merge tables to collect all the features to learn from\n",
    "* Explore whether or not there are missing values\n",
    "* Explore how to preprocess the data \n",
    "* Explore sklearn classes and methods to process our data\n",
    "* Develope new classes and methods (data_modifier.py) and evaluate them to process data\n",
    "* Develope a protocol for processing data and include it into a pipeline\n",
    "* Generate a train and a test sets out of the initial given train data\n",
    "* Generate a model using processed data with Random Forest classifier and default parameters\n",
    "* Apply 3-fold Cross Validation to train dataset and perform the predictions in each case\n",
    "* Evaluate the models generated with a confussion matrix"
   ]
  },
  {
   "cell_type": "code",
   "execution_count": 1,
   "metadata": {
    "collapsed": false
   },
   "outputs": [
    {
     "name": "stderr",
     "output_type": "stream",
     "text": [
      "/usr/local/lib/python3.5/site-packages/sklearn/utils/fixes.py:64: DeprecationWarning: inspect.getargspec() is deprecated, use inspect.signature() instead\n",
      "  if 'order' in inspect.getargspec(np.copy)[0]:\n"
     ]
    }
   ],
   "source": [
    "import warnings; warnings.simplefilter('ignore')\n",
    "import pandas as pd\n",
    "import numpy as np\n",
    "import matplotlib.pyplot as plt\n",
    "from pandas import Series, DataFrame\n",
    "import seaborn as sns\n",
    "from sklearn import preprocessing\n",
    "from sklearn.feature_extraction import DictVectorizer\n",
    "from sklearn.preprocessing import Imputer\n",
    "from sklearn.ensemble import RandomForestClassifier\n",
    "from sklearn.metrics import confusion_matrix\n",
    "from sklearn.cross_validation import KFold\n",
    "from sklearn.cross_validation import train_test_split\n",
    "from scipy import stats\n",
    "from clean import *\n",
    "\n",
    "%matplotlib inline"
   ]
  },
  {
   "cell_type": "markdown",
   "metadata": {},
   "source": [
    "### 1. Handle Data"
   ]
  },
  {
   "cell_type": "markdown",
   "metadata": {
    "collapsed": true
   },
   "source": [
    "* Load and clean the data"
   ]
  },
  {
   "cell_type": "code",
   "execution_count": 3,
   "metadata": {
    "collapsed": true
   },
   "outputs": [],
   "source": [
    "event = pd.read_csv(\"../../../github_data/telstradisr_data/event_type.csv\")\n",
    "log = pd.read_csv(\"../../../github_data/telstradisr_data/log_feature.csv\")\n",
    "sample = pd.read_csv(\"../../../github_data/telstradisr_data/sample_submission.csv\")\n",
    "severity = pd.read_csv(\"../../../github_data/telstradisr_data/severity_type.csv\")\n",
    "resource = pd.read_csv(\"../../../github_data/telstradisr_data/resource_type.csv\")\n",
    "train = pd.read_csv(\"../../../github_data/telstradisr_data/train.csv\")\n",
    "test = pd.read_csv(\"../../../github_data/telstradisr_data/test.csv\")"
   ]
  },
  {
   "cell_type": "code",
   "execution_count": 4,
   "metadata": {
    "collapsed": true
   },
   "outputs": [],
   "source": [
    "event['event_type'] = event['event_type'].str.split(' ').str[1]\n",
    "log['log_feature'] = log['log_feature'].str.split(' ').str[1]\n",
    "severity['severity_type'] = severity['severity_type'].str.split(' ').str[1]\n",
    "resource['resource_type'] = resource['resource_type'].str.split(' ').str[1]\n",
    "test['location'] = test['location'].str.split(' ').str[1]\n",
    "train['location'] = train['location'].str.split(' ').str[1]"
   ]
  },
  {
   "cell_type": "markdown",
   "metadata": {},
   "source": [
    "* Each time/location entry is repeated in the log tables therefore we need to aggregate the values into a dictionary\n",
    "* Count each of the times the value is repeated since checked that they are actually repeated\n",
    "    - For each feature {value:count, value:count...}\n",
    "    - In the cases of two features per table, two dataframes are created, each for each feature"
   ]
  },
  {
   "cell_type": "code",
   "execution_count": 5,
   "metadata": {
    "collapsed": false
   },
   "outputs": [],
   "source": [
    "tables = [log,event,severity,resource] \n",
    "names = ['log','event','severity','resource'] \n",
    "for i in range(len(tables)):\n",
    "    check = unique_column(tables[i],tables[i].columns[-1])\n",
    "    \n",
    "    # AGGREGATE CATEGORICAL VALUES INTO A DICTIO\n",
    "    if check == False:\n",
    "        if len(tables[i].columns) == 2:\n",
    "            a = tables[i].groupby([tables[i].columns[-2],tables[i].columns[-1]]).agg({tables[i].columns[-1]:'count'})\n",
    "            a.index.names = ['id','cat']\n",
    "            a = a.reset_index()\n",
    "            a = a.set_index('cat')\n",
    "            \n",
    "            # check if any value is greater than 1\n",
    "            #l1 = a[tables[i].columns[-1]]\n",
    "            #l3 = a[tables[i].columns[-2]]\n",
    "            #for i in range(len(l1)):\n",
    "            #    if l3.iloc[i] != 1:\n",
    "            #        print('more than once',l3.iloc[i])\n",
    "                    \n",
    "            # take care that keys are still integers in the dict            \n",
    "            a = a.groupby('id').apply(lambda x: {int(k):int(v) for k,v in x.to_dict()[tables[i].columns[-1]].items()})\n",
    "            tables[i] = pd.DataFrame(a,columns=[tables[i].columns[-1]])\n",
    "            \n",
    "        elif len(tables[i].columns) == 3:\n",
    "            a = tables[i].groupby([tables[i].columns[-3],tables[i].columns[-2],tables[i].columns[-1]]).agg({tables[i].columns[-1]:'count',tables[i].columns[-2]:'count'})\n",
    "            a.index.names = ['id','cat1','cat2']\n",
    "            a = a.reset_index()\n",
    "            a = a.set_index('cat1')\n",
    "            b = a.set_index('cat2')\n",
    "            \n",
    "            # check if any value is greater than 1\n",
    "            #l1 = a[tables[i].columns[-1]]\n",
    "            #l2 = a[tables[i].columns[-3]]\n",
    "            #l3 = a[tables[i].columns[-2]]\n",
    "            #print(l1,l2,l3)\n",
    "            #for i in range(len(l1)):\n",
    "            #    if l1.iloc[i] != 1:\n",
    "            #        print('more than once',l2.iloc[i])\n",
    "            #for i in range(len(l3)):\n",
    "            #    if l3.iloc[i] != 1:\n",
    "            #        print('more than once',l2.iloc[i])\n",
    "        \n",
    "            # take care that keys are still integers in the dict\n",
    "            a = a.groupby('id').apply(lambda x: {int(k):int(v) for k,v in x.to_dict()[tables[i].columns[-1]].items()})\n",
    "            b = b.groupby('id').apply(lambda x: {int(k):int(v) for k,v in x.to_dict()[tables[i].columns[-2]].items()})\n",
    "            log1 = pd.DataFrame(a,columns=[tables[i].columns[-1]])\n",
    "            log2 = pd.DataFrame(b,columns=[tables[i].columns[-2]])\n",
    "event = tables[1]\n",
    "severity = tables[2]\n",
    "resource = tables[3]"
   ]
  },
  {
   "cell_type": "code",
   "execution_count": 6,
   "metadata": {
    "collapsed": false
   },
   "outputs": [
    {
     "data": {
      "text/html": [
       "<div>\n",
       "<table border=\"1\" class=\"dataframe\">\n",
       "  <thead>\n",
       "    <tr style=\"text-align: right;\">\n",
       "      <th></th>\n",
       "      <th>volume</th>\n",
       "    </tr>\n",
       "    <tr>\n",
       "      <th>id</th>\n",
       "      <th></th>\n",
       "    </tr>\n",
       "  </thead>\n",
       "  <tbody>\n",
       "    <tr>\n",
       "      <th>1</th>\n",
       "      <td>{345: 1, 179: 1, 68: 1}</td>\n",
       "    </tr>\n",
       "    <tr>\n",
       "      <th>2</th>\n",
       "      <td>{312: 1, 313: 1, 315: 1, 235: 1, 233: 1}</td>\n",
       "    </tr>\n",
       "    <tr>\n",
       "      <th>3</th>\n",
       "      <td>{171: 1}</td>\n",
       "    </tr>\n",
       "    <tr>\n",
       "      <th>4</th>\n",
       "      <td>{370: 1}</td>\n",
       "    </tr>\n",
       "    <tr>\n",
       "      <th>5</th>\n",
       "      <td>{232: 1, 312: 1}</td>\n",
       "    </tr>\n",
       "  </tbody>\n",
       "</table>\n",
       "</div>"
      ],
      "text/plain": [
       "                                      volume\n",
       "id                                          \n",
       "1                    {345: 1, 179: 1, 68: 1}\n",
       "2   {312: 1, 313: 1, 315: 1, 235: 1, 233: 1}\n",
       "3                                   {171: 1}\n",
       "4                                   {370: 1}\n",
       "5                           {232: 1, 312: 1}"
      ]
     },
     "execution_count": 6,
     "metadata": {},
     "output_type": "execute_result"
    }
   ],
   "source": [
    "log1.head()"
   ]
  },
  {
   "cell_type": "code",
   "execution_count": 7,
   "metadata": {
    "collapsed": false
   },
   "outputs": [
    {
     "data": {
      "text/html": [
       "<div>\n",
       "<table border=\"1\" class=\"dataframe\">\n",
       "  <thead>\n",
       "    <tr style=\"text-align: right;\">\n",
       "      <th></th>\n",
       "      <th>event_type</th>\n",
       "    </tr>\n",
       "    <tr>\n",
       "      <th>id</th>\n",
       "      <th></th>\n",
       "    </tr>\n",
       "  </thead>\n",
       "  <tbody>\n",
       "    <tr>\n",
       "      <th>1</th>\n",
       "      <td>{11: 1, 13: 1}</td>\n",
       "    </tr>\n",
       "    <tr>\n",
       "      <th>2</th>\n",
       "      <td>{34: 1, 35: 1}</td>\n",
       "    </tr>\n",
       "    <tr>\n",
       "      <th>3</th>\n",
       "      <td>{11: 1}</td>\n",
       "    </tr>\n",
       "    <tr>\n",
       "      <th>4</th>\n",
       "      <td>{47: 1}</td>\n",
       "    </tr>\n",
       "    <tr>\n",
       "      <th>5</th>\n",
       "      <td>{34: 1, 35: 1}</td>\n",
       "    </tr>\n",
       "  </tbody>\n",
       "</table>\n",
       "</div>"
      ],
      "text/plain": [
       "        event_type\n",
       "id                \n",
       "1   {11: 1, 13: 1}\n",
       "2   {34: 1, 35: 1}\n",
       "3          {11: 1}\n",
       "4          {47: 1}\n",
       "5   {34: 1, 35: 1}"
      ]
     },
     "execution_count": 7,
     "metadata": {},
     "output_type": "execute_result"
    }
   ],
   "source": [
    "event.head()"
   ]
  },
  {
   "cell_type": "markdown",
   "metadata": {},
   "source": [
    "* Merge tables to generate train and test datasets with the same features"
   ]
  },
  {
   "cell_type": "code",
   "execution_count": 8,
   "metadata": {
    "collapsed": false
   },
   "outputs": [
    {
     "data": {
      "text/html": [
       "<div>\n",
       "<table border=\"1\" class=\"dataframe\">\n",
       "  <thead>\n",
       "    <tr style=\"text-align: right;\">\n",
       "      <th></th>\n",
       "      <th>id</th>\n",
       "      <th>location</th>\n",
       "      <th>fault_severity</th>\n",
       "      <th>event_type</th>\n",
       "      <th>severity_type</th>\n",
       "      <th>resource_type</th>\n",
       "      <th>volume</th>\n",
       "      <th>log_feature</th>\n",
       "    </tr>\n",
       "  </thead>\n",
       "  <tbody>\n",
       "    <tr>\n",
       "      <th>0</th>\n",
       "      <td>14121</td>\n",
       "      <td>118</td>\n",
       "      <td>1</td>\n",
       "      <td>{34: 1, 35: 1}</td>\n",
       "      <td>{2: 1}</td>\n",
       "      <td>{2: 1}</td>\n",
       "      <td>{232: 1, 312: 1}</td>\n",
       "      <td>{19: 1}</td>\n",
       "    </tr>\n",
       "    <tr>\n",
       "      <th>1</th>\n",
       "      <td>9320</td>\n",
       "      <td>91</td>\n",
       "      <td>0</td>\n",
       "      <td>{34: 1, 35: 1}</td>\n",
       "      <td>{2: 1}</td>\n",
       "      <td>{2: 1}</td>\n",
       "      <td>{315: 1, 235: 1}</td>\n",
       "      <td>{200: 1, 116: 1}</td>\n",
       "    </tr>\n",
       "    <tr>\n",
       "      <th>2</th>\n",
       "      <td>14394</td>\n",
       "      <td>152</td>\n",
       "      <td>1</td>\n",
       "      <td>{34: 1, 35: 1}</td>\n",
       "      <td>{2: 1}</td>\n",
       "      <td>{2: 1}</td>\n",
       "      <td>{301: 1, 221: 1}</td>\n",
       "      <td>{1: 1}</td>\n",
       "    </tr>\n",
       "    <tr>\n",
       "      <th>3</th>\n",
       "      <td>8218</td>\n",
       "      <td>931</td>\n",
       "      <td>1</td>\n",
       "      <td>{11: 1, 15: 1}</td>\n",
       "      <td>{1: 1}</td>\n",
       "      <td>{8: 1}</td>\n",
       "      <td>{80: 1, 82: 1, 203: 1}</td>\n",
       "      <td>{1: 1, 12: 1, 9: 1}</td>\n",
       "    </tr>\n",
       "    <tr>\n",
       "      <th>4</th>\n",
       "      <td>14804</td>\n",
       "      <td>120</td>\n",
       "      <td>0</td>\n",
       "      <td>{36: 1, 34: 1, 11: 1, 20: 1}</td>\n",
       "      <td>{1: 1}</td>\n",
       "      <td>{8: 1, 2: 1}</td>\n",
       "      <td>{160: 1, 181: 1, 227: 1, 117: 1, 134: 1, 232: ...</td>\n",
       "      <td>{1: 1, 2: 1}</td>\n",
       "    </tr>\n",
       "  </tbody>\n",
       "</table>\n",
       "</div>"
      ],
      "text/plain": [
       "      id location  fault_severity                    event_type severity_type  \\\n",
       "0  14121      118               1                {34: 1, 35: 1}        {2: 1}   \n",
       "1   9320       91               0                {34: 1, 35: 1}        {2: 1}   \n",
       "2  14394      152               1                {34: 1, 35: 1}        {2: 1}   \n",
       "3   8218      931               1                {11: 1, 15: 1}        {1: 1}   \n",
       "4  14804      120               0  {36: 1, 34: 1, 11: 1, 20: 1}        {1: 1}   \n",
       "\n",
       "  resource_type                                             volume  \\\n",
       "0        {2: 1}                                   {232: 1, 312: 1}   \n",
       "1        {2: 1}                                   {315: 1, 235: 1}   \n",
       "2        {2: 1}                                   {301: 1, 221: 1}   \n",
       "3        {8: 1}                             {80: 1, 82: 1, 203: 1}   \n",
       "4  {8: 1, 2: 1}  {160: 1, 181: 1, 227: 1, 117: 1, 134: 1, 232: ...   \n",
       "\n",
       "           log_feature  \n",
       "0              {19: 1}  \n",
       "1     {200: 1, 116: 1}  \n",
       "2               {1: 1}  \n",
       "3  {1: 1, 12: 1, 9: 1}  \n",
       "4         {1: 1, 2: 1}  "
      ]
     },
     "execution_count": 8,
     "metadata": {},
     "output_type": "execute_result"
    }
   ],
   "source": [
    "train = train.merge(event, left_on='id', right_index=True, how='left')\n",
    "train = train.merge(severity, left_on='id', right_index=True, how='left')\n",
    "train = train.merge(resource, left_on='id', right_index=True, how='left')\n",
    "train = train.merge(log1, left_on='id', right_index=True, how='left')\n",
    "train = train.merge(log2, left_on='id', right_index=True, how='left')\n",
    "train.head()"
   ]
  },
  {
   "cell_type": "code",
   "execution_count": 9,
   "metadata": {
    "collapsed": false
   },
   "outputs": [
    {
     "data": {
      "text/html": [
       "<div>\n",
       "<table border=\"1\" class=\"dataframe\">\n",
       "  <thead>\n",
       "    <tr style=\"text-align: right;\">\n",
       "      <th></th>\n",
       "      <th>id</th>\n",
       "      <th>location</th>\n",
       "      <th>event_type</th>\n",
       "      <th>severity_type</th>\n",
       "      <th>resource_type</th>\n",
       "      <th>volume</th>\n",
       "      <th>log_feature</th>\n",
       "    </tr>\n",
       "  </thead>\n",
       "  <tbody>\n",
       "    <tr>\n",
       "      <th>0</th>\n",
       "      <td>11066</td>\n",
       "      <td>481</td>\n",
       "      <td>{34: 1, 35: 1}</td>\n",
       "      <td>{2: 1}</td>\n",
       "      <td>{2: 1}</td>\n",
       "      <td>{308: 1, 228: 1, 310: 1, 230: 1}</td>\n",
       "      <td>{24: 1, 20: 1, 26: 1, 28: 1}</td>\n",
       "    </tr>\n",
       "    <tr>\n",
       "      <th>1</th>\n",
       "      <td>18000</td>\n",
       "      <td>962</td>\n",
       "      <td>{11: 1, 15: 1}</td>\n",
       "      <td>{1: 1}</td>\n",
       "      <td>{8: 1}</td>\n",
       "      <td>{82: 1, 203: 1}</td>\n",
       "      <td>{9: 1, 20: 1}</td>\n",
       "    </tr>\n",
       "    <tr>\n",
       "      <th>2</th>\n",
       "      <td>16964</td>\n",
       "      <td>491</td>\n",
       "      <td>{34: 1, 35: 1}</td>\n",
       "      <td>{2: 1}</td>\n",
       "      <td>{2: 1}</td>\n",
       "      <td>{315: 1, 235: 1}</td>\n",
       "      <td>{10: 1, 11: 1}</td>\n",
       "    </tr>\n",
       "    <tr>\n",
       "      <th>3</th>\n",
       "      <td>4795</td>\n",
       "      <td>532</td>\n",
       "      <td>{10: 1, 27: 1}</td>\n",
       "      <td>{5: 1}</td>\n",
       "      <td>{9: 1, 3: 1}</td>\n",
       "      <td>{240: 1, 37: 1, 38: 1}</td>\n",
       "      <td>{1: 1}</td>\n",
       "    </tr>\n",
       "    <tr>\n",
       "      <th>4</th>\n",
       "      <td>3392</td>\n",
       "      <td>600</td>\n",
       "      <td>{15: 1}</td>\n",
       "      <td>{2: 1}</td>\n",
       "      <td>{8: 1}</td>\n",
       "      <td>{82: 1, 203: 1}</td>\n",
       "      <td>{2: 1, 6: 1}</td>\n",
       "    </tr>\n",
       "  </tbody>\n",
       "</table>\n",
       "</div>"
      ],
      "text/plain": [
       "      id location      event_type severity_type resource_type  \\\n",
       "0  11066      481  {34: 1, 35: 1}        {2: 1}        {2: 1}   \n",
       "1  18000      962  {11: 1, 15: 1}        {1: 1}        {8: 1}   \n",
       "2  16964      491  {34: 1, 35: 1}        {2: 1}        {2: 1}   \n",
       "3   4795      532  {10: 1, 27: 1}        {5: 1}  {9: 1, 3: 1}   \n",
       "4   3392      600         {15: 1}        {2: 1}        {8: 1}   \n",
       "\n",
       "                             volume                   log_feature  \n",
       "0  {308: 1, 228: 1, 310: 1, 230: 1}  {24: 1, 20: 1, 26: 1, 28: 1}  \n",
       "1                   {82: 1, 203: 1}                 {9: 1, 20: 1}  \n",
       "2                  {315: 1, 235: 1}                {10: 1, 11: 1}  \n",
       "3            {240: 1, 37: 1, 38: 1}                        {1: 1}  \n",
       "4                   {82: 1, 203: 1}                  {2: 1, 6: 1}  "
      ]
     },
     "execution_count": 9,
     "metadata": {},
     "output_type": "execute_result"
    }
   ],
   "source": [
    "test = test.merge(event, left_on='id', right_index=True, how='left')\n",
    "test = test.merge(severity, left_on='id', right_index=True, how='left')\n",
    "test = test.merge(resource, left_on='id', right_index=True, how='left')\n",
    "test = test.merge(log1, left_on='id', right_index=True, how='left')\n",
    "test = test.merge(log2, left_on='id', right_index=True, how='left')\n",
    "test.head()"
   ]
  },
  {
   "cell_type": "markdown",
   "metadata": {},
   "source": [
    "* Use train data to generate train and test datasets and evaluate the data"
   ]
  },
  {
   "cell_type": "code",
   "execution_count": 10,
   "metadata": {
    "collapsed": false
   },
   "outputs": [],
   "source": [
    "tr_a, te_a = train_test_split(train, train_size = 0.8)\n",
    "y_train = tr_a.fault_severity\n",
    "y_test = te_a.fault_severity\n",
    "columns = train.columns\n",
    "x_train = tr_a[columns[3:]]\n",
    "x_test = te_a[columns[3:]]"
   ]
  },
  {
   "cell_type": "code",
   "execution_count": 11,
   "metadata": {
    "collapsed": false
   },
   "outputs": [
    {
     "data": {
      "text/plain": [
       "id               0\n",
       "location         0\n",
       "event_type       0\n",
       "severity_type    0\n",
       "resource_type    0\n",
       "volume           0\n",
       "log_feature      0\n",
       "dtype: int64"
      ]
     },
     "execution_count": 11,
     "metadata": {},
     "output_type": "execute_result"
    }
   ],
   "source": [
    "## check if null values\n",
    "tr_a.isnull().sum()\n",
    "te_a.isnull().sum()\n",
    "test.isnull().sum()"
   ]
  },
  {
   "cell_type": "code",
   "execution_count": 12,
   "metadata": {
    "collapsed": false
   },
   "outputs": [
    {
     "name": "stdout",
     "output_type": "stream",
     "text": [
      "False False\n"
     ]
    }
   ],
   "source": [
    "## check if nan values\n",
    "nantr = ifNaN(x_train)\n",
    "nante = ifNaN(x_test)\n",
    "print(nantr,nante)"
   ]
  },
  {
   "cell_type": "code",
   "execution_count": 13,
   "metadata": {
    "collapsed": false
   },
   "outputs": [
    {
     "data": {
      "text/html": [
       "<div>\n",
       "<table border=\"1\" class=\"dataframe\">\n",
       "  <thead>\n",
       "    <tr style=\"text-align: right;\">\n",
       "      <th></th>\n",
       "      <th>event_type</th>\n",
       "      <th>severity_type</th>\n",
       "      <th>resource_type</th>\n",
       "      <th>volume</th>\n",
       "      <th>log_feature</th>\n",
       "    </tr>\n",
       "  </thead>\n",
       "  <tbody>\n",
       "    <tr>\n",
       "      <th>642</th>\n",
       "      <td>{11: 1}</td>\n",
       "      <td>{2: 1}</td>\n",
       "      <td>{8: 1}</td>\n",
       "      <td>{160: 1, 44: 1}</td>\n",
       "      <td>{1: 1}</td>\n",
       "    </tr>\n",
       "    <tr>\n",
       "      <th>6340</th>\n",
       "      <td>{34: 1, 35: 1}</td>\n",
       "      <td>{2: 1}</td>\n",
       "      <td>{2: 1}</td>\n",
       "      <td>{232: 1, 312: 1}</td>\n",
       "      <td>{20: 1, 28: 1}</td>\n",
       "    </tr>\n",
       "    <tr>\n",
       "      <th>942</th>\n",
       "      <td>{11: 1, 15: 1}</td>\n",
       "      <td>{1: 1}</td>\n",
       "      <td>{8: 1}</td>\n",
       "      <td>{193: 1, 82: 1, 203: 1, 71: 1}</td>\n",
       "      <td>{1: 1, 2: 1, 12: 1, 20: 1}</td>\n",
       "    </tr>\n",
       "    <tr>\n",
       "      <th>5296</th>\n",
       "      <td>{34: 1, 35: 1}</td>\n",
       "      <td>{2: 1}</td>\n",
       "      <td>{2: 1}</td>\n",
       "      <td>{232: 1, 312: 1}</td>\n",
       "      <td>{1: 1, 2: 1}</td>\n",
       "    </tr>\n",
       "    <tr>\n",
       "      <th>5720</th>\n",
       "      <td>{34: 1, 35: 1}</td>\n",
       "      <td>{2: 1}</td>\n",
       "      <td>{2: 1}</td>\n",
       "      <td>{232: 1, 233: 1, 313: 1, 312: 1}</td>\n",
       "      <td>{1: 1, 116: 1, 65: 1}</td>\n",
       "    </tr>\n",
       "  </tbody>\n",
       "</table>\n",
       "</div>"
      ],
      "text/plain": [
       "          event_type severity_type resource_type  \\\n",
       "642          {11: 1}        {2: 1}        {8: 1}   \n",
       "6340  {34: 1, 35: 1}        {2: 1}        {2: 1}   \n",
       "942   {11: 1, 15: 1}        {1: 1}        {8: 1}   \n",
       "5296  {34: 1, 35: 1}        {2: 1}        {2: 1}   \n",
       "5720  {34: 1, 35: 1}        {2: 1}        {2: 1}   \n",
       "\n",
       "                                volume                 log_feature  \n",
       "642                    {160: 1, 44: 1}                      {1: 1}  \n",
       "6340                  {232: 1, 312: 1}              {20: 1, 28: 1}  \n",
       "942     {193: 1, 82: 1, 203: 1, 71: 1}  {1: 1, 2: 1, 12: 1, 20: 1}  \n",
       "5296                  {232: 1, 312: 1}                {1: 1, 2: 1}  \n",
       "5720  {232: 1, 233: 1, 313: 1, 312: 1}       {1: 1, 116: 1, 65: 1}  "
      ]
     },
     "execution_count": 13,
     "metadata": {},
     "output_type": "execute_result"
    }
   ],
   "source": [
    "x_train.head()"
   ]
  },
  {
   "cell_type": "code",
   "execution_count": 14,
   "metadata": {
    "collapsed": false
   },
   "outputs": [
    {
     "data": {
      "text/html": [
       "<div>\n",
       "<table border=\"1\" class=\"dataframe\">\n",
       "  <thead>\n",
       "    <tr style=\"text-align: right;\">\n",
       "      <th></th>\n",
       "      <th>event_type</th>\n",
       "      <th>severity_type</th>\n",
       "      <th>resource_type</th>\n",
       "      <th>volume</th>\n",
       "      <th>log_feature</th>\n",
       "    </tr>\n",
       "  </thead>\n",
       "  <tbody>\n",
       "    <tr>\n",
       "      <th>4924</th>\n",
       "      <td>{11: 1}</td>\n",
       "      <td>{1: 1}</td>\n",
       "      <td>{8: 1}</td>\n",
       "      <td>{87: 1}</td>\n",
       "      <td>{3: 1}</td>\n",
       "    </tr>\n",
       "    <tr>\n",
       "      <th>4335</th>\n",
       "      <td>{34: 1, 35: 1}</td>\n",
       "      <td>{2: 1}</td>\n",
       "      <td>{2: 1}</td>\n",
       "      <td>{233: 1, 315: 1, 313: 1}</td>\n",
       "      <td>{1: 1}</td>\n",
       "    </tr>\n",
       "    <tr>\n",
       "      <th>823</th>\n",
       "      <td>{35: 1}</td>\n",
       "      <td>{4: 1}</td>\n",
       "      <td>{2: 1}</td>\n",
       "      <td>{313: 1, 315: 1}</td>\n",
       "      <td>{1: 1}</td>\n",
       "    </tr>\n",
       "    <tr>\n",
       "      <th>5752</th>\n",
       "      <td>{11: 1}</td>\n",
       "      <td>{1: 1}</td>\n",
       "      <td>{8: 1}</td>\n",
       "      <td>{171: 1, 55: 1}</td>\n",
       "      <td>{2: 1}</td>\n",
       "    </tr>\n",
       "    <tr>\n",
       "      <th>2726</th>\n",
       "      <td>{34: 1, 35: 1}</td>\n",
       "      <td>{2: 1}</td>\n",
       "      <td>{2: 1}</td>\n",
       "      <td>{232: 1, 307: 1, 227: 1, 312: 1, 233: 1, 235: ...</td>\n",
       "      <td>{20: 1, 5: 1, 6: 1, 7: 1, 10: 1, 15: 1}</td>\n",
       "    </tr>\n",
       "  </tbody>\n",
       "</table>\n",
       "</div>"
      ],
      "text/plain": [
       "          event_type severity_type resource_type  \\\n",
       "4924         {11: 1}        {1: 1}        {8: 1}   \n",
       "4335  {34: 1, 35: 1}        {2: 1}        {2: 1}   \n",
       "823          {35: 1}        {4: 1}        {2: 1}   \n",
       "5752         {11: 1}        {1: 1}        {8: 1}   \n",
       "2726  {34: 1, 35: 1}        {2: 1}        {2: 1}   \n",
       "\n",
       "                                                 volume  \\\n",
       "4924                                            {87: 1}   \n",
       "4335                           {233: 1, 315: 1, 313: 1}   \n",
       "823                                    {313: 1, 315: 1}   \n",
       "5752                                    {171: 1, 55: 1}   \n",
       "2726  {232: 1, 307: 1, 227: 1, 312: 1, 233: 1, 235: ...   \n",
       "\n",
       "                                  log_feature  \n",
       "4924                                   {3: 1}  \n",
       "4335                                   {1: 1}  \n",
       "823                                    {1: 1}  \n",
       "5752                                   {2: 1}  \n",
       "2726  {20: 1, 5: 1, 6: 1, 7: 1, 10: 1, 15: 1}  "
      ]
     },
     "execution_count": 14,
     "metadata": {},
     "output_type": "execute_result"
    }
   ],
   "source": [
    "x_test.head()"
   ]
  },
  {
   "cell_type": "code",
   "execution_count": 15,
   "metadata": {
    "collapsed": false
   },
   "outputs": [
    {
     "data": {
      "text/plain": [
       "(5904, 5)"
      ]
     },
     "execution_count": 15,
     "metadata": {},
     "output_type": "execute_result"
    }
   ],
   "source": [
    "x_train.shape"
   ]
  },
  {
   "cell_type": "markdown",
   "metadata": {},
   "source": [
    "### 2. Analyze Data\n",
    "* Generate a pipeline using DictVectorizer from Sklearn\n",
    "* Apply for each column and generate one feature per category in each column\n",
    "* Generate a quick and dirty first prediction using Random Forest classifier with default parameters"
   ]
  },
  {
   "cell_type": "code",
   "execution_count": 16,
   "metadata": {
    "collapsed": false
   },
   "outputs": [
    {
     "name": "stdout",
     "output_type": "stream",
     "text": [
      "pipeline done.\n",
      "DataSpliterTrans fit done.\n",
      "DataSpliterTrans transform done.\n",
      "DataSpliterTrans fit done.\n",
      "DataSpliterTrans transform done.\n",
      "DataSpliterTrans fit done.\n",
      "DataSpliterTrans transform done.\n",
      "DataSpliterTrans fit done.\n",
      "DataSpliterTrans transform done.\n",
      "DataSpliterTrans fit done.\n",
      "DataSpliterTrans transform done.\n"
     ]
    },
    {
     "name": "stderr",
     "output_type": "stream",
     "text": [
      "/usr/local/lib/python3.5/site-packages/sklearn/base.py:175: DeprecationWarning: inspect.getargspec() is deprecated, use inspect.signature() instead\n",
      "  args, varargs, kw, default = inspect.getargspec(init)\n",
      "/usr/local/lib/python3.5/site-packages/sklearn/base.py:175: DeprecationWarning: inspect.getargspec() is deprecated, use inspect.signature() instead\n",
      "  args, varargs, kw, default = inspect.getargspec(init)\n",
      "/usr/local/lib/python3.5/site-packages/sklearn/base.py:175: DeprecationWarning: inspect.getargspec() is deprecated, use inspect.signature() instead\n",
      "  args, varargs, kw, default = inspect.getargspec(init)\n",
      "/usr/local/lib/python3.5/site-packages/sklearn/base.py:175: DeprecationWarning: inspect.getargspec() is deprecated, use inspect.signature() instead\n",
      "  args, varargs, kw, default = inspect.getargspec(init)\n",
      "/usr/local/lib/python3.5/site-packages/sklearn/base.py:175: DeprecationWarning: inspect.getargspec() is deprecated, use inspect.signature() instead\n",
      "  args, varargs, kw, default = inspect.getargspec(init)\n",
      "/usr/local/lib/python3.5/site-packages/sklearn/base.py:175: DeprecationWarning: inspect.getargspec() is deprecated, use inspect.signature() instead\n",
      "  args, varargs, kw, default = inspect.getargspec(init)\n",
      "/usr/local/lib/python3.5/site-packages/sklearn/base.py:175: DeprecationWarning: inspect.getargspec() is deprecated, use inspect.signature() instead\n",
      "  args, varargs, kw, default = inspect.getargspec(init)\n",
      "/usr/local/lib/python3.5/site-packages/sklearn/base.py:175: DeprecationWarning: inspect.getargspec() is deprecated, use inspect.signature() instead\n",
      "  args, varargs, kw, default = inspect.getargspec(init)\n",
      "/usr/local/lib/python3.5/site-packages/sklearn/base.py:175: DeprecationWarning: inspect.getargspec() is deprecated, use inspect.signature() instead\n",
      "  args, varargs, kw, default = inspect.getargspec(init)\n",
      "/usr/local/lib/python3.5/site-packages/sklearn/base.py:175: DeprecationWarning: inspect.getargspec() is deprecated, use inspect.signature() instead\n",
      "  args, varargs, kw, default = inspect.getargspec(init)\n",
      "/usr/local/lib/python3.5/site-packages/sklearn/base.py:175: DeprecationWarning: inspect.getargspec() is deprecated, use inspect.signature() instead\n",
      "  args, varargs, kw, default = inspect.getargspec(init)\n",
      "/usr/local/lib/python3.5/site-packages/sklearn/base.py:175: DeprecationWarning: inspect.getargspec() is deprecated, use inspect.signature() instead\n",
      "  args, varargs, kw, default = inspect.getargspec(init)\n",
      "/usr/local/lib/python3.5/site-packages/sklearn/base.py:175: DeprecationWarning: inspect.getargspec() is deprecated, use inspect.signature() instead\n",
      "  args, varargs, kw, default = inspect.getargspec(init)\n",
      "/usr/local/lib/python3.5/site-packages/sklearn/base.py:175: DeprecationWarning: inspect.getargspec() is deprecated, use inspect.signature() instead\n",
      "  args, varargs, kw, default = inspect.getargspec(init)\n",
      "/usr/local/lib/python3.5/site-packages/sklearn/base.py:175: DeprecationWarning: inspect.getargspec() is deprecated, use inspect.signature() instead\n",
      "  args, varargs, kw, default = inspect.getargspec(init)\n",
      "/usr/local/lib/python3.5/site-packages/sklearn/base.py:175: DeprecationWarning: inspect.getargspec() is deprecated, use inspect.signature() instead\n",
      "  args, varargs, kw, default = inspect.getargspec(init)\n",
      "/usr/local/lib/python3.5/site-packages/sklearn/base.py:175: DeprecationWarning: inspect.getargspec() is deprecated, use inspect.signature() instead\n",
      "  args, varargs, kw, default = inspect.getargspec(init)\n",
      "/usr/local/lib/python3.5/site-packages/sklearn/base.py:175: DeprecationWarning: inspect.getargspec() is deprecated, use inspect.signature() instead\n",
      "  args, varargs, kw, default = inspect.getargspec(init)\n",
      "/usr/local/lib/python3.5/site-packages/sklearn/base.py:175: DeprecationWarning: inspect.getargspec() is deprecated, use inspect.signature() instead\n",
      "  args, varargs, kw, default = inspect.getargspec(init)\n",
      "/usr/local/lib/python3.5/site-packages/sklearn/base.py:175: DeprecationWarning: inspect.getargspec() is deprecated, use inspect.signature() instead\n",
      "  args, varargs, kw, default = inspect.getargspec(init)\n",
      "/usr/local/lib/python3.5/site-packages/sklearn/base.py:175: DeprecationWarning: inspect.getargspec() is deprecated, use inspect.signature() instead\n",
      "  args, varargs, kw, default = inspect.getargspec(init)\n",
      "/usr/local/lib/python3.5/site-packages/sklearn/base.py:175: DeprecationWarning: inspect.getargspec() is deprecated, use inspect.signature() instead\n",
      "  args, varargs, kw, default = inspect.getargspec(init)\n",
      "/usr/local/lib/python3.5/site-packages/sklearn/base.py:175: DeprecationWarning: inspect.getargspec() is deprecated, use inspect.signature() instead\n",
      "  args, varargs, kw, default = inspect.getargspec(init)\n",
      "/usr/local/lib/python3.5/site-packages/sklearn/base.py:175: DeprecationWarning: inspect.getargspec() is deprecated, use inspect.signature() instead\n",
      "  args, varargs, kw, default = inspect.getargspec(init)\n",
      "/usr/local/lib/python3.5/site-packages/sklearn/base.py:175: DeprecationWarning: inspect.getargspec() is deprecated, use inspect.signature() instead\n",
      "  args, varargs, kw, default = inspect.getargspec(init)\n",
      "/usr/local/lib/python3.5/site-packages/sklearn/base.py:175: DeprecationWarning: inspect.getargspec() is deprecated, use inspect.signature() instead\n",
      "  args, varargs, kw, default = inspect.getargspec(init)\n",
      "/usr/local/lib/python3.5/site-packages/sklearn/base.py:175: DeprecationWarning: inspect.getargspec() is deprecated, use inspect.signature() instead\n",
      "  args, varargs, kw, default = inspect.getargspec(init)\n",
      "/usr/local/lib/python3.5/site-packages/sklearn/base.py:175: DeprecationWarning: inspect.getargspec() is deprecated, use inspect.signature() instead\n",
      "  args, varargs, kw, default = inspect.getargspec(init)\n",
      "/usr/local/lib/python3.5/site-packages/sklearn/base.py:175: DeprecationWarning: inspect.getargspec() is deprecated, use inspect.signature() instead\n",
      "  args, varargs, kw, default = inspect.getargspec(init)\n",
      "/usr/local/lib/python3.5/site-packages/sklearn/base.py:175: DeprecationWarning: inspect.getargspec() is deprecated, use inspect.signature() instead\n",
      "  args, varargs, kw, default = inspect.getargspec(init)\n",
      "/usr/local/lib/python3.5/site-packages/sklearn/base.py:175: DeprecationWarning: inspect.getargspec() is deprecated, use inspect.signature() instead\n",
      "  args, varargs, kw, default = inspect.getargspec(init)\n",
      "/usr/local/lib/python3.5/site-packages/sklearn/base.py:175: DeprecationWarning: inspect.getargspec() is deprecated, use inspect.signature() instead\n",
      "  args, varargs, kw, default = inspect.getargspec(init)\n",
      "/usr/local/lib/python3.5/site-packages/sklearn/base.py:175: DeprecationWarning: inspect.getargspec() is deprecated, use inspect.signature() instead\n",
      "  args, varargs, kw, default = inspect.getargspec(init)\n",
      "/usr/local/lib/python3.5/site-packages/sklearn/base.py:175: DeprecationWarning: inspect.getargspec() is deprecated, use inspect.signature() instead\n",
      "  args, varargs, kw, default = inspect.getargspec(init)\n",
      "/usr/local/lib/python3.5/site-packages/sklearn/base.py:175: DeprecationWarning: inspect.getargspec() is deprecated, use inspect.signature() instead\n",
      "  args, varargs, kw, default = inspect.getargspec(init)\n",
      "/usr/local/lib/python3.5/site-packages/sklearn/base.py:175: DeprecationWarning: inspect.getargspec() is deprecated, use inspect.signature() instead\n",
      "  args, varargs, kw, default = inspect.getargspec(init)\n",
      "/usr/local/lib/python3.5/site-packages/sklearn/base.py:175: DeprecationWarning: inspect.getargspec() is deprecated, use inspect.signature() instead\n",
      "  args, varargs, kw, default = inspect.getargspec(init)\n",
      "/usr/local/lib/python3.5/site-packages/sklearn/base.py:175: DeprecationWarning: inspect.getargspec() is deprecated, use inspect.signature() instead\n",
      "  args, varargs, kw, default = inspect.getargspec(init)\n",
      "/usr/local/lib/python3.5/site-packages/sklearn/base.py:175: DeprecationWarning: inspect.getargspec() is deprecated, use inspect.signature() instead\n",
      "  args, varargs, kw, default = inspect.getargspec(init)\n",
      "/usr/local/lib/python3.5/site-packages/sklearn/base.py:175: DeprecationWarning: inspect.getargspec() is deprecated, use inspect.signature() instead\n",
      "  args, varargs, kw, default = inspect.getargspec(init)\n"
     ]
    }
   ],
   "source": [
    "call = PipelineTelstra(RandomForestClassifier)\n",
    "call.set_params()\n",
    "call = call.fit(x_train,y_train)"
   ]
  },
  {
   "cell_type": "code",
   "execution_count": 17,
   "metadata": {
    "collapsed": false
   },
   "outputs": [
    {
     "name": "stdout",
     "output_type": "stream",
     "text": [
      "DataSpliterTrans transform done.\n",
      "DataSpliterTrans transform done.\n",
      "DataSpliterTrans transform done.\n",
      "DataSpliterTrans transform done.\n",
      "DataSpliterTrans transform done.\n"
     ]
    }
   ],
   "source": [
    "y_predict = call.predict(x_test)"
   ]
  },
  {
   "cell_type": "markdown",
   "metadata": {},
   "source": [
    "### 3. Evaluate model\n",
    "* Evaluate the prediction by creating a confussion matrix\n",
    "* Plot by a heatmap"
   ]
  },
  {
   "cell_type": "code",
   "execution_count": 18,
   "metadata": {
    "collapsed": false
   },
   "outputs": [
    {
     "data": {
      "text/plain": [
       "array([[819, 110,  25],\n",
       "       [176, 183,  30],\n",
       "       [ 29,  42,  63]])"
      ]
     },
     "execution_count": 18,
     "metadata": {},
     "output_type": "execute_result"
    }
   ],
   "source": [
    "cm1 = confusion_matrix(y_test,y_predict)\n",
    "cm1"
   ]
  },
  {
   "cell_type": "code",
   "execution_count": 19,
   "metadata": {
    "collapsed": false
   },
   "outputs": [
    {
     "data": {
      "text/plain": [
       "<matplotlib.text.Text at 0x109f6fa20>"
      ]
     },
     "execution_count": 19,
     "metadata": {},
     "output_type": "execute_result"
    },
    {
     "data": {
      "image/png": "[encoded data removed]",
      "text/plain": [
       "<matplotlib.figure.Figure at 0x10a6644e0>"
      ]
     },
     "metadata": {},
     "output_type": "display_data"
    }
   ],
   "source": [
    "ax = sns.heatmap(cm1)\n",
    "ax.set_title('confusion matrix 1')"
   ]
  },
  {
   "cell_type": "code",
   "execution_count": null,
   "metadata": {
    "collapsed": true
   },
   "outputs": [],
   "source": [
    "fig = ax.get_figure()\n",
    "fig.savefig(\"cm1_preCV.png\")"
   ]
  },
  {
   "cell_type": "markdown",
   "metadata": {},
   "source": [
    "* Evaluate the predictions with 3-Fold Cross Validation"
   ]
  },
  {
   "cell_type": "code",
   "execution_count": null,
   "metadata": {
    "collapsed": true
   },
   "outputs": [],
   "source": [
    "x_train.shape"
   ]
  },
  {
   "cell_type": "code",
   "execution_count": null,
   "metadata": {
    "collapsed": false
   },
   "outputs": [],
   "source": [
    "kf = KFold(5904, n_folds=3)\n",
    "itr = defaultdict(list)\n",
    "ite = defaultdict(list)\n",
    "c = 0\n",
    "for trai, tes in kf:\n",
    "    print(\"%s %s\" % (trai, tes))\n",
    "    itr[c] = trai\n",
    "    ite[c] = tes\n",
    "    c += 1"
   ]
  },
  {
   "cell_type": "markdown",
   "metadata": {},
   "source": [
    "#### 3.1. Data Set 1\n",
    "* Select the data\n",
    "* Perform the prediction\n",
    "* Plot the results in a confusion matrix"
   ]
  },
  {
   "cell_type": "code",
   "execution_count": null,
   "metadata": {
    "collapsed": false
   },
   "outputs": [],
   "source": [
    "x_train1 = x_train.iloc[itr[0],:]\n",
    "x_test1 = x_train.iloc[ite[0],:]\n",
    "y_train1 = tr_a.fault_severity.iloc[itr[0]]\n",
    "y_test1 = tr_a.fault_severity.iloc[ite[0]]"
   ]
  },
  {
   "cell_type": "code",
   "execution_count": null,
   "metadata": {
    "collapsed": true
   },
   "outputs": [],
   "source": [
    "call = PipelineTelstra(RandomForestClassifier)\n",
    "call = call.fit(x_train1,y_train1)"
   ]
  },
  {
   "cell_type": "code",
   "execution_count": null,
   "metadata": {
    "collapsed": false
   },
   "outputs": [],
   "source": [
    "y_predict1 = call.predict(x_test1)"
   ]
  },
  {
   "cell_type": "code",
   "execution_count": null,
   "metadata": {
    "collapsed": false
   },
   "outputs": [],
   "source": [
    "cm21 = confusion_matrix(y_test1,y_predict1)\n",
    "cm21"
   ]
  },
  {
   "cell_type": "code",
   "execution_count": null,
   "metadata": {
    "collapsed": false
   },
   "outputs": [],
   "source": [
    "ax = sns.heatmap(cm21)\n",
    "ax.set_title('confusion matrix 2.1')"
   ]
  },
  {
   "cell_type": "code",
   "execution_count": null,
   "metadata": {
    "collapsed": true
   },
   "outputs": [],
   "source": [
    "fig = ax.get_figure()\n",
    "fig.savefig(\"cm21_posCV.png\")"
   ]
  },
  {
   "cell_type": "markdown",
   "metadata": {},
   "source": [
    "#### 3.2. Data Set 2 \n",
    "* Select the data\n",
    "* Perform the prediction\n",
    "* Plot the results in a confusion matrix"
   ]
  },
  {
   "cell_type": "code",
   "execution_count": null,
   "metadata": {
    "collapsed": true
   },
   "outputs": [],
   "source": [
    "x_train2 = x_train.iloc[itr[1],:]\n",
    "x_test2 = x_train.iloc[ite[1],:]\n",
    "y_train2 = tr_a.fault_severity.iloc[itr[1]]\n",
    "y_test2 = tr_a.fault_severity.iloc[ite[1]]"
   ]
  },
  {
   "cell_type": "code",
   "execution_count": null,
   "metadata": {
    "collapsed": false
   },
   "outputs": [],
   "source": [
    "call = PipelineTelstra(RandomForestClassifier)\n",
    "call = call.fit(x_train2,y_train2)"
   ]
  },
  {
   "cell_type": "code",
   "execution_count": null,
   "metadata": {
    "collapsed": false
   },
   "outputs": [],
   "source": [
    "y_predict2 = call.predict(x_test2)"
   ]
  },
  {
   "cell_type": "code",
   "execution_count": null,
   "metadata": {
    "collapsed": false
   },
   "outputs": [],
   "source": [
    "cm22 = confusion_matrix(y_test2,y_predict2)\n",
    "cm22"
   ]
  },
  {
   "cell_type": "code",
   "execution_count": null,
   "metadata": {
    "collapsed": false
   },
   "outputs": [],
   "source": [
    "ax = sns.heatmap(cm22)\n",
    "ax.set_title('confusion matrix 2.2')"
   ]
  },
  {
   "cell_type": "code",
   "execution_count": null,
   "metadata": {
    "collapsed": true
   },
   "outputs": [],
   "source": [
    "fig = ax.get_figure()\n",
    "fig.savefig(\"cm22_posCV.png\")"
   ]
  },
  {
   "cell_type": "markdown",
   "metadata": {},
   "source": [
    "#### 3.3. Data Set 3 \n",
    "* Select the data\n",
    "* Perform the prediction\n",
    "* Plot the results in a confusion matrix"
   ]
  },
  {
   "cell_type": "code",
   "execution_count": null,
   "metadata": {
    "collapsed": true
   },
   "outputs": [],
   "source": [
    "x_train3 = x_train.iloc[itr[2],:]\n",
    "x_test3 = x_train.iloc[ite[2],:]\n",
    "y_train3 = tr_a.fault_severity.iloc[itr[2]]\n",
    "y_test3 = tr_a.fault_severity.iloc[ite[2]]"
   ]
  },
  {
   "cell_type": "code",
   "execution_count": null,
   "metadata": {
    "collapsed": false
   },
   "outputs": [],
   "source": [
    "call = PipelineTelstra(RandomForestClassifier)\n",
    "call = call.fit(x_train3,y_train3)"
   ]
  },
  {
   "cell_type": "code",
   "execution_count": null,
   "metadata": {
    "collapsed": false
   },
   "outputs": [],
   "source": [
    "y_predict3 = call.predict(x_test3)"
   ]
  },
  {
   "cell_type": "code",
   "execution_count": null,
   "metadata": {
    "collapsed": false
   },
   "outputs": [],
   "source": [
    "cm23 = confusion_matrix(y_test3,y_predict3)\n",
    "cm23"
   ]
  },
  {
   "cell_type": "code",
   "execution_count": null,
   "metadata": {
    "collapsed": false
   },
   "outputs": [],
   "source": [
    "ax = sns.heatmap(cm23)\n",
    "ax.set_title('confusion matrix 2.3')"
   ]
  },
  {
   "cell_type": "code",
   "execution_count": null,
   "metadata": {
    "collapsed": true
   },
   "outputs": [],
   "source": [
    "fig = ax.get_figure()\n",
    "fig.savefig(\"cm23_posCV.png\")"
   ]
  },
  {
   "cell_type": "markdown",
   "metadata": {
    "collapsed": true
   },
   "source": [
    "The confusion matrices display a good sampling. \n",
    "\n",
    "In the next notebook (gs_score.ipynb) parameters from Random Forest classifier will be evaluated through Grid Search."
   ]
  },
  {
   "cell_type": "code",
   "execution_count": null,
   "metadata": {
    "collapsed": true
   },
   "outputs": [],
   "source": []
  }
 ],
 "metadata": {
  "kernelspec": {
   "display_name": "Python 3",
   "language": "python",
   "name": "python3"
  },
  "language_info": {
   "codemirror_mode": {
    "name": "ipython",
    "version": 3
   },
   "file_extension": ".py",
   "mimetype": "text/x-python",
   "name": "python",
   "nbconvert_exporter": "python",
   "pygments_lexer": "ipython3",
   "version": "3.5.1"
  }
 },
 "nbformat": 4,
 "nbformat_minor": 0
}
