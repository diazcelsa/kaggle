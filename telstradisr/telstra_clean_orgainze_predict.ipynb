{
 "cells": [
  {
   "cell_type": "code",
   "execution_count": 1,
   "metadata": {
    "collapsed": false
   },
   "outputs": [],
   "source": [
    "################\n",
    "################   Clean Data + join Data + Generate Model + Evaluate\n",
    "################   Telstra Network Disruptions Kaggle Competition\n",
    "################\n",
    "\n",
    "import warnings; warnings.simplefilter('ignore')\n",
    "import pandas as pd\n",
    "import numpy as np\n",
    "import matplotlib.pyplot as plt\n",
    "from pandas import Series, DataFrame\n",
    "import seaborn as sns\n",
    "from sklearn import preprocessing\n",
    "from sklearn.feature_extraction import DictVectorizer\n",
    "from sklearn.preprocessing import Imputer\n",
    "from sklearn.ensemble import RandomForestClassifier\n",
    "from sklearn.metrics import confusion_matrix\n",
    "from sklearn.cross_validation import KFold\n",
    "from sklearn.cross_validation import train_test_split\n",
    "from scipy import stats\n",
    "\n",
    "# import other methods\n",
    "from clean import *\n"
   ]
  },
  {
   "cell_type": "code",
   "execution_count": 2,
   "metadata": {
    "collapsed": true
   },
   "outputs": [],
   "source": [
    "%matplotlib inline"
   ]
  },
  {
   "cell_type": "code",
   "execution_count": 3,
   "metadata": {
    "collapsed": true
   },
   "outputs": [],
   "source": [
    "# read the data\n",
    "event = pd.read_csv(\"../../../github_data/telstradisr_data/event_type.csv\")\n",
    "log = pd.read_csv(\"../../../github_data/telstradisr_data/log_feature.csv\")\n",
    "sample = pd.read_csv(\"../../../github_data/telstradisr_data/sample_submission.csv\")\n",
    "severity = pd.read_csv(\"../../../github_data/telstradisr_data/severity_type.csv\")\n",
    "resource = pd.read_csv(\"../../../github_data/telstradisr_data/resource_type.csv\")\n",
    "train = pd.read_csv(\"../../../github_data/telstradisr_data/train.csv\")\n",
    "test = pd.read_csv(\"../../../github_data/telstradisr_data/test.csv\")"
   ]
  },
  {
   "cell_type": "code",
   "execution_count": 4,
   "metadata": {
    "collapsed": true
   },
   "outputs": [],
   "source": [
    "# obtain integers out of strings with redundant data\n",
    "event['event_type'] = event['event_type'].str.split(' ').str[1]\n",
    "log['log_feature'] = log['log_feature'].str.split(' ').str[1]\n",
    "severity['severity_type'] = severity['severity_type'].str.split(' ').str[1]\n",
    "resource['resource_type'] = resource['resource_type'].str.split(' ').str[1]\n",
    "test['location'] = test['location'].str.split(' ').str[1]\n",
    "train['location'] = train['location'].str.split(' ').str[1]"
   ]
  },
  {
   "cell_type": "code",
   "execution_count": 5,
   "metadata": {
    "collapsed": false
   },
   "outputs": [],
   "source": [
    "# check in each log table if ids repeated\n",
    "tables = [log,event,severity,resource] \n",
    "names = ['log','event','severity','resource'] \n",
    "for i in range(len(tables)):\n",
    "    check = unique_column(tables[i],tables[i].columns[-1])\n",
    "    \n",
    "    # AGGREGATE CATEGORICAL VALUES INTO A DICTIO\n",
    "    if check == False:\n",
    "        if len(tables[i].columns) == 2:\n",
    "            a = tables[i].groupby([tables[i].columns[-2],tables[i].columns[-1]]).agg({tables[i].columns[-1]:'count'})\n",
    "            a.index.names = ['id','cat']\n",
    "            a = a.reset_index()\n",
    "            a = a.set_index('cat')\n",
    "            \n",
    "            # check if any value is greater than 1\n",
    "            #l1 = a[tables[i].columns[-1]]\n",
    "            #l3 = a[tables[i].columns[-2]]\n",
    "            #for i in range(len(l1)):\n",
    "            #    if l3.iloc[i] != 1:\n",
    "            #        print('more than once',l3.iloc[i])\n",
    "                    \n",
    "            # take care that keys are still integers in the dict            \n",
    "            a = a.groupby('id').apply(lambda x: {int(k):int(v) for k,v in x.to_dict()[tables[i].columns[-1]].items()})\n",
    "            tables[i] = pd.DataFrame(a,columns=[tables[i].columns[-1]])\n",
    "            \n",
    "        elif len(tables[i].columns) == 3:\n",
    "            a = tables[i].groupby([tables[i].columns[-3],tables[i].columns[-2],tables[i].columns[-1]]).agg({tables[i].columns[-1]:'count',tables[i].columns[-2]:'count'})\n",
    "            a.index.names = ['id','cat1','cat2']\n",
    "            a = a.reset_index()\n",
    "            a = a.set_index('cat1')\n",
    "            b = a.set_index('cat2')\n",
    "            \n",
    "            # check if any value is greater than 1\n",
    "            #l1 = a[tables[i].columns[-1]]\n",
    "            #l2 = a[tables[i].columns[-3]]\n",
    "            #l3 = a[tables[i].columns[-2]]\n",
    "            #print(l1,l2,l3)\n",
    "            #for i in range(len(l1)):\n",
    "            #    if l1.iloc[i] != 1:\n",
    "            #        print('more than once',l2.iloc[i])\n",
    "            #for i in range(len(l3)):\n",
    "            #    if l3.iloc[i] != 1:\n",
    "            #        print('more than once',l2.iloc[i])\n",
    "        \n",
    "            # take care that keys are still integers in the dict\n",
    "            a = a.groupby('id').apply(lambda x: {int(k):int(v) for k,v in x.to_dict()[tables[i].columns[-1]].items()})\n",
    "            b = b.groupby('id').apply(lambda x: {int(k):int(v) for k,v in x.to_dict()[tables[i].columns[-2]].items()})\n",
    "            log1 = pd.DataFrame(a,columns=[tables[i].columns[-1]])\n",
    "            log2 = pd.DataFrame(b,columns=[tables[i].columns[-2]])\n",
    "event = tables[1]\n",
    "severity = tables[2]\n",
    "resource = tables[3]"
   ]
  },
  {
   "cell_type": "code",
   "execution_count": 6,
   "metadata": {
    "collapsed": false
   },
   "outputs": [
    {
     "data": {
      "text/html": [
       "<div>\n",
       "<table border=\"1\" class=\"dataframe\">\n",
       "  <thead>\n",
       "    <tr style=\"text-align: right;\">\n",
       "      <th></th>\n",
       "      <th>volume</th>\n",
       "    </tr>\n",
       "    <tr>\n",
       "      <th>id</th>\n",
       "      <th></th>\n",
       "    </tr>\n",
       "  </thead>\n",
       "  <tbody>\n",
       "    <tr>\n",
       "      <th>1</th>\n",
       "      <td>{345: 1, 179: 1, 68: 1}</td>\n",
       "    </tr>\n",
       "    <tr>\n",
       "      <th>2</th>\n",
       "      <td>{312: 1, 313: 1, 235: 1, 315: 1, 233: 1}</td>\n",
       "    </tr>\n",
       "    <tr>\n",
       "      <th>3</th>\n",
       "      <td>{171: 1}</td>\n",
       "    </tr>\n",
       "    <tr>\n",
       "      <th>4</th>\n",
       "      <td>{370: 1}</td>\n",
       "    </tr>\n",
       "    <tr>\n",
       "      <th>5</th>\n",
       "      <td>{312: 1, 232: 1}</td>\n",
       "    </tr>\n",
       "  </tbody>\n",
       "</table>\n",
       "</div>"
      ],
      "text/plain": [
       "                                      volume\n",
       "id                                          \n",
       "1                    {345: 1, 179: 1, 68: 1}\n",
       "2   {312: 1, 313: 1, 235: 1, 315: 1, 233: 1}\n",
       "3                                   {171: 1}\n",
       "4                                   {370: 1}\n",
       "5                           {312: 1, 232: 1}"
      ]
     },
     "execution_count": 6,
     "metadata": {},
     "output_type": "execute_result"
    }
   ],
   "source": [
    "log1.head()"
   ]
  },
  {
   "cell_type": "code",
   "execution_count": 7,
   "metadata": {
    "collapsed": false
   },
   "outputs": [
    {
     "data": {
      "text/html": [
       "<div>\n",
       "<table border=\"1\" class=\"dataframe\">\n",
       "  <thead>\n",
       "    <tr style=\"text-align: right;\">\n",
       "      <th></th>\n",
       "      <th>event_type</th>\n",
       "    </tr>\n",
       "    <tr>\n",
       "      <th>id</th>\n",
       "      <th></th>\n",
       "    </tr>\n",
       "  </thead>\n",
       "  <tbody>\n",
       "    <tr>\n",
       "      <th>1</th>\n",
       "      <td>{11: 1, 13: 1}</td>\n",
       "    </tr>\n",
       "    <tr>\n",
       "      <th>2</th>\n",
       "      <td>{34: 1, 35: 1}</td>\n",
       "    </tr>\n",
       "    <tr>\n",
       "      <th>3</th>\n",
       "      <td>{11: 1}</td>\n",
       "    </tr>\n",
       "    <tr>\n",
       "      <th>4</th>\n",
       "      <td>{47: 1}</td>\n",
       "    </tr>\n",
       "    <tr>\n",
       "      <th>5</th>\n",
       "      <td>{34: 1, 35: 1}</td>\n",
       "    </tr>\n",
       "  </tbody>\n",
       "</table>\n",
       "</div>"
      ],
      "text/plain": [
       "        event_type\n",
       "id                \n",
       "1   {11: 1, 13: 1}\n",
       "2   {34: 1, 35: 1}\n",
       "3          {11: 1}\n",
       "4          {47: 1}\n",
       "5   {34: 1, 35: 1}"
      ]
     },
     "execution_count": 7,
     "metadata": {},
     "output_type": "execute_result"
    }
   ],
   "source": [
    "event.head()"
   ]
  },
  {
   "cell_type": "code",
   "execution_count": 8,
   "metadata": {
    "collapsed": false
   },
   "outputs": [
    {
     "data": {
      "text/html": [
       "<div>\n",
       "<table border=\"1\" class=\"dataframe\">\n",
       "  <thead>\n",
       "    <tr style=\"text-align: right;\">\n",
       "      <th></th>\n",
       "      <th>id</th>\n",
       "      <th>location</th>\n",
       "      <th>fault_severity</th>\n",
       "      <th>event_type</th>\n",
       "      <th>severity_type</th>\n",
       "      <th>resource_type</th>\n",
       "      <th>volume</th>\n",
       "      <th>log_feature</th>\n",
       "    </tr>\n",
       "  </thead>\n",
       "  <tbody>\n",
       "    <tr>\n",
       "      <th>0</th>\n",
       "      <td>14121</td>\n",
       "      <td>118</td>\n",
       "      <td>1</td>\n",
       "      <td>{34: 1, 35: 1}</td>\n",
       "      <td>{2: 1}</td>\n",
       "      <td>{2: 1}</td>\n",
       "      <td>{312: 1, 232: 1}</td>\n",
       "      <td>{19: 1}</td>\n",
       "    </tr>\n",
       "    <tr>\n",
       "      <th>1</th>\n",
       "      <td>9320</td>\n",
       "      <td>91</td>\n",
       "      <td>0</td>\n",
       "      <td>{34: 1, 35: 1}</td>\n",
       "      <td>{2: 1}</td>\n",
       "      <td>{2: 1}</td>\n",
       "      <td>{315: 1, 235: 1}</td>\n",
       "      <td>{200: 1, 116: 1}</td>\n",
       "    </tr>\n",
       "    <tr>\n",
       "      <th>2</th>\n",
       "      <td>14394</td>\n",
       "      <td>152</td>\n",
       "      <td>1</td>\n",
       "      <td>{34: 1, 35: 1}</td>\n",
       "      <td>{2: 1}</td>\n",
       "      <td>{2: 1}</td>\n",
       "      <td>{221: 1, 301: 1}</td>\n",
       "      <td>{1: 1}</td>\n",
       "    </tr>\n",
       "    <tr>\n",
       "      <th>3</th>\n",
       "      <td>8218</td>\n",
       "      <td>931</td>\n",
       "      <td>1</td>\n",
       "      <td>{11: 1, 15: 1}</td>\n",
       "      <td>{1: 1}</td>\n",
       "      <td>{8: 1}</td>\n",
       "      <td>{80: 1, 82: 1, 203: 1}</td>\n",
       "      <td>{1: 1, 12: 1, 9: 1}</td>\n",
       "    </tr>\n",
       "    <tr>\n",
       "      <th>4</th>\n",
       "      <td>14804</td>\n",
       "      <td>120</td>\n",
       "      <td>0</td>\n",
       "      <td>{20: 1, 34: 1, 11: 1, 36: 1}</td>\n",
       "      <td>{1: 1}</td>\n",
       "      <td>{8: 1, 2: 1}</td>\n",
       "      <td>{160: 1, 227: 1, 117: 1, 134: 1, 232: 1, 219: ...</td>\n",
       "      <td>{1: 1, 2: 1}</td>\n",
       "    </tr>\n",
       "  </tbody>\n",
       "</table>\n",
       "</div>"
      ],
      "text/plain": [
       "      id location  fault_severity                    event_type severity_type  \\\n",
       "0  14121      118               1                {34: 1, 35: 1}        {2: 1}   \n",
       "1   9320       91               0                {34: 1, 35: 1}        {2: 1}   \n",
       "2  14394      152               1                {34: 1, 35: 1}        {2: 1}   \n",
       "3   8218      931               1                {11: 1, 15: 1}        {1: 1}   \n",
       "4  14804      120               0  {20: 1, 34: 1, 11: 1, 36: 1}        {1: 1}   \n",
       "\n",
       "  resource_type                                             volume  \\\n",
       "0        {2: 1}                                   {312: 1, 232: 1}   \n",
       "1        {2: 1}                                   {315: 1, 235: 1}   \n",
       "2        {2: 1}                                   {221: 1, 301: 1}   \n",
       "3        {8: 1}                             {80: 1, 82: 1, 203: 1}   \n",
       "4  {8: 1, 2: 1}  {160: 1, 227: 1, 117: 1, 134: 1, 232: 1, 219: ...   \n",
       "\n",
       "           log_feature  \n",
       "0              {19: 1}  \n",
       "1     {200: 1, 116: 1}  \n",
       "2               {1: 1}  \n",
       "3  {1: 1, 12: 1, 9: 1}  \n",
       "4         {1: 1, 2: 1}  "
      ]
     },
     "execution_count": 8,
     "metadata": {},
     "output_type": "execute_result"
    }
   ],
   "source": [
    "# join tables with train data \n",
    "train = train.merge(event, left_on='id', right_index=True, how='left')\n",
    "train = train.merge(severity, left_on='id', right_index=True, how='left')\n",
    "train = train.merge(resource, left_on='id', right_index=True, how='left')\n",
    "train = train.merge(log1, left_on='id', right_index=True, how='left')\n",
    "train = train.merge(log2, left_on='id', right_index=True, how='left')\n",
    "train.head()"
   ]
  },
  {
   "cell_type": "code",
   "execution_count": 9,
   "metadata": {
    "collapsed": false
   },
   "outputs": [
    {
     "data": {
      "text/html": [
       "<div>\n",
       "<table border=\"1\" class=\"dataframe\">\n",
       "  <thead>\n",
       "    <tr style=\"text-align: right;\">\n",
       "      <th></th>\n",
       "      <th>id</th>\n",
       "      <th>location</th>\n",
       "      <th>event_type</th>\n",
       "      <th>severity_type</th>\n",
       "      <th>resource_type</th>\n",
       "      <th>volume</th>\n",
       "      <th>log_feature</th>\n",
       "    </tr>\n",
       "  </thead>\n",
       "  <tbody>\n",
       "    <tr>\n",
       "      <th>0</th>\n",
       "      <td>11066</td>\n",
       "      <td>481</td>\n",
       "      <td>{34: 1, 35: 1}</td>\n",
       "      <td>{2: 1}</td>\n",
       "      <td>{2: 1}</td>\n",
       "      <td>{308: 1, 228: 1, 230: 1, 310: 1}</td>\n",
       "      <td>{24: 1, 20: 1, 26: 1, 28: 1}</td>\n",
       "    </tr>\n",
       "    <tr>\n",
       "      <th>1</th>\n",
       "      <td>18000</td>\n",
       "      <td>962</td>\n",
       "      <td>{11: 1, 15: 1}</td>\n",
       "      <td>{1: 1}</td>\n",
       "      <td>{8: 1}</td>\n",
       "      <td>{82: 1, 203: 1}</td>\n",
       "      <td>{9: 1, 20: 1}</td>\n",
       "    </tr>\n",
       "    <tr>\n",
       "      <th>2</th>\n",
       "      <td>16964</td>\n",
       "      <td>491</td>\n",
       "      <td>{34: 1, 35: 1}</td>\n",
       "      <td>{2: 1}</td>\n",
       "      <td>{2: 1}</td>\n",
       "      <td>{315: 1, 235: 1}</td>\n",
       "      <td>{10: 1, 11: 1}</td>\n",
       "    </tr>\n",
       "    <tr>\n",
       "      <th>3</th>\n",
       "      <td>4795</td>\n",
       "      <td>532</td>\n",
       "      <td>{10: 1, 27: 1}</td>\n",
       "      <td>{5: 1}</td>\n",
       "      <td>{9: 1, 3: 1}</td>\n",
       "      <td>{240: 1, 37: 1, 38: 1}</td>\n",
       "      <td>{1: 1}</td>\n",
       "    </tr>\n",
       "    <tr>\n",
       "      <th>4</th>\n",
       "      <td>3392</td>\n",
       "      <td>600</td>\n",
       "      <td>{15: 1}</td>\n",
       "      <td>{2: 1}</td>\n",
       "      <td>{8: 1}</td>\n",
       "      <td>{82: 1, 203: 1}</td>\n",
       "      <td>{2: 1, 6: 1}</td>\n",
       "    </tr>\n",
       "  </tbody>\n",
       "</table>\n",
       "</div>"
      ],
      "text/plain": [
       "      id location      event_type severity_type resource_type  \\\n",
       "0  11066      481  {34: 1, 35: 1}        {2: 1}        {2: 1}   \n",
       "1  18000      962  {11: 1, 15: 1}        {1: 1}        {8: 1}   \n",
       "2  16964      491  {34: 1, 35: 1}        {2: 1}        {2: 1}   \n",
       "3   4795      532  {10: 1, 27: 1}        {5: 1}  {9: 1, 3: 1}   \n",
       "4   3392      600         {15: 1}        {2: 1}        {8: 1}   \n",
       "\n",
       "                             volume                   log_feature  \n",
       "0  {308: 1, 228: 1, 230: 1, 310: 1}  {24: 1, 20: 1, 26: 1, 28: 1}  \n",
       "1                   {82: 1, 203: 1}                 {9: 1, 20: 1}  \n",
       "2                  {315: 1, 235: 1}                {10: 1, 11: 1}  \n",
       "3            {240: 1, 37: 1, 38: 1}                        {1: 1}  \n",
       "4                   {82: 1, 203: 1}                  {2: 1, 6: 1}  "
      ]
     },
     "execution_count": 9,
     "metadata": {},
     "output_type": "execute_result"
    }
   ],
   "source": [
    "# join tables with test data\n",
    "test = test.merge(event, left_on='id', right_index=True, how='left')\n",
    "test = test.merge(severity, left_on='id', right_index=True, how='left')\n",
    "test = test.merge(resource, left_on='id', right_index=True, how='left')\n",
    "test = test.merge(log1, left_on='id', right_index=True, how='left')\n",
    "test = test.merge(log2, left_on='id', right_index=True, how='left')\n",
    "test.head()"
   ]
  },
  {
   "cell_type": "code",
   "execution_count": 10,
   "metadata": {
    "collapsed": false
   },
   "outputs": [],
   "source": [
    "##### split data  \n",
    "tr_a, te_a = train_test_split(train, train_size = 0.8)\n",
    "\n",
    "## define variables \n",
    "y_train = tr_a.fault_severity\n",
    "y_test = te_a.fault_severity\n",
    "columns = train.columns\n",
    "x_train = tr_a[columns[3:]]\n",
    "x_test = te_a[columns[3:]]"
   ]
  },
  {
   "cell_type": "code",
   "execution_count": 11,
   "metadata": {
    "collapsed": false
   },
   "outputs": [
    {
     "data": {
      "text/plain": [
       "id               0\n",
       "location         0\n",
       "event_type       0\n",
       "severity_type    0\n",
       "resource_type    0\n",
       "volume           0\n",
       "log_feature      0\n",
       "dtype: int64"
      ]
     },
     "execution_count": 11,
     "metadata": {},
     "output_type": "execute_result"
    }
   ],
   "source": [
    "## check if null values\n",
    "tr_a.isnull().sum()\n",
    "te_a.isnull().sum()\n",
    "test.isnull().sum()"
   ]
  },
  {
   "cell_type": "code",
   "execution_count": 12,
   "metadata": {
    "collapsed": false
   },
   "outputs": [
    {
     "name": "stdout",
     "output_type": "stream",
     "text": [
      "False False\n"
     ]
    }
   ],
   "source": [
    "## check if nan values\n",
    "nantr = ifNaN(x_train)\n",
    "nante = ifNaN(x_test)\n",
    "print(nantr,nante)"
   ]
  },
  {
   "cell_type": "code",
   "execution_count": 13,
   "metadata": {
    "collapsed": false
   },
   "outputs": [
    {
     "data": {
      "text/html": [
       "<div>\n",
       "<table border=\"1\" class=\"dataframe\">\n",
       "  <thead>\n",
       "    <tr style=\"text-align: right;\">\n",
       "      <th></th>\n",
       "      <th>event_type</th>\n",
       "      <th>severity_type</th>\n",
       "      <th>resource_type</th>\n",
       "      <th>volume</th>\n",
       "      <th>log_feature</th>\n",
       "    </tr>\n",
       "  </thead>\n",
       "  <tbody>\n",
       "    <tr>\n",
       "      <th>2442</th>\n",
       "      <td>{11: 1, 15: 1}</td>\n",
       "      <td>{1: 1}</td>\n",
       "      <td>{8: 1}</td>\n",
       "      <td>{82: 1}</td>\n",
       "      <td>{10: 1}</td>\n",
       "    </tr>\n",
       "    <tr>\n",
       "      <th>3175</th>\n",
       "      <td>{11: 1}</td>\n",
       "      <td>{1: 1}</td>\n",
       "      <td>{8: 1}</td>\n",
       "      <td>{73: 1, 195: 1}</td>\n",
       "      <td>{1: 1}</td>\n",
       "    </tr>\n",
       "    <tr>\n",
       "      <th>2335</th>\n",
       "      <td>{34: 1, 35: 1}</td>\n",
       "      <td>{2: 1}</td>\n",
       "      <td>{2: 1}</td>\n",
       "      <td>{312: 1, 232: 1}</td>\n",
       "      <td>{1: 1, 3: 1}</td>\n",
       "    </tr>\n",
       "    <tr>\n",
       "      <th>5156</th>\n",
       "      <td>{3: 1, 11: 1}</td>\n",
       "      <td>{1: 1}</td>\n",
       "      <td>{8: 1}</td>\n",
       "      <td>{191: 1, 140: 1, 171: 1, 70: 1, 55: 1}</td>\n",
       "      <td>{1: 1, 10: 1, 13: 1}</td>\n",
       "    </tr>\n",
       "    <tr>\n",
       "      <th>6135</th>\n",
       "      <td>{34: 1, 35: 1}</td>\n",
       "      <td>{2: 1}</td>\n",
       "      <td>{2: 1}</td>\n",
       "      <td>{228: 1, 230: 1, 232: 1, 233: 1, 235: 1, 308: ...</td>\n",
       "      <td>{1: 1, 2: 1, 20: 1, 21: 1, 24: 1, 25: 1}</td>\n",
       "    </tr>\n",
       "  </tbody>\n",
       "</table>\n",
       "</div>"
      ],
      "text/plain": [
       "          event_type severity_type resource_type  \\\n",
       "2442  {11: 1, 15: 1}        {1: 1}        {8: 1}   \n",
       "3175         {11: 1}        {1: 1}        {8: 1}   \n",
       "2335  {34: 1, 35: 1}        {2: 1}        {2: 1}   \n",
       "5156   {3: 1, 11: 1}        {1: 1}        {8: 1}   \n",
       "6135  {34: 1, 35: 1}        {2: 1}        {2: 1}   \n",
       "\n",
       "                                                 volume  \\\n",
       "2442                                            {82: 1}   \n",
       "3175                                    {73: 1, 195: 1}   \n",
       "2335                                   {312: 1, 232: 1}   \n",
       "5156             {191: 1, 140: 1, 171: 1, 70: 1, 55: 1}   \n",
       "6135  {228: 1, 230: 1, 232: 1, 233: 1, 235: 1, 308: ...   \n",
       "\n",
       "                                   log_feature  \n",
       "2442                                   {10: 1}  \n",
       "3175                                    {1: 1}  \n",
       "2335                              {1: 1, 3: 1}  \n",
       "5156                      {1: 1, 10: 1, 13: 1}  \n",
       "6135  {1: 1, 2: 1, 20: 1, 21: 1, 24: 1, 25: 1}  "
      ]
     },
     "execution_count": 13,
     "metadata": {},
     "output_type": "execute_result"
    }
   ],
   "source": [
    "x_train.head()"
   ]
  },
  {
   "cell_type": "code",
   "execution_count": 14,
   "metadata": {
    "collapsed": false
   },
   "outputs": [
    {
     "data": {
      "text/html": [
       "<div>\n",
       "<table border=\"1\" class=\"dataframe\">\n",
       "  <thead>\n",
       "    <tr style=\"text-align: right;\">\n",
       "      <th></th>\n",
       "      <th>event_type</th>\n",
       "      <th>severity_type</th>\n",
       "      <th>resource_type</th>\n",
       "      <th>volume</th>\n",
       "      <th>log_feature</th>\n",
       "    </tr>\n",
       "  </thead>\n",
       "  <tbody>\n",
       "    <tr>\n",
       "      <th>3565</th>\n",
       "      <td>{20: 1, 23: 1, 24: 1, 11: 1, 13: 1, 14: 1}</td>\n",
       "      <td>{1: 1}</td>\n",
       "      <td>{8: 1, 2: 1, 4: 1, 6: 1, 7: 1}</td>\n",
       "      <td>{273: 1, 306: 1, 219: 1, 53: 1, 54: 1, 134: 1,...</td>\n",
       "      <td>{1: 1, 2: 1, 3: 1, 4: 1, 9: 1}</td>\n",
       "    </tr>\n",
       "    <tr>\n",
       "      <th>358</th>\n",
       "      <td>{11: 1}</td>\n",
       "      <td>{2: 1}</td>\n",
       "      <td>{8: 1}</td>\n",
       "      <td>{209: 1, 87: 1}</td>\n",
       "      <td>{2: 1}</td>\n",
       "    </tr>\n",
       "    <tr>\n",
       "      <th>760</th>\n",
       "      <td>{11: 1}</td>\n",
       "      <td>{1: 1}</td>\n",
       "      <td>{8: 1}</td>\n",
       "      <td>{170: 1, 54: 1}</td>\n",
       "      <td>{2: 1, 4: 1}</td>\n",
       "    </tr>\n",
       "    <tr>\n",
       "      <th>1227</th>\n",
       "      <td>{15: 1}</td>\n",
       "      <td>{2: 1}</td>\n",
       "      <td>{8: 1}</td>\n",
       "      <td>{80: 1, 82: 1, 203: 1}</td>\n",
       "      <td>{2: 1, 4: 1, 5: 1}</td>\n",
       "    </tr>\n",
       "    <tr>\n",
       "      <th>1405</th>\n",
       "      <td>{11: 1, 15: 1}</td>\n",
       "      <td>{1: 1}</td>\n",
       "      <td>{8: 1}</td>\n",
       "      <td>{56: 1, 172: 1}</td>\n",
       "      <td>{2: 1, 3: 1}</td>\n",
       "    </tr>\n",
       "  </tbody>\n",
       "</table>\n",
       "</div>"
      ],
      "text/plain": [
       "                                      event_type severity_type  \\\n",
       "3565  {20: 1, 23: 1, 24: 1, 11: 1, 13: 1, 14: 1}        {1: 1}   \n",
       "358                                      {11: 1}        {2: 1}   \n",
       "760                                      {11: 1}        {1: 1}   \n",
       "1227                                     {15: 1}        {2: 1}   \n",
       "1405                              {11: 1, 15: 1}        {1: 1}   \n",
       "\n",
       "                       resource_type  \\\n",
       "3565  {8: 1, 2: 1, 4: 1, 6: 1, 7: 1}   \n",
       "358                           {8: 1}   \n",
       "760                           {8: 1}   \n",
       "1227                          {8: 1}   \n",
       "1405                          {8: 1}   \n",
       "\n",
       "                                                 volume  \\\n",
       "3565  {273: 1, 306: 1, 219: 1, 53: 1, 54: 1, 134: 1,...   \n",
       "358                                     {209: 1, 87: 1}   \n",
       "760                                     {170: 1, 54: 1}   \n",
       "1227                             {80: 1, 82: 1, 203: 1}   \n",
       "1405                                    {56: 1, 172: 1}   \n",
       "\n",
       "                         log_feature  \n",
       "3565  {1: 1, 2: 1, 3: 1, 4: 1, 9: 1}  \n",
       "358                           {2: 1}  \n",
       "760                     {2: 1, 4: 1}  \n",
       "1227              {2: 1, 4: 1, 5: 1}  \n",
       "1405                    {2: 1, 3: 1}  "
      ]
     },
     "execution_count": 14,
     "metadata": {},
     "output_type": "execute_result"
    }
   ],
   "source": [
    "x_test.head()"
   ]
  },
  {
   "cell_type": "code",
   "execution_count": 15,
   "metadata": {
    "collapsed": false
   },
   "outputs": [
    {
     "data": {
      "text/plain": [
       "(5904, 5)"
      ]
     },
     "execution_count": 15,
     "metadata": {},
     "output_type": "execute_result"
    }
   ],
   "source": [
    "x_train.shape"
   ]
  },
  {
   "cell_type": "code",
   "execution_count": 16,
   "metadata": {
    "collapsed": false
   },
   "outputs": [
    {
     "name": "stdout",
     "output_type": "stream",
     "text": [
      "pipeline done.\n",
      "DataSpliterTrans fit done.\n",
      "DataSpliterTrans transform done.\n",
      "DataSpliterTrans fit done.\n",
      "DataSpliterTrans transform done.\n",
      "DataSpliterTrans fit done.\n",
      "DataSpliterTrans transform done.\n",
      "DataSpliterTrans fit done.\n",
      "DataSpliterTrans transform done.\n",
      "DataSpliterTrans fit done.\n",
      "DataSpliterTrans transform done.\n"
     ]
    }
   ],
   "source": [
    "##### generate pipeline \n",
    "## shape 5904x615\n",
    "call = PipelineTelstra(RandomForestClassifier)\n",
    "call.set_params()\n",
    "call = call.fit(x_train,y_train)"
   ]
  },
  {
   "cell_type": "code",
   "execution_count": 17,
   "metadata": {
    "collapsed": false
   },
   "outputs": [
    {
     "name": "stdout",
     "output_type": "stream",
     "text": [
      "DataSpliterTrans transform done.\n",
      "DataSpliterTrans transform done.\n",
      "DataSpliterTrans transform done.\n",
      "DataSpliterTrans transform done.\n",
      "DataSpliterTrans transform done.\n"
     ]
    }
   ],
   "source": [
    "##### generate y_predict\n",
    "y_predict = call.predict(x_test)"
   ]
  },
  {
   "cell_type": "code",
   "execution_count": 18,
   "metadata": {
    "collapsed": false
   },
   "outputs": [
    {
     "data": {
      "text/plain": [
       "array([[807, 110,  27],\n",
       "       [171, 198,  20],\n",
       "       [ 43,  35,  66]])"
      ]
     },
     "execution_count": 18,
     "metadata": {},
     "output_type": "execute_result"
    }
   ],
   "source": [
    "##### first evaluation confusion matrix\n",
    "cm1 = confusion_matrix(y_test,y_predict)\n",
    "cm1"
   ]
  },
  {
   "cell_type": "code",
   "execution_count": 19,
   "metadata": {
    "collapsed": false
   },
   "outputs": [
    {
     "data": {
      "text/plain": [
       "<matplotlib.text.Text at 0x7f543c39b208>"
      ]
     },
     "execution_count": 19,
     "metadata": {},
     "output_type": "execute_result"
    },
    {
     "data": {
      "image/png": "[encoded data removed]",
      "text/plain": [
       "<matplotlib.figure.Figure at 0x7f543bd5ac50>"
      ]
     },
     "metadata": {},
     "output_type": "display_data"
    }
   ],
   "source": [
    "ax = sns.heatmap(cm1)\n",
    "ax.set_title('confusion matrix 1')"
   ]
  },
  {
   "cell_type": "code",
   "execution_count": null,
   "metadata": {
    "collapsed": true
   },
   "outputs": [],
   "source": [
    "## save confusion matrix 1\n",
    "fig = ax.get_figure()\n",
    "fig.savefig(\"cm1_preCV.png\")"
   ]
  },
  {
   "cell_type": "code",
   "execution_count": 22,
   "metadata": {
    "collapsed": false
   },
   "outputs": [
    {
     "name": "stdout",
     "output_type": "stream",
     "text": [
      "[1968 1969 1970 ..., 5901 5902 5903] [   0    1    2 ..., 1965 1966 1967]\n",
      "[   0    1    2 ..., 5901 5902 5903] [1968 1969 1970 ..., 3933 3934 3935]\n",
      "[   0    1    2 ..., 3933 3934 3935] [3936 3937 3938 ..., 5901 5902 5903]\n"
     ]
    }
   ],
   "source": [
    "##### cross validation 3 folds\n",
    "kf = KFold(5904, n_folds=3)\n",
    "itr = defaultdict(list)\n",
    "ite = defaultdict(list)\n",
    "c = 0\n",
    "for trai, tes in kf:\n",
    "    print(\"%s %s\" % (trai, tes))\n",
    "    itr[c] = trai\n",
    "    ite[c] = tes\n",
    "    c += 1"
   ]
  },
  {
   "cell_type": "code",
   "execution_count": 23,
   "metadata": {
    "collapsed": false
   },
   "outputs": [],
   "source": [
    "##### redefine my samples\n",
    "\n",
    "#### 2.1 samples\n",
    "x_train1 = x_train.iloc[itr[0],:]\n",
    "x_test1 = x_train.iloc[ite[0],:]\n",
    "y_train1 = tr_a.fault_severity.iloc[itr[0]]\n",
    "y_test1 = tr_a.fault_severity.iloc[ite[0]]"
   ]
  },
  {
   "cell_type": "code",
   "execution_count": 24,
   "metadata": {
    "collapsed": false
   },
   "outputs": [
    {
     "name": "stdout",
     "output_type": "stream",
     "text": [
      "pipeline done.\n",
      "DataSpliterTrans fit done.\n",
      "DataSpliterTrans transform done.\n",
      "DataSpliterTrans fit done.\n",
      "DataSpliterTrans transform done.\n",
      "DataSpliterTrans fit done.\n",
      "DataSpliterTrans transform done.\n",
      "DataSpliterTrans fit done.\n",
      "DataSpliterTrans transform done.\n",
      "DataSpliterTrans fit done.\n",
      "DataSpliterTrans transform done.\n"
     ]
    }
   ],
   "source": [
    "#### 2.1 make prediction\n",
    "call = PipelineTelstra(RandomForestClassifier)\n",
    "call = call.fit(x_train1,y_train1)"
   ]
  },
  {
   "cell_type": "code",
   "execution_count": 25,
   "metadata": {
    "collapsed": false
   },
   "outputs": [
    {
     "name": "stdout",
     "output_type": "stream",
     "text": [
      "DataSpliterTrans transform done.\n",
      "DataSpliterTrans transform done.\n",
      "DataSpliterTrans transform done.\n",
      "DataSpliterTrans transform done.\n",
      "DataSpliterTrans transform done.\n"
     ]
    }
   ],
   "source": [
    "y_predict1 = call.predict(x_test1)"
   ]
  },
  {
   "cell_type": "code",
   "execution_count": 26,
   "metadata": {
    "collapsed": false
   },
   "outputs": [
    {
     "data": {
      "text/plain": [
       "array([[1094,  143,   46],\n",
       "       [ 248,  230,   27],\n",
       "       [  55,   46,   79]])"
      ]
     },
     "execution_count": 26,
     "metadata": {},
     "output_type": "execute_result"
    }
   ],
   "source": [
    "#### 2.1 confusion matrix\n",
    "cm21 = confusion_matrix(y_test1,y_predict1)\n",
    "cm21"
   ]
  },
  {
   "cell_type": "code",
   "execution_count": 27,
   "metadata": {
    "collapsed": false
   },
   "outputs": [
    {
     "data": {
      "text/plain": [
       "<matplotlib.text.Text at 0x7f543bdd3a90>"
      ]
     },
     "execution_count": 27,
     "metadata": {},
     "output_type": "execute_result"
    },
    {
     "data": {
      "image/png": "[encoded data removed]",
      "text/plain": [
       "<matplotlib.figure.Figure at 0x7f543bdeca90>"
      ]
     },
     "metadata": {},
     "output_type": "display_data"
    }
   ],
   "source": [
    "ax = sns.heatmap(cm21)\n",
    "ax.set_title('confusion matrix 2.1')"
   ]
  },
  {
   "cell_type": "code",
   "execution_count": 28,
   "metadata": {
    "collapsed": true
   },
   "outputs": [],
   "source": [
    "fig = ax.get_figure()\n",
    "fig.savefig(\"cm21_posCV.png\")"
   ]
  },
  {
   "cell_type": "code",
   "execution_count": null,
   "metadata": {
    "collapsed": true
   },
   "outputs": [],
   "source": [
    "#### 2.2 samples\n",
    "x_train2 = x_train.iloc[itr[1],:]\n",
    "x_test2 = x_train.iloc[ite[1],:]\n",
    "y_train2 = tr_a.target.iloc[itr[1]]\n",
    "y_test2 = tr_a.target.iloc[ite[1]]"
   ]
  },
  {
   "cell_type": "code",
   "execution_count": null,
   "metadata": {
    "collapsed": true
   },
   "outputs": [],
   "source": [
    "#### 2.2 make prediction\n",
    "call = PipelineTelstra(RandomForestClassifier)\n",
    "call = call.fit(x_train2,y_train2)"
   ]
  },
  {
   "cell_type": "code",
   "execution_count": null,
   "metadata": {
    "collapsed": true
   },
   "outputs": [],
   "source": [
    "y_predict2 = call.predict(x_test2)"
   ]
  },
  {
   "cell_type": "code",
   "execution_count": null,
   "metadata": {
    "collapsed": true
   },
   "outputs": [],
   "source": [
    "#### 2.2 confusion matrix\n",
    "cm22 = confusion_matrix(y_test2,y_predict2)\n",
    "cm22"
   ]
  },
  {
   "cell_type": "code",
   "execution_count": null,
   "metadata": {
    "collapsed": true
   },
   "outputs": [],
   "source": [
    "ax = sns.heatmap(cm22)\n",
    "ax.set_title('confusion matrix 2.2')"
   ]
  },
  {
   "cell_type": "code",
   "execution_count": null,
   "metadata": {
    "collapsed": true
   },
   "outputs": [],
   "source": [
    "fig = ax.get_figure()\n",
    "fig.savefig(\"cm22_posCV.png\")"
   ]
  },
  {
   "cell_type": "code",
   "execution_count": null,
   "metadata": {
    "collapsed": true
   },
   "outputs": [],
   "source": [
    "#### 2.3 samples\n",
    "x_train3 = x_train.iloc[itr[2],:]\n",
    "x_test3 = x_train.iloc[ite[2],:]\n",
    "y_train3 = tr_a.target.iloc[itr[2]]\n",
    "y_test3 = tr_a.target.iloc[ite[2]]"
   ]
  },
  {
   "cell_type": "code",
   "execution_count": null,
   "metadata": {
    "collapsed": true
   },
   "outputs": [],
   "source": [
    "#### 2.3 make prediction\n",
    "call = PipelineTelstra(RandomForestClassifier)\n",
    "call = call.fit(x_train3,y_train3)"
   ]
  },
  {
   "cell_type": "code",
   "execution_count": null,
   "metadata": {
    "collapsed": true
   },
   "outputs": [],
   "source": [
    "y_predict3 = call.predict(x_test3)"
   ]
  },
  {
   "cell_type": "code",
   "execution_count": null,
   "metadata": {
    "collapsed": true
   },
   "outputs": [],
   "source": [
    "#### 2.3 confusion matrix\n",
    "cm23 = confusion_matrix(y_test3,y_predict3)\n",
    "cm23"
   ]
  },
  {
   "cell_type": "code",
   "execution_count": null,
   "metadata": {
    "collapsed": true
   },
   "outputs": [],
   "source": [
    "ax = sns.heatmap(cm23)\n",
    "ax.set_title('confusion matrix 2.3')"
   ]
  },
  {
   "cell_type": "code",
   "execution_count": null,
   "metadata": {
    "collapsed": true
   },
   "outputs": [],
   "source": [
    "fig = ax.get_figure()\n",
    "fig.savefig(\"cm23_posCV.png\")"
   ]
  }
 ],
 "metadata": {
  "kernelspec": {
   "display_name": "Python 3",
   "language": "python",
   "name": "python3"
  },
  "language_info": {
   "codemirror_mode": {
    "name": "ipython",
    "version": 3
   },
   "file_extension": ".py",
   "mimetype": "text/x-python",
   "name": "python",
   "nbconvert_exporter": "python",
   "pygments_lexer": "ipython3",
   "version": "3.4.3+"
  }
 },
 "nbformat": 4,
 "nbformat_minor": 0
}
