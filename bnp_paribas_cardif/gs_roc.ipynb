{
 "cells": [
  {
   "cell_type": "code",
   "execution_count": 1,
   "metadata": {
    "collapsed": false
   },
   "outputs": [],
   "source": [
    "################\n",
    "################   Clean Data + Structure Data + Generate Model + Evaluate\n",
    "################   BNP Paribas Cardif Claims Management Kaggle Competition\n",
    "################\n",
    "\n",
    "import pandas as pd\n",
    "import numpy as np\n",
    "import matplotlib.pyplot as plt\n",
    "from pandas import Series, DataFrame\n",
    "import seaborn as sns\n",
    "from sklearn import preprocessing\n",
    "from sklearn.preprocessing import OneHotEncoder\n",
    "from sklearn.preprocessing import Imputer\n",
    "from sklearn.ensemble import RandomForestClassifier\n",
    "from sklearn.metrics import confusion_matrix\n",
    "from sklearn.cross_validation import KFold\n",
    "from sklearn.cross_validation import train_test_split\n",
    "from sklearn import metrics\n",
    "from sklearn import grid_search\n",
    "from scipy import stats\n",
    "\n",
    "# import other methods\n",
    "from data_modifier import *\n",
    "\n",
    "%matplotlib inline\n",
    "\n",
    "##### upload data\n",
    "train = pd.read_csv(\"../../../github_data/bnp_paribas_cardif_data/train.csv\")\n",
    "test = pd.read_csv(\"../../../github_data/bnp_paribas_cardif_data/test.csv\")\n",
    "sample = pd.read_csv(\"../../../github_data/bnp_paribas_cardif_data/sample_submission.csv\")\n",
    "trains = train[:100]\n",
    "tests = test[:100]\n",
    "\n",
    "\n",
    "##### split data  \n",
    "tr_a, te_a = train_test_split(trains, train_size = 0.8)\n",
    "\n",
    "## define variables \n",
    "y_train = tr_a.target\n",
    "y_test = te_a.target\n",
    "columns = train.columns\n",
    "x_train = tr_a[columns[2:]]\n",
    "x_test = te_a[columns[2:]]"
   ]
  },
  {
   "cell_type": "code",
   "execution_count": 2,
   "metadata": {
    "collapsed": true
   },
   "outputs": [],
   "source": [
    "## define parameters\n",
    "param_grid_1 =  {'randomforestclassifier__max_depth': [8,16],\n",
    "               'randomforestclassifier__criterion': ['gini'], \n",
    "               'randomforestclassifier__n_estimators':[20,100], \n",
    "               'randomforestclassifier__max_leaf_nodes':[None], \n",
    "               'randomforestclassifier__min_samples_split':[2],\n",
    "               'randomforestclassifier__min_samples_leaf':[10], \n",
    "               'randomforestclassifier__min_weight_fraction_leaf':[0.0],\n",
    "               'randomforestclassifier__n_jobs':[1]\n",
    "}\n",
    "param_grid_2 =  {'randomforestclassifier__max_depth': [16,300],\n",
    "               'randomforestclassifier__criterion': ['gini'], \n",
    "               'randomforestclassifier__n_estimators':[5,10], \n",
    "               'randomforestclassifier__max_leaf_nodes':[None], \n",
    "               'randomforestclassifier__min_samples_split':[2],\n",
    "               'randomforestclassifier__min_samples_leaf':[10], \n",
    "               'randomforestclassifier__min_weight_fraction_leaf':[0.0],\n",
    "               'randomforestclassifier__n_jobs':[1]\n",
    "}\n",
    "param_grid_3 =  {'randomforestclassifier__max_depth': [16,75],\n",
    "               'randomforestclassifier__criterion': ['gini'], \n",
    "               'randomforestclassifier__n_estimators':[2,5], \n",
    "               'randomforestclassifier__max_leaf_nodes':[None], \n",
    "               'randomforestclassifier__min_samples_split':[2],\n",
    "               'randomforestclassifier__min_samples_leaf':[10], \n",
    "               'randomforestclassifier__min_weight_fraction_leaf':[0.0],\n",
    "               'randomforestclassifier__n_jobs':[1]\n",
    "}\n",
    "param_grid_4 =  {'randomforestclassifier__max_depth': [8,16],\n",
    "               'randomforestclassifier__criterion': ['gini'], \n",
    "               'randomforestclassifier__n_estimators':[10], \n",
    "               'randomforestclassifier__max_leaf_nodes':[None], \n",
    "               'randomforestclassifier__min_samples_split':[2],\n",
    "               'randomforestclassifier__min_samples_leaf':[1,5], \n",
    "               'randomforestclassifier__min_weight_fraction_leaf':[0.0],\n",
    "               'randomforestclassifier__n_jobs':[1]\n",
    "}\n",
    "param_grid_5 =  {'randomforestclassifier__max_depth': [16,25],\n",
    "               'randomforestclassifier__criterion': ['gini'], \n",
    "               'randomforestclassifier__n_estimators':[10,50], \n",
    "               'randomforestclassifier__max_leaf_nodes':[None], \n",
    "               'randomforestclassifier__min_samples_split':[2],\n",
    "               'randomforestclassifier__min_samples_leaf':[1], \n",
    "               'randomforestclassifier__min_weight_fraction_leaf':[0.0],\n",
    "               'randomforestclassifier__n_jobs':[1]\n",
    "}\n",
    "param_grid_6 =  {'randomforestclassifier__max_depth': [25,40],\n",
    "               'randomforestclassifier__criterion': ['gini'], \n",
    "               'randomforestclassifier__n_estimators':[5,10], \n",
    "               'randomforestclassifier__max_leaf_nodes':[None], \n",
    "               'randomforestclassifier__min_samples_split':[2],\n",
    "               'randomforestclassifier__min_samples_leaf':[1], \n",
    "               'randomforestclassifier__min_weight_fraction_leaf':[0.0],\n",
    "               'randomforestclassifier__n_jobs':[1]\n",
    "}\n",
    "param_grid_7 =  {'randomforestclassifier__max_depth': [40,55],\n",
    "               'randomforestclassifier__criterion': ['gini'], \n",
    "               'randomforestclassifier__n_estimators':[5,10], \n",
    "               'randomforestclassifier__max_leaf_nodes':[None], \n",
    "               'randomforestclassifier__min_samples_split':[2],\n",
    "               'randomforestclassifier__min_samples_leaf':[1], \n",
    "               'randomforestclassifier__min_weight_fraction_leaf':[0.0],\n",
    "               'randomforestclassifier__n_jobs':[1]\n",
    "}\n",
    "param_grid_8 =  {'randomforestclassifier__max_depth': [None],\n",
    "               'randomforestclassifier__criterion': ['gini'], \n",
    "               'randomforestclassifier__n_estimators':[2,5], \n",
    "               'randomforestclassifier__max_leaf_nodes':[None], \n",
    "               'randomforestclassifier__min_samples_split':[2],\n",
    "               'randomforestclassifier__min_samples_leaf':[1], \n",
    "               'randomforestclassifier__min_weight_fraction_leaf':[0.0],\n",
    "               'randomforestclassifier__n_jobs':[1]\n",
    "}"
   ]
  },
  {
   "cell_type": "code",
   "execution_count": 3,
   "metadata": {
    "collapsed": false
   },
   "outputs": [
    {
     "name": "stdout",
     "output_type": "stream",
     "text": [
      "pipeline done.\n",
      "NullToNaNTrans fit done.\n",
      "NullToNaNTrans transform done.\n",
      "NullToNaNTrans fit done.\n",
      "NullToNaNTrans transform done.\n",
      "DataSpliterTrans fit done.\n",
      "DataSpliterTrans fit done.\n",
      "Index(['v1', 'v2', 'v4', 'v5', 'v6', 'v7', 'v8', 'v9', 'v10', 'v11', 'v12', 'v13', 'v14', 'v15', 'v16', 'v17', 'v18', 'v19', 'v20', 'v21', 'v23', 'v25', 'v26', 'v27', 'v28', 'v29', 'v32', 'v33', 'v34', 'v35', 'v36', 'v37', 'v39', 'v40', 'v41', 'v42', 'v43', 'v44', 'v45', 'v46', 'v48', 'v49', 'v50', 'v51', 'v53', 'v54', 'v55', 'v57', 'v58', 'v59', 'v60', 'v61', 'v63', 'v64', 'v65', 'v67', 'v68', 'v69', 'v70', 'v73', 'v76', 'v77', 'v78', 'v80', 'v81', 'v82', 'v83', 'v84', 'v85', 'v86', 'v87', 'v88', 'v89', 'v90', 'v92', 'v93', 'v94', 'v95', 'v96', 'v97', 'v98', 'v99', 'v100', 'v101', 'v102', 'v103', 'v104', 'v105', 'v106', 'v108', 'v109', 'v111', 'v114', 'v115', 'v116', 'v117', 'v118', 'v119', 'v120', 'v121', ...], dtype='object') Int64Index([85, 12, 14, 6, 8, 77, 35, 34, 76, 27, 15, 50, 37, 75, 94, 62, 69, 60, 24, 49, 81, 63, 80, 87, 79, 44, 38, 72, 26, 31, 22, 68, 13, 42, 7, 51, 71, 0, 92, 21], dtype='int64')\n",
      "Index(['v1', 'v2', 'v4', 'v5', 'v6', 'v7', 'v8', 'v9', 'v10', 'v11', 'v12', 'v13', 'v14', 'v15', 'v16', 'v17', 'v18', 'v19', 'v20', 'v21', 'v23', 'v25', 'v26', 'v27', 'v28', 'v29', 'v32', 'v33', 'v34', 'v35', 'v36', 'v37', 'v39', 'v40', 'v41', 'v42', 'v43', 'v44', 'v45', 'v46', 'v48', 'v49', 'v50', 'v51', 'v53', 'v54', 'v55', 'v57', 'v58', 'v59', 'v60', 'v61', 'v63', 'v64', 'v65', 'v67', 'v68', 'v69', 'v70', 'v73', 'v76', 'v77', 'v78', 'v80', 'v81', 'v82', 'v83', 'v84', 'v85', 'v86', 'v87', 'v88', 'v89', 'v90', 'v92', 'v93', 'v94', 'v95', 'v96', 'v97', 'v98', 'v99', 'v100', 'v101', 'v102', 'v103', 'v104', 'v105', 'v106', 'v108', 'v109', 'v111', 'v114', 'v115', 'v116', 'v117', 'v118', 'v119', 'v120', 'v121', ...], dtype='object') Int64Index([67, 1, 73, 56, 57, 36, 29, 59, 91, 33, 84, 82, 99, 52, 96, 47, 28, 18, 53, 41, 89, 55, 70, 19, 54, 3, 93, 17, 40, 74, 39, 23, 25, 16, 45, 10, 88, 46, 97, 83], dtype='int64')\n",
      "DataSpliterTrans transform done.\n",
      "DataSpliterTrans transform done.\n",
      "DataSpliterTrans fit done.\n",
      "DataSpliterTrans fit done.\n",
      "Index(['v38', 'v62', 'v72', 'v129'], dtype='object') Int64Index([85, 12, 14, 6, 8, 77, 35, 34, 76, 27, 15, 50, 37, 75, 94, 62, 69, 60, 24, 49, 81, 63, 80, 87, 79, 44, 38, 72, 26, 31, 22, 68, 13, 42, 7, 51, 71, 0, 92, 21], dtype='int64')\n",
      "Index(['v38', 'v62', 'v72', 'v129'], dtype='object') Int64Index([67, 1, 73, 56, 57, 36, 29, 59, 91, 33, 84, 82, 99, 52, 96, 47, 28, 18, 53, 41, 89, 55, 70, 19, 54, 3, 93, 17, 40, 74, 39, 23, 25, 16, 45, 10, 88, 46, 97, 83], dtype='int64')\n",
      "DataSpliterTrans transform done.\n",
      "DataSpliterTrans transform done.\n",
      "DataSpliterTrans fit done.\n",
      "DataSpliterTrans fit done.\n",
      "Index(['v3', 'v22', 'v24', 'v30', 'v31', 'v47', 'v52', 'v56', 'v66', 'v71', 'v74', 'v75', 'v79', 'v91', 'v107', 'v110', 'v112', 'v113', 'v125'], dtype='object') Int64Index([85, 12, 14, 6, 8, 77, 35, 34, 76, 27, 15, 50, 37, 75, 94, 62, 69, 60, 24, 49, 81, 63, 80, 87, 79, 44, 38, 72, 26, 31, 22, 68, 13, 42, 7, 51, 71, 0, 92, 21], dtype='int64')\n",
      "Index(['v3', 'v22', 'v24', 'v30', 'v31', 'v47', 'v52', 'v56', 'v66', 'v71', 'v74', 'v75', 'v79', 'v91', 'v107', 'v110', 'v112', 'v113', 'v125'], dtype='object') Int64Index([67, 1, 73, 56, 57, 36, 29, 59, 91, 33, 84, 82, 99, 52, 96, 47, 28, 18, 53, 41, 89, 55, 70, 19, 54, 3, 93, 17, 40, 74, 39, 23, 25, 16, 45, 10, 88, 46, 97, 83], dtype='int64')\n",
      "DataSpliterTrans transform done.\n",
      "DataSpliterTrans transform done.\n",
      "ObjtoCatStrtoIntTrans fit done.\n",
      "ObjtoCatStrtoIntTrans fit done.\n",
      "(40, 19)\n",
      "ObjtoCatStrtoIntTrans transform done.\n",
      "(40, 19)\n",
      "ObjtoCatStrtoIntTrans transform done.\n",
      "NullToNaNTrans transform done.\n",
      "NullToNaNTrans transform done.\n",
      "Index(['v1', 'v2', 'v4', 'v5', 'v6', 'v7', 'v8', 'v9', 'v10', 'v11', 'v12', 'v13', 'v14', 'v15', 'v16', 'v17', 'v18', 'v19', 'v20', 'v21', 'v23', 'v25', 'v26', 'v27', 'v28', 'v29', 'v32', 'v33', 'v34', 'v35', 'v36', 'v37', 'v39', 'v40', 'v41', 'v42', 'v43', 'v44', 'v45', 'v46', 'v48', 'v49', 'v50', 'v51', 'v53', 'v54', 'v55', 'v57', 'v58', 'v59', 'v60', 'v61', 'v63', 'v64', 'v65', 'v67', 'v68', 'v69', 'v70', 'v73', 'v76', 'v77', 'v78', 'v80', 'v81', 'v82', 'v83', 'v84', 'v85', 'v86', 'v87', 'v88', 'v89', 'v90', 'v92', 'v93', 'v94', 'v95', 'v96', 'v97', 'v98', 'v99', 'v100', 'v101', 'v102', 'v103', 'v104', 'v105', 'v106', 'v108', 'v109', 'v111', 'v114', 'v115', 'v116', 'v117', 'v118', 'v119', 'v120', 'v121', ...], dtype='object') Int64Index([85, 12, 14, 6, 8, 77, 35, 34, 76, 27, 15, 50, 37, 75, 94, 62, 69, 60, 24, 49, 81, 63, 80, 87, 79, 44, 38, 72, 26, 31, 22, 68, 13, 42, 7, 51, 71, 0, 92, 21], dtype='int64')\n",
      "Index(['v1', 'v2', 'v4', 'v5', 'v6', 'v7', 'v8', 'v9', 'v10', 'v11', 'v12', 'v13', 'v14', 'v15', 'v16', 'v17', 'v18', 'v19', 'v20', 'v21', 'v23', 'v25', 'v26', 'v27', 'v28', 'v29', 'v32', 'v33', 'v34', 'v35', 'v36', 'v37', 'v39', 'v40', 'v41', 'v42', 'v43', 'v44', 'v45', 'v46', 'v48', 'v49', 'v50', 'v51', 'v53', 'v54', 'v55', 'v57', 'v58', 'v59', 'v60', 'v61', 'v63', 'v64', 'v65', 'v67', 'v68', 'v69', 'v70', 'v73', 'v76', 'v77', 'v78', 'v80', 'v81', 'v82', 'v83', 'v84', 'v85', 'v86', 'v87', 'v88', 'v89', 'v90', 'v92', 'v93', 'v94', 'v95', 'v96', 'v97', 'v98', 'v99', 'v100', 'v101', 'v102', 'v103', 'v104', 'v105', 'v106', 'v108', 'v109', 'v111', 'v114', 'v115', 'v116', 'v117', 'v118', 'v119', 'v120', 'v121', ...], dtype='object') Int64Index([67, 1, 73, 56, 57, 36, 29, 59, 91, 33, 84, 82, 99, 52, 96, 47, 28, 18, 53, 41, 89, 55, 70, 19, 54, 3, 93, 17, 40, 74, 39, 23, 25, 16, 45, 10, 88, 46, 97, 83], dtype='int64')\n",
      "DataSpliterTrans transform done.\n",
      "DataSpliterTrans transform done.\n",
      "Index(['v38', 'v62', 'v72', 'v129'], dtype='object') Int64Index([85, 12, 14, 6, 8, 77, 35, 34, 76, 27, 15, 50, 37, 75, 94, 62, 69, 60, 24, 49, 81, 63, 80, 87, 79, 44, 38, 72, 26, 31, 22, 68, 13, 42, 7, 51, 71, 0, 92, 21], dtype='int64')\n",
      "Index(['v38', 'v62', 'v72', 'v129'], dtype='object') Int64Index([67, 1, 73, 56, 57, 36, 29, 59, 91, 33, 84, 82, 99, 52, 96, 47, 28, 18, 53, 41, 89, 55, 70, 19, 54, 3, 93, 17, 40, 74, 39, 23, 25, 16, 45, 10, 88, 46, 97, 83], dtype='int64')\n",
      "DataSpliterTrans transform done.\n",
      "DataSpliterTrans transform done.\n",
      "Index(['v3', 'v22', 'v24', 'v30', 'v31', 'v47', 'v52', 'v56', 'v66', 'v71', 'v74', 'v75', 'v79', 'v91', 'v107', 'v110', 'v112', 'v113', 'v125'], dtype='object') Int64Index([67, 1, 73, 56, 57, 36, 29, 59, 91, 33, 84, 82, 99, 52, 96, 47, 28, 18, 53, 41, 89, 55, 70, 19, 54, 3, 93, 17, 40, 74, 39, 23, 25, 16, 45, 10, 88, 46, 97, 83], dtype='int64')\n",
      "Index(['v3', 'v22', 'v24', 'v30', 'v31', 'v47', 'v52', 'v56', 'v66', 'v71', 'v74', 'v75', 'v79', 'v91', 'v107', 'v110', 'v112', 'v113', 'v125'], dtype='object') Int64Index([85, 12, 14, 6, 8, 77, 35, 34, 76, 27, 15, 50, 37, 75, 94, 62, 69, 60, 24, 49, 81, 63, 80, 87, 79, 44, 38, 72, 26, 31, 22, 68, 13, 42, 7, 51, 71, 0, 92, 21], dtype='int64')\n",
      "DataSpliterTrans transform done.\n",
      "DataSpliterTrans transform done.\n",
      "(40, 19)\n",
      "(40, 19)\n",
      "ObjtoCatStrtoIntTrans transform done.\n",
      "ObjtoCatStrtoIntTrans transform done.\n",
      "NullToNaNTrans fit done.\n",
      "NullToNaNTrans transform done.\n",
      "NullToNaNTrans fit done.\n",
      "NullToNaNTrans transform done.\n",
      "DataSpliterTrans fit done.\n",
      "Index(['v1', 'v2', 'v4', 'v5', 'v6', 'v7', 'v8', 'v9', 'v10', 'v11', 'v12', 'v13', 'v14', 'v15', 'v16', 'v17', 'v18', 'v19', 'v20', 'v21', 'v23', 'v25', 'v26', 'v27', 'v28', 'v29', 'v32', 'v33', 'v34', 'v35', 'v36', 'v37', 'v39', 'v40', 'v41', 'v42', 'v43', 'v44', 'v45', 'v46', 'v48', 'v49', 'v50', 'v51', 'v53', 'v54', 'v55', 'v57', 'v58', 'v59', 'v60', 'v61', 'v63', 'v64', 'v65', 'v67', 'v68', 'v69', 'v70', 'v73', 'v76', 'v77', 'v78', 'v80', 'v81', 'v82', 'v83', 'v84', 'v85', 'v86', 'v87', 'v88', 'v89', 'v90', 'v92', 'v93', 'v94', 'v95', 'v96', 'v97', 'v98', 'v99', 'v100', 'v101', 'v102', 'v103', 'v104', 'v105', 'v106', 'v108', 'v109', 'v111', 'v114', 'v115', 'v116', 'v117', 'v118', 'v119', 'v120', 'v121', ...], dtype='object') Int64Index([85, 12, 14, 6, 8, 77, 35, 34, 76, 27, 15, 50, 37, 75, 94, 62, 69, 60, 24, 49, 81, 63, 80, 87, 79, 44, 38, 72, 26, 31, 22, 68, 13, 42, 7, 51, 71, 0, 92, 21], dtype='int64')\n",
      "DataSpliterTrans transform done.\n",
      "DataSpliterTrans fit done.\n",
      "Index(['v1', 'v2', 'v4', 'v5', 'v6', 'v7', 'v8', 'v9', 'v10', 'v11', 'v12', 'v13', 'v14', 'v15', 'v16', 'v17', 'v18', 'v19', 'v20', 'v21', 'v23', 'v25', 'v26', 'v27', 'v28', 'v29', 'v32', 'v33', 'v34', 'v35', 'v36', 'v37', 'v39', 'v40', 'v41', 'v42', 'v43', 'v44', 'v45', 'v46', 'v48', 'v49', 'v50', 'v51', 'v53', 'v54', 'v55', 'v57', 'v58', 'v59', 'v60', 'v61', 'v63', 'v64', 'v65', 'v67', 'v68', 'v69', 'v70', 'v73', 'v76', 'v77', 'v78', 'v80', 'v81', 'v82', 'v83', 'v84', 'v85', 'v86', 'v87', 'v88', 'v89', 'v90', 'v92', 'v93', 'v94', 'v95', 'v96', 'v97', 'v98', 'v99', 'v100', 'v101', 'v102', 'v103', 'v104', 'v105', 'v106', 'v108', 'v109', 'v111', 'v114', 'v115', 'v116', 'v117', 'v118', 'v119', 'v120', 'v121', ...], dtype='object') Int64Index([67, 1, 73, 56, 57, 36, 29, 59, 91, 33, 84, 82, 99, 52, 96, 47, 28, 18, 53, 41, 89, 55, 70, 19, 54, 3, 93, 17, 40, 74, 39, 23, 25, 16, 45, 10, 88, 46, 97, 83], dtype='int64')\n",
      "DataSpliterTrans transform done.\n",
      "DataSpliterTrans fit done.\n",
      "Index(['v38', 'v62', 'v72', 'v129'], dtype='object') Int64Index([85, 12, 14, 6, 8, 77, 35, 34, 76, 27, 15, 50, 37, 75, 94, 62, 69, 60, 24, 49, 81, 63, 80, 87, 79, 44, 38, 72, 26, 31, 22, 68, 13, 42, 7, 51, 71, 0, 92, 21], dtype='int64')\n",
      "DataSpliterTrans transform done.\n",
      "DataSpliterTrans fit done.\n",
      "Index(['v38', 'v62', 'v72', 'v129'], dtype='object') Int64Index([67, 1, 73, 56, 57, 36, 29, 59, 91, 33, 84, 82, 99, 52, 96, 47, 28, 18, 53, 41, 89, 55, 70, 19, 54, 3, 93, 17, 40, 74, 39, 23, 25, 16, 45, 10, 88, 46, 97, 83], dtype='int64')\n",
      "DataSpliterTrans transform done.\n",
      "DataSpliterTrans fit done.\n",
      "Index(['v3', 'v22', 'v24', 'v30', 'v31', 'v47', 'v52', 'v56', 'v66', 'v71', 'v74', 'v75', 'v79', 'v91', 'v107', 'v110', 'v112', 'v113', 'v125'], dtype='object') Int64Index([85, 12, 14, 6, 8, 77, 35, 34, 76, 27, 15, 50, 37, 75, 94, 62, 69, 60, 24, 49, 81, 63, 80, 87, 79, 44, 38, 72, 26, 31, 22, 68, 13, 42, 7, 51, 71, 0, 92, 21], dtype='int64')\n",
      "DataSpliterTrans transform done.\n",
      "DataSpliterTrans fit done.\n",
      "Index(['v3', 'v22', 'v24', 'v30', 'v31', 'v47', 'v52', 'v56', 'v66', 'v71', 'v74', 'v75', 'v79', 'v91', 'v107', 'v110', 'v112', 'v113', 'v125'], dtype='object') Int64Index([67, 1, 73, 56, 57, 36, 29, 59, 91, 33, 84, 82, 99, 52, 96, 47, 28, 18, 53, 41, 89, 55, 70, 19, 54, 3, 93, 17, 40, 74, 39, 23, 25, 16, 45, 10, 88, 46, 97, 83], dtype='int64')\n",
      "DataSpliterTrans transform done.\n",
      "ObjtoCatStrtoIntTrans fit done.\n",
      "ObjtoCatStrtoIntTrans fit done.\n",
      "(40, 19)\n",
      "ObjtoCatStrtoIntTrans transform done.\n",
      "(40, 19)\n",
      "ObjtoCatStrtoIntTrans transform done.\n",
      "NullToNaNTrans transform done.\n",
      "NullToNaNTrans transform done.\n",
      "Index(['v1', 'v2', 'v4', 'v5', 'v6', 'v7', 'v8', 'v9', 'v10', 'v11', 'v12', 'v13', 'v14', 'v15', 'v16', 'v17', 'v18', 'v19', 'v20', 'v21', 'v23', 'v25', 'v26', 'v27', 'v28', 'v29', 'v32', 'v33', 'v34', 'v35', 'v36', 'v37', 'v39', 'v40', 'v41', 'v42', 'v43', 'v44', 'v45', 'v46', 'v48', 'v49', 'v50', 'v51', 'v53', 'v54', 'v55', 'v57', 'v58', 'v59', 'v60', 'v61', 'v63', 'v64', 'v65', 'v67', 'v68', 'v69', 'v70', 'v73', 'v76', 'v77', 'v78', 'v80', 'v81', 'v82', 'v83', 'v84', 'v85', 'v86', 'v87', 'v88', 'v89', 'v90', 'v92', 'v93', 'v94', 'v95', 'v96', 'v97', 'v98', 'v99', 'v100', 'v101', 'v102', 'v103', 'v104', 'v105', 'v106', 'v108', 'v109', 'v111', 'v114', 'v115', 'v116', 'v117', 'v118', 'v119', 'v120', 'v121', ...], dtype='object') Int64Index([67, 1, 73, 56, 57, 36, 29, 59, 91, 33, 84, 82, 99, 52, 96, 47, 28, 18, 53, 41, 89, 55, 70, 19, 54, 3, 93, 17, 40, 74, 39, 23, 25, 16, 45, 10, 88, 46, 97, 83], dtype='int64')\n",
      "DataSpliterTrans transform done.\n",
      "Index(['v38', 'v62', 'v72', 'v129'], dtype='object') Int64Index([67, 1, 73, 56, 57, 36, 29, 59, 91, 33, 84, 82, 99, 52, 96, 47, 28, 18, 53, 41, 89, 55, 70, 19, 54, 3, 93, 17, 40, 74, 39, 23, 25, 16, 45, 10, 88, 46, 97, 83], dtype='int64')\n",
      "Index(['v1', 'v2', 'v4', 'v5', 'v6', 'v7', 'v8', 'v9', 'v10', 'v11', 'v12', 'v13', 'v14', 'v15', 'v16', 'v17', 'v18', 'v19', 'v20', 'v21', 'v23', 'v25', 'v26', 'v27', 'v28', 'v29', 'v32', 'v33', 'v34', 'v35', 'v36', 'v37', 'v39', 'v40', 'v41', 'v42', 'v43', 'v44', 'v45', 'v46', 'v48', 'v49', 'v50', 'v51', 'v53', 'v54', 'v55', 'v57', 'v58', 'v59', 'v60', 'v61', 'v63', 'v64', 'v65', 'v67', 'v68', 'v69', 'v70', 'v73', 'v76', 'v77', 'v78', 'v80', 'v81', 'v82', 'v83', 'v84', 'v85', 'v86', 'v87', 'v88', 'v89', 'v90', 'v92', 'v93', 'v94', 'v95', 'v96', 'v97', 'v98', 'v99', 'v100', 'v101', 'v102', 'v103', 'v104', 'v105', 'v106', 'v108', 'v109', 'v111', 'v114', 'v115', 'v116', 'v117', 'v118', 'v119', 'v120', 'v121', ...], dtype='object') Int64Index([85, 12, 14, 6, 8, 77, 35, 34, 76, 27, 15, 50, 37, 75, 94, 62, 69, 60, 24, 49, 81, 63, 80, 87, 79, 44, 38, 72, 26, 31, 22, 68, 13, 42, 7, 51, 71, 0, 92, 21], dtype='int64')\n",
      "DataSpliterTrans transform done.\n",
      "DataSpliterTrans transform done.\n",
      "Index(['v38', 'v62', 'v72', 'v129'], dtype='object') Int64Index([85, 12, 14, 6, 8, 77, 35, 34, 76, 27, 15, 50, 37, 75, 94, 62, 69, 60, 24, 49, 81, 63, 80, 87, 79, 44, 38, 72, 26, 31, 22, 68, 13, 42, 7, 51, 71, 0, 92, 21], dtype='int64')\n",
      "Index(['v3', 'v22', 'v24', 'v30', 'v31', 'v47', 'v52', 'v56', 'v66', 'v71', 'v74', 'v75', 'v79', 'v91', 'v107', 'v110', 'v112', 'v113', 'v125'], dtype='object') Int64Index([67, 1, 73, 56, 57, 36, 29, 59, 91, 33, 84, 82, 99, 52, 96, 47, 28, 18, 53, 41, 89, 55, 70, 19, 54, 3, 93, 17, 40, 74, 39, 23, 25, 16, 45, 10, 88, 46, 97, 83], dtype='int64')\n",
      "DataSpliterTrans transform done.\n",
      "DataSpliterTrans transform done.\n",
      "Index(['v3', 'v22', 'v24', 'v30', 'v31', 'v47', 'v52', 'v56', 'v66', 'v71', 'v74', 'v75', 'v79', 'v91', 'v107', 'v110', 'v112', 'v113', 'v125'], dtype='object') Int64Index([85, 12, 14, 6, 8, 77, 35, 34, 76, 27, 15, 50, 37, 75, 94, 62, 69, 60, 24, 49, 81, 63, 80, 87, 79, 44, 38, 72, 26, 31, 22, 68, 13, 42, 7, 51, 71, 0, 92, 21], dtype='int64')\n",
      "DataSpliterTrans transform done.\n",
      "(40, 19)\n",
      "ObjtoCatStrtoIntTrans transform done.\n",
      "(40, 19)\n",
      "ObjtoCatStrtoIntTrans transform done.\n",
      "NullToNaNTrans fit done.\n",
      "NullToNaNTrans transform done.\n",
      "DataSpliterTrans fit done.\n",
      "Index(['v1', 'v2', 'v4', 'v5', 'v6', 'v7', 'v8', 'v9', 'v10', 'v11', 'v12', 'v13', 'v14', 'v15', 'v16', 'v17', 'v18', 'v19', 'v20', 'v21', 'v23', 'v25', 'v26', 'v27', 'v28', 'v29', 'v32', 'v33', 'v34', 'v35', 'v36', 'v37', 'v39', 'v40', 'v41', 'v42', 'v43', 'v44', 'v45', 'v46', 'v48', 'v49', 'v50', 'v51', 'v53', 'v54', 'v55', 'v57', 'v58', 'v59', 'v60', 'v61', 'v63', 'v64', 'v65', 'v67', 'v68', 'v69', 'v70', 'v73', 'v76', 'v77', 'v78', 'v80', 'v81', 'v82', 'v83', 'v84', 'v85', 'v86', 'v87', 'v88', 'v89', 'v90', 'v92', 'v93', 'v94', 'v95', 'v96', 'v97', 'v98', 'v99', 'v100', 'v101', 'v102', 'v103', 'v104', 'v105', 'v106', 'v108', 'v109', 'v111', 'v114', 'v115', 'v116', 'v117', 'v118', 'v119', 'v120', 'v121', ...], dtype='object') Int64Index([67, 1, 73, 56, 57, 36, 29, 59, 91, 33, 84, 82, 99, 52, 96, 47, 28, 18, 53, 41, 89, 55, 70, 19, 54, 3, 93, 17, 40, 85, 74, 39, 23, 25, 16, 45, 10, 88, 46, 97, 12, 83, 14, 6, 8, 77, 35, 34, 76, 27, 15, 50, 37, 75, 94, 62, 69, 60, 24, 49, 81, 63, 80, 87, 79, 44, 38, 72, 26, 31, 22, 68, 13, 42, 7, 51, 71, 0, 92, 21], dtype='int64')\n",
      "DataSpliterTrans transform done.\n",
      "DataSpliterTrans fit done.\n",
      "Index(['v38', 'v62', 'v72', 'v129'], dtype='object') Int64Index([67, 1, 73, 56, 57, 36, 29, 59, 91, 33, 84, 82, 99, 52, 96, 47, 28, 18, 53, 41, 89, 55, 70, 19, 54, 3, 93, 17, 40, 85, 74, 39, 23, 25, 16, 45, 10, 88, 46, 97, 12, 83, 14, 6, 8, 77, 35, 34, 76, 27, 15, 50, 37, 75, 94, 62, 69, 60, 24, 49, 81, 63, 80, 87, 79, 44, 38, 72, 26, 31, 22, 68, 13, 42, 7, 51, 71, 0, 92, 21], dtype='int64')\n",
      "DataSpliterTrans transform done.\n",
      "DataSpliterTrans fit done.\n",
      "Index(['v3', 'v22', 'v24', 'v30', 'v31', 'v47', 'v52', 'v56', 'v66', 'v71', 'v74', 'v75', 'v79', 'v91', 'v107', 'v110', 'v112', 'v113', 'v125'], dtype='object') Int64Index([67, 1, 73, 56, 57, 36, 29, 59, 91, 33, 84, 82, 99, 52, 96, 47, 28, 18, 53, 41, 89, 55, 70, 19, 54, 3, 93, 17, 40, 85, 74, 39, 23, 25, 16, 45, 10, 88, 46, 97, 12, 83, 14, 6, 8, 77, 35, 34, 76, 27, 15, 50, 37, 75, 94, 62, 69, 60, 24, 49, 81, 63, 80, 87, 79, 44, 38, 72, 26, 31, 22, 68, 13, 42, 7, 51, 71, 0, 92, 21], dtype='int64')\n",
      "DataSpliterTrans transform done.\n",
      "ObjtoCatStrtoIntTrans fit done.\n",
      "(80, 19)\n",
      "ObjtoCatStrtoIntTrans transform done.\n"
     ]
    }
   ],
   "source": [
    "##### generate pipeline \n",
    "## X.shape (91456, 108)\n",
    "call = PipelineBNP(RandomForestClassifier)\n",
    "gs = grid_search.GridSearchCV(call, param_grid_8, cv=2, scoring='roc_auc', n_jobs=2, pre_dispatch='n_jobs')\n",
    "gs = gs.fit(x_train,y_train)"
   ]
  },
  {
   "cell_type": "code",
   "execution_count": null,
   "metadata": {
    "collapsed": false
   },
   "outputs": [],
   "source": [
    "##### plot the roc_auc to compare parameters\n",
    "sco = gs.grid_scores_\n",
    "sco"
   ]
  },
  {
   "cell_type": "code",
   "execution_count": null,
   "metadata": {
    "collapsed": false
   },
   "outputs": [],
   "source": [
    "# extract data from scoring function\n",
    "meanv = np.zeros(len(sco))\n",
    "deptv = np.zeros(len(sco),dtype=np.int)\n",
    "estiv = np.zeros(len(sco),dtype=np.int)\n",
    "deptk = [i for i in sco[0].parameters.keys()][3]\n",
    "estik = [i for i in sco[0].parameters.keys()][1]\n",
    "\n",
    "l = 0\n",
    "while l < len(sco):\n",
    "    mean = sco[l].mean_validation_score\n",
    "    par = sco[l].parameters.values()\n",
    "    values = [v for v in par]\n",
    "    meanv[l] = mean\n",
    "    estiv[l] = values[1]\n",
    "    deptv[l] = values[3]\n",
    "    l += 1\n",
    "print(deptk,estik)"
   ]
  },
  {
   "cell_type": "code",
   "execution_count": null,
   "metadata": {
    "collapsed": false
   },
   "outputs": [],
   "source": [
    "# plot scoring function data\n",
    "ma = np.matrix([[meanv[0], meanv[1]], [meanv[2], meanv[3]]], dtype=np.float64)\n",
    "scores = pd.DataFrame(ma,columns=np.unique(estiv),index=np.unique(deptv))\n",
    "ax = sns.heatmap(scores)\n",
    "ax.set_title('parameters evaluation roc_auc 7 depth vs n_estimators')\n",
    "ax.set_title\n",
    "fig = ax.get_figure()\n",
    "fig.savefig(\"par_eval_7_depth40_55_esti5_10.png\")\n",
    "print(ma)"
   ]
  },
  {
   "cell_type": "code",
   "execution_count": null,
   "metadata": {
    "collapsed": true
   },
   "outputs": [],
   "source": [
    "test.head()"
   ]
  },
  {
   "cell_type": "code",
   "execution_count": null,
   "metadata": {
    "collapsed": true
   },
   "outputs": [],
   "source": [
    "##### generate y_predict\n",
    "y_predict = gs.predict_proba(x_test)"
   ]
  },
  {
   "cell_type": "code",
   "execution_count": null,
   "metadata": {
    "collapsed": false
   },
   "outputs": [],
   "source": [
    "##### check parameters\n",
    "#call.get_params()"
   ]
  },
  {
   "cell_type": "code",
   "execution_count": null,
   "metadata": {
    "collapsed": true
   },
   "outputs": [],
   "source": [
    "##### Compute ROC curve and ROC area for each fold\n",
    "fpr1, tpr1, thresholds1 = metrics.roc_curve(y_test1,y_predict1_1)\n",
    "a1 = metrics.auc(fpr1, tpr1)\n",
    "fpr2, tpr2, thresholds2 = metrics.roc_curve(y_test2,y_predict2_1)\n",
    "a2 = metrics.auc(fpr2, tpr2)\n",
    "fpr3, tpr3, thresholds3 = metrics.roc_curve(y_test3,y_predict3_1)\n",
    "a3 = metrics.auc(fpr3, tpr3)"
   ]
  },
  {
   "cell_type": "code",
   "execution_count": null,
   "metadata": {
    "collapsed": false
   },
   "outputs": [],
   "source": [
    "ax = sns.set_style(\"whitegrid\")\n",
    "ax = sns.set_context(\"notebook\", font_scale=1.1, rc={\"lines.linewidth\": 1.5})"
   ]
  },
  {
   "cell_type": "code",
   "execution_count": null,
   "metadata": {
    "collapsed": false
   },
   "outputs": [],
   "source": [
    "plt.plot(fpr1, tpr1, label='ROC curve 1 (area = %0.2f)' % a1)\n",
    "plt.plot(fpr2, tpr2, label='ROC curve 2 (area = %0.2f)' % a2)\n",
    "plt.plot(fpr3, tpr3, label='ROC curve 3 (area = %0.2f)' % a3)\n",
    "plt.xlabel('False Positive Rate')\n",
    "plt.ylabel('True Positive Rate')\n",
    "plt.title('ROC Curve for 3-fold CV before Grid Search')\n",
    "plt.legend(loc=\"lower right\")\n",
    "plt.show()\n",
    "plt.savefig(\"ROC_Curve_wGS\")"
   ]
  },
  {
   "cell_type": "code",
   "execution_count": null,
   "metadata": {
    "collapsed": true
   },
   "outputs": [],
   "source": []
  }
 ],
 "metadata": {
  "kernelspec": {
   "display_name": "Python 3",
   "language": "python",
   "name": "python3"
  },
  "language_info": {
   "codemirror_mode": {
    "name": "ipython",
    "version": 3
   },
   "file_extension": ".py",
   "mimetype": "text/x-python",
   "name": "python",
   "nbconvert_exporter": "python",
   "pygments_lexer": "ipython3",
   "version": "3.4.3+"
  }
 },
 "nbformat": 4,
 "nbformat_minor": 0
}
