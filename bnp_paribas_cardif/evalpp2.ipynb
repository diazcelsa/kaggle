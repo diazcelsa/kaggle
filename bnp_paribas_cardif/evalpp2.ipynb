{
 "cells": [
  {
   "cell_type": "code",
   "execution_count": 1,
   "metadata": {
    "collapsed": false
   },
   "outputs": [],
   "source": [
    "################\n",
    "################   Clean Data + Generate Model + Evaluate\n",
    "################   BNP Paribas Cardif Claims Management Kaggle Competition\n",
    "################\n",
    "\n",
    "import pandas as pd\n",
    "import numpy as np\n",
    "import matplotlib.pyplot as plt\n",
    "from pandas import Series, DataFrame\n",
    "import seaborn as sns\n",
    "from sklearn import preprocessing\n",
    "from sklearn.preprocessing import OneHotEncoder\n",
    "from sklearn.preprocessing import Imputer\n",
    "from sklearn.ensemble import RandomForestClassifier\n",
    "from sklearn.metrics import confusion_matrix\n",
    "from sklearn.cross_validation import KFold\n",
    "from sklearn.cross_validation import train_test_split\n",
    "from sklearn import metrics\n",
    "from scipy import stats\n",
    "\n",
    "# import other methods\n",
    "from clean import *\n",
    "\n",
    "%matplotlib inline\n",
    "\n",
    "##### upload data\n",
    "train = pd.read_csv(\"../../../github_data/bnp_paribas_cardif_data/train.csv\")\n",
    "test = pd.read_csv(\"../../../github_data/bnp_paribas_cardif_data/test.csv\")\n",
    "sample = pd.read_csv(\"../../../github_data/bnp_paribas_cardif_data/sample_submission.csv\")\n",
    "trains = train[:500]\n",
    "tests = test[:500]\n",
    "\n",
    "\n",
    "##### split and clean data  \n",
    "tr_a, te_a = train_test_split(train, train_size = 0.8)\n",
    "## define variables \n",
    "y_train = tr_a.target\n",
    "y_test = te_a.target\n",
    "columns = train.columns\n",
    "x_train = tr_a[columns[2:]]\n",
    "x_test = te_a[columns[2:]]"
   ]
  },
  {
   "cell_type": "code",
   "execution_count": 2,
   "metadata": {
    "collapsed": false
   },
   "outputs": [
    {
     "name": "stdout",
     "output_type": "stream",
     "text": [
      "pipeline done.\n",
      "NullToNaNTrans fit done.\n",
      "NullToNaNTrans transform done.\n",
      "DataSpliterTrans fit done.\n",
      "(91456, 108)\n",
      "DataSpliterTrans transform done.\n",
      "DataSpliterTrans fit done.\n",
      "(91456, 4)\n",
      "DataSpliterTrans transform done.\n",
      "DataSpliterTrans fit done.\n",
      "(91456, 19)\n",
      "DataSpliterTrans transform done.\n",
      "ObjtoCatStrtoIntTrans fit done.\n",
      "(91456, 19)\n",
      "ObjtoCatStrtoIntTrans transform done.\n"
     ]
    }
   ],
   "source": [
    "##### generate pipeline \n",
    "## X.shape (91456, 108)\n",
    "call = PipelineBNP(RandomForestClassifier)\n",
    "call.set_params()\n",
    "call = call.fit(x_train,y_train)"
   ]
  },
  {
   "cell_type": "code",
   "execution_count": 3,
   "metadata": {
    "collapsed": false
   },
   "outputs": [
    {
     "name": "stdout",
     "output_type": "stream",
     "text": [
      "NullToNaNTrans transform done.\n",
      "(22865, 108)\n",
      "DataSpliterTrans transform done.\n",
      "(22865, 4)\n",
      "DataSpliterTrans transform done.\n",
      "(22865, 19)\n",
      "DataSpliterTrans transform done.\n",
      "(22865, 19)\n",
      "ObjtoCatStrtoIntTrans transform done.\n"
     ]
    }
   ],
   "source": [
    "##### generate y_predict\n",
    "y_predict = call.predict_proba(x_test)"
   ]
  },
  {
   "cell_type": "code",
   "execution_count": 27,
   "metadata": {
    "collapsed": false
   },
   "outputs": [
    {
     "data": {
      "text/plain": [
       "{'featureunion': FeatureUnion(n_jobs=1,\n",
       "        transformer_list=[('pipeline-1', Pipeline(steps=[('datasplitertrans', DataSpliterTrans(columns=None, data=None)), ('imputer', Imputer(axis=0, copy=True, missing_values='NaN', strategy='median', verbose=0))])), ('pipeline-2', Pipeline(steps=[('datasplitertrans', DataSpliterTrans(columns=None, data=No...ures='all', dtype=<class 'float'>,\n",
       "        handle_unknown='error', n_values='auto', sparse=True))]))],\n",
       "        transformer_weights=None),\n",
       " 'featureunion__n_jobs': 1,\n",
       " 'featureunion__pipeline-1': Pipeline(steps=[('datasplitertrans', DataSpliterTrans(columns=None, data=None)), ('imputer', Imputer(axis=0, copy=True, missing_values='NaN', strategy='median', verbose=0))]),\n",
       " 'featureunion__pipeline-1__datasplitertrans': DataSpliterTrans(columns=None, data=None),\n",
       " 'featureunion__pipeline-1__datasplitertrans__columns': None,\n",
       " 'featureunion__pipeline-1__datasplitertrans__data': None,\n",
       " 'featureunion__pipeline-1__imputer': Imputer(axis=0, copy=True, missing_values='NaN', strategy='median', verbose=0),\n",
       " 'featureunion__pipeline-1__imputer__axis': 0,\n",
       " 'featureunion__pipeline-1__imputer__copy': True,\n",
       " 'featureunion__pipeline-1__imputer__missing_values': 'NaN',\n",
       " 'featureunion__pipeline-1__imputer__strategy': 'median',\n",
       " 'featureunion__pipeline-1__imputer__verbose': 0,\n",
       " 'featureunion__pipeline-1__steps': [('datasplitertrans',\n",
       "   DataSpliterTrans(columns=None, data=None)),\n",
       "  ('imputer',\n",
       "   Imputer(axis=0, copy=True, missing_values='NaN', strategy='median', verbose=0))],\n",
       " 'featureunion__pipeline-2': Pipeline(steps=[('datasplitertrans', DataSpliterTrans(columns=None, data=None)), ('imputer', Imputer(axis=0, copy=True, missing_values='NaN', strategy='most_frequent',\n",
       "     verbose=0)), ('onehotencoder', OneHotEncoder(categorical_features='all', dtype=<class 'float'>,\n",
       "        handle_unknown='error', n_values='auto', sparse=True))]),\n",
       " 'featureunion__pipeline-2__datasplitertrans': DataSpliterTrans(columns=None, data=None),\n",
       " 'featureunion__pipeline-2__datasplitertrans__columns': None,\n",
       " 'featureunion__pipeline-2__datasplitertrans__data': None,\n",
       " 'featureunion__pipeline-2__imputer': Imputer(axis=0, copy=True, missing_values='NaN', strategy='most_frequent',\n",
       "     verbose=0),\n",
       " 'featureunion__pipeline-2__imputer__axis': 0,\n",
       " 'featureunion__pipeline-2__imputer__copy': True,\n",
       " 'featureunion__pipeline-2__imputer__missing_values': 'NaN',\n",
       " 'featureunion__pipeline-2__imputer__strategy': 'most_frequent',\n",
       " 'featureunion__pipeline-2__imputer__verbose': 0,\n",
       " 'featureunion__pipeline-2__onehotencoder': OneHotEncoder(categorical_features='all', dtype=<class 'float'>,\n",
       "        handle_unknown='error', n_values='auto', sparse=True),\n",
       " 'featureunion__pipeline-2__onehotencoder__categorical_features': 'all',\n",
       " 'featureunion__pipeline-2__onehotencoder__dtype': float,\n",
       " 'featureunion__pipeline-2__onehotencoder__handle_unknown': 'error',\n",
       " 'featureunion__pipeline-2__onehotencoder__n_values': 'auto',\n",
       " 'featureunion__pipeline-2__onehotencoder__sparse': True,\n",
       " 'featureunion__pipeline-2__steps': [('datasplitertrans',\n",
       "   DataSpliterTrans(columns=None, data=None)),\n",
       "  ('imputer',\n",
       "   Imputer(axis=0, copy=True, missing_values='NaN', strategy='most_frequent',\n",
       "       verbose=0)),\n",
       "  ('onehotencoder',\n",
       "   OneHotEncoder(categorical_features='all', dtype=<class 'float'>,\n",
       "          handle_unknown='error', n_values='auto', sparse=True))],\n",
       " 'featureunion__pipeline-3': Pipeline(steps=[('datasplitertrans', DataSpliterTrans(columns=None, data=None)), ('objtocatstrtointtrans', ObjtoCatStrtoIntTrans(columns=None)), ('imputer', Imputer(axis=0, copy=True, missing_values='NaN', strategy='most_frequent',\n",
       "     verbose=0)), ('onehotencoder', OneHotEncoder(categorical_features='all', dtype=<class 'float'>,\n",
       "        handle_unknown='error', n_values='auto', sparse=True))]),\n",
       " 'featureunion__pipeline-3__datasplitertrans': DataSpliterTrans(columns=None, data=None),\n",
       " 'featureunion__pipeline-3__datasplitertrans__columns': None,\n",
       " 'featureunion__pipeline-3__datasplitertrans__data': None,\n",
       " 'featureunion__pipeline-3__imputer': Imputer(axis=0, copy=True, missing_values='NaN', strategy='most_frequent',\n",
       "     verbose=0),\n",
       " 'featureunion__pipeline-3__imputer__axis': 0,\n",
       " 'featureunion__pipeline-3__imputer__copy': True,\n",
       " 'featureunion__pipeline-3__imputer__missing_values': 'NaN',\n",
       " 'featureunion__pipeline-3__imputer__strategy': 'most_frequent',\n",
       " 'featureunion__pipeline-3__imputer__verbose': 0,\n",
       " 'featureunion__pipeline-3__objtocatstrtointtrans': ObjtoCatStrtoIntTrans(columns=None),\n",
       " 'featureunion__pipeline-3__objtocatstrtointtrans__columns': None,\n",
       " 'featureunion__pipeline-3__onehotencoder': OneHotEncoder(categorical_features='all', dtype=<class 'float'>,\n",
       "        handle_unknown='error', n_values='auto', sparse=True),\n",
       " 'featureunion__pipeline-3__onehotencoder__categorical_features': 'all',\n",
       " 'featureunion__pipeline-3__onehotencoder__dtype': float,\n",
       " 'featureunion__pipeline-3__onehotencoder__handle_unknown': 'error',\n",
       " 'featureunion__pipeline-3__onehotencoder__n_values': 'auto',\n",
       " 'featureunion__pipeline-3__onehotencoder__sparse': True,\n",
       " 'featureunion__pipeline-3__steps': [('datasplitertrans',\n",
       "   DataSpliterTrans(columns=None, data=None)),\n",
       "  ('objtocatstrtointtrans', ObjtoCatStrtoIntTrans(columns=None)),\n",
       "  ('imputer',\n",
       "   Imputer(axis=0, copy=True, missing_values='NaN', strategy='most_frequent',\n",
       "       verbose=0)),\n",
       "  ('onehotencoder',\n",
       "   OneHotEncoder(categorical_features='all', dtype=<class 'float'>,\n",
       "          handle_unknown='error', n_values='auto', sparse=True))],\n",
       " 'featureunion__transformer_list': [('pipeline-1',\n",
       "   Pipeline(steps=[('datasplitertrans', DataSpliterTrans(columns=None, data=None)), ('imputer', Imputer(axis=0, copy=True, missing_values='NaN', strategy='median', verbose=0))])),\n",
       "  ('pipeline-2',\n",
       "   Pipeline(steps=[('datasplitertrans', DataSpliterTrans(columns=None, data=None)), ('imputer', Imputer(axis=0, copy=True, missing_values='NaN', strategy='most_frequent',\n",
       "       verbose=0)), ('onehotencoder', OneHotEncoder(categorical_features='all', dtype=<class 'float'>,\n",
       "          handle_unknown='error', n_values='auto', sparse=True))])),\n",
       "  ('pipeline-3',\n",
       "   Pipeline(steps=[('datasplitertrans', DataSpliterTrans(columns=None, data=None)), ('objtocatstrtointtrans', ObjtoCatStrtoIntTrans(columns=None)), ('imputer', Imputer(axis=0, copy=True, missing_values='NaN', strategy='most_frequent',\n",
       "       verbose=0)), ('onehotencoder', OneHotEncoder(categorical_features='all', dtype=<class 'float'>,\n",
       "          handle_unknown='error', n_values='auto', sparse=True))]))],\n",
       " 'featureunion__transformer_weights': None,\n",
       " 'nulltonantrans': NullToNaNTrans(),\n",
       " 'randomforestclassifier': RandomForestClassifier(bootstrap=True, class_weight=None, criterion='gini',\n",
       "             max_depth=None, max_features='auto', max_leaf_nodes=None,\n",
       "             min_samples_leaf=1, min_samples_split=2,\n",
       "             min_weight_fraction_leaf=0.0, n_estimators=10, n_jobs=1,\n",
       "             oob_score=False, random_state=None, verbose=0,\n",
       "             warm_start=False),\n",
       " 'randomforestclassifier__bootstrap': True,\n",
       " 'randomforestclassifier__class_weight': None,\n",
       " 'randomforestclassifier__criterion': 'gini',\n",
       " 'randomforestclassifier__max_depth': None,\n",
       " 'randomforestclassifier__max_features': 'auto',\n",
       " 'randomforestclassifier__max_leaf_nodes': None,\n",
       " 'randomforestclassifier__min_samples_leaf': 1,\n",
       " 'randomforestclassifier__min_samples_split': 2,\n",
       " 'randomforestclassifier__min_weight_fraction_leaf': 0.0,\n",
       " 'randomforestclassifier__n_estimators': 10,\n",
       " 'randomforestclassifier__n_jobs': 1,\n",
       " 'randomforestclassifier__oob_score': False,\n",
       " 'randomforestclassifier__random_state': None,\n",
       " 'randomforestclassifier__verbose': 0,\n",
       " 'randomforestclassifier__warm_start': False,\n",
       " 'steps': [('nulltonantrans', NullToNaNTrans()),\n",
       "  ('featureunion', FeatureUnion(n_jobs=1,\n",
       "          transformer_list=[('pipeline-1', Pipeline(steps=[('datasplitertrans', DataSpliterTrans(columns=None, data=None)), ('imputer', Imputer(axis=0, copy=True, missing_values='NaN', strategy='median', verbose=0))])), ('pipeline-2', Pipeline(steps=[('datasplitertrans', DataSpliterTrans(columns=None, data=No...ures='all', dtype=<class 'float'>,\n",
       "          handle_unknown='error', n_values='auto', sparse=True))]))],\n",
       "          transformer_weights=None)),\n",
       "  ('randomforestclassifier',\n",
       "   RandomForestClassifier(bootstrap=True, class_weight=None, criterion='gini',\n",
       "               max_depth=None, max_features='auto', max_leaf_nodes=None,\n",
       "               min_samples_leaf=1, min_samples_split=2,\n",
       "               min_weight_fraction_leaf=0.0, n_estimators=10, n_jobs=1,\n",
       "               oob_score=False, random_state=None, verbose=0,\n",
       "               warm_start=False))]}"
      ]
     },
     "execution_count": 27,
     "metadata": {},
     "output_type": "execute_result"
    }
   ],
   "source": [
    "##### check parameters\n",
    "call.get_params()"
   ]
  },
  {
   "cell_type": "code",
   "execution_count": 5,
   "metadata": {
    "collapsed": false
   },
   "outputs": [
    {
     "data": {
      "text/plain": [
       "array([[ 1405,  4012],\n",
       "       [ 1665, 15783]])"
      ]
     },
     "execution_count": 5,
     "metadata": {},
     "output_type": "execute_result"
    }
   ],
   "source": [
    "##### first evaluation confusion matrix\n",
    "cm1 = confusion_matrix(y_test,y_predict)\n",
    "cm1"
   ]
  },
  {
   "cell_type": "code",
   "execution_count": 6,
   "metadata": {
    "collapsed": false
   },
   "outputs": [
    {
     "data": {
      "text/plain": [
       "<matplotlib.text.Text at 0x7fa3544a6a20>"
      ]
     },
     "execution_count": 6,
     "metadata": {},
     "output_type": "execute_result"
    },
    {
     "data": {
      "image/png": "[encoded data removed]",
      "text/plain": [
       "<matplotlib.figure.Figure at 0x7fa354da2588>"
      ]
     },
     "metadata": {},
     "output_type": "display_data"
    }
   ],
   "source": [
    "ax = sns.heatmap(cm1)\n",
    "ax.set_title('confusion matrix 1')"
   ]
  },
  {
   "cell_type": "code",
   "execution_count": 7,
   "metadata": {
    "collapsed": true
   },
   "outputs": [],
   "source": [
    "## save confusion matrix 1\n",
    "fig = ax.get_figure()\n",
    "fig.savefig(\"cm1_preCV.png\")"
   ]
  },
  {
   "cell_type": "code",
   "execution_count": null,
   "metadata": {
    "collapsed": true
   },
   "outputs": [],
   "source": [
    "##### first evaluation ROC curve\n",
    "fpr, tpr, thresholds = metrics.roc_curve(y_test,y_predict, pos_label=2)"
   ]
  },
  {
   "cell_type": "code",
   "execution_count": null,
   "metadata": {
    "collapsed": true
   },
   "outputs": [],
   "source": [
    "ax = sns.set_style(\"darkgrid\")\n",
    "plt.plot(np.cumsum(np.random.randn(1000,1)))\n",
    "plt.show()\n",
    "ax.set_title('ROC Curve 1')"
   ]
  },
  {
   "cell_type": "code",
   "execution_count": null,
   "metadata": {
    "collapsed": true
   },
   "outputs": [],
   "source": []
  },
  {
   "cell_type": "code",
   "execution_count": 8,
   "metadata": {
    "collapsed": false
   },
   "outputs": [
    {
     "name": "stdout",
     "output_type": "stream",
     "text": [
      "[30486 30487 30488 ..., 91453 91454 91455] [    0     1     2 ..., 30483 30484 30485]\n",
      "[    0     1     2 ..., 91453 91454 91455] [30486 30487 30488 ..., 60968 60969 60970]\n",
      "[    0     1     2 ..., 60968 60969 60970] [60971 60972 60973 ..., 91453 91454 91455]\n"
     ]
    }
   ],
   "source": [
    "##### cross validation 3 folds\n",
    "kf = KFold(91456, n_folds=3)\n",
    "itr = defaultdict(list)\n",
    "ite = defaultdict(list)\n",
    "c = 0\n",
    "for trai, tes in kf:\n",
    "    print(\"%s %s\" % (trai, tes))\n",
    "    itr[c] = trai\n",
    "    ite[c] = tes\n",
    "    c += 1"
   ]
  },
  {
   "cell_type": "code",
   "execution_count": 9,
   "metadata": {
    "collapsed": false
   },
   "outputs": [],
   "source": [
    "##### redefine my samples\n",
    "\n",
    "#### 2.1 samples\n",
    "x_train1 = x_train.iloc[itr[0],:]\n",
    "x_test1 = x_train.iloc[ite[0],:]\n",
    "y_train1 = tr_a.target.iloc[itr[0]]\n",
    "y_test1 = tr_a.target.iloc[ite[0]]"
   ]
  },
  {
   "cell_type": "code",
   "execution_count": 10,
   "metadata": {
    "collapsed": false
   },
   "outputs": [
    {
     "name": "stdout",
     "output_type": "stream",
     "text": [
      "pipeline done.\n",
      "NullToNaNTrans fit done.\n",
      "NullToNaNTrans transform done.\n",
      "DataSpliterTrans fit done.\n",
      "(60970, 108)\n",
      "DataSpliterTrans transform done.\n",
      "DataSpliterTrans fit done.\n",
      "(60970, 4)\n",
      "DataSpliterTrans transform done.\n",
      "DataSpliterTrans fit done.\n",
      "(60970, 19)\n",
      "DataSpliterTrans transform done.\n",
      "ObjtoCatStrtoIntTrans fit done.\n",
      "(60970, 19)\n",
      "ObjtoCatStrtoIntTrans transform done.\n"
     ]
    }
   ],
   "source": [
    "#### 2.1 make prediction\n",
    "call = PipelineBNP(RandomForestClassifier)\n",
    "call = call.fit(x_train1,y_train1)"
   ]
  },
  {
   "cell_type": "code",
   "execution_count": 11,
   "metadata": {
    "collapsed": false
   },
   "outputs": [
    {
     "name": "stdout",
     "output_type": "stream",
     "text": [
      "NullToNaNTrans transform done.\n",
      "(30486, 108)\n",
      "DataSpliterTrans transform done.\n",
      "(30486, 4)\n",
      "DataSpliterTrans transform done.\n",
      "(30486, 19)\n",
      "DataSpliterTrans transform done.\n",
      "(30486, 19)\n",
      "ObjtoCatStrtoIntTrans transform done.\n"
     ]
    }
   ],
   "source": [
    "y_predict1 = call.predict_proba(x_test1)"
   ]
  },
  {
   "cell_type": "code",
   "execution_count": 12,
   "metadata": {
    "collapsed": false
   },
   "outputs": [
    {
     "data": {
      "text/plain": [
       "array([[ 1767,  5531],\n",
       "       [ 2209, 20979]])"
      ]
     },
     "execution_count": 12,
     "metadata": {},
     "output_type": "execute_result"
    }
   ],
   "source": [
    "#### 2.1 confusion matrix\n",
    "cm21 = confusion_matrix(y_test1,y_predict1)\n",
    "cm21"
   ]
  },
  {
   "cell_type": "code",
   "execution_count": 13,
   "metadata": {
    "collapsed": false
   },
   "outputs": [
    {
     "data": {
      "text/plain": [
       "<matplotlib.text.Text at 0x7fa354d88940>"
      ]
     },
     "execution_count": 13,
     "metadata": {},
     "output_type": "execute_result"
    },
    {
     "data": {
      "image/png": "[encoded data removed]",
      "text/plain": [
       "<matplotlib.figure.Figure at 0x7fa3ac64f630>"
      ]
     },
     "metadata": {},
     "output_type": "display_data"
    }
   ],
   "source": [
    "ax = sns.heatmap(cm21)\n",
    "ax.set_title('confusion matrix 2.1')"
   ]
  },
  {
   "cell_type": "code",
   "execution_count": 14,
   "metadata": {
    "collapsed": true
   },
   "outputs": [],
   "source": [
    "fig = ax.get_figure()\n",
    "fig.savefig(\"cm21_posCV.png\")"
   ]
  },
  {
   "cell_type": "code",
   "execution_count": 15,
   "metadata": {
    "collapsed": true
   },
   "outputs": [],
   "source": [
    "#### 2.2 samples\n",
    "x_train2 = x_train.iloc[itr[1],:]\n",
    "x_test2 = x_train.iloc[ite[1],:]\n",
    "y_train2 = tr_a.target.iloc[itr[1]]\n",
    "y_test2 = tr_a.target.iloc[ite[1]]"
   ]
  },
  {
   "cell_type": "code",
   "execution_count": 16,
   "metadata": {
    "collapsed": false
   },
   "outputs": [
    {
     "name": "stdout",
     "output_type": "stream",
     "text": [
      "pipeline done.\n",
      "NullToNaNTrans fit done.\n",
      "NullToNaNTrans transform done.\n",
      "DataSpliterTrans fit done.\n",
      "(60971, 108)\n",
      "DataSpliterTrans transform done.\n",
      "DataSpliterTrans fit done.\n",
      "(60971, 4)\n",
      "DataSpliterTrans transform done.\n",
      "DataSpliterTrans fit done.\n",
      "(60971, 19)\n",
      "DataSpliterTrans transform done.\n",
      "ObjtoCatStrtoIntTrans fit done.\n",
      "(60971, 19)\n",
      "ObjtoCatStrtoIntTrans transform done.\n"
     ]
    }
   ],
   "source": [
    "#### 2.2 make prediction\n",
    "call = PipelineBNP(RandomForestClassifier)\n",
    "call = call.fit(x_train2,y_train2)"
   ]
  },
  {
   "cell_type": "code",
   "execution_count": 17,
   "metadata": {
    "collapsed": false
   },
   "outputs": [
    {
     "name": "stdout",
     "output_type": "stream",
     "text": [
      "NullToNaNTrans transform done.\n",
      "(30485, 108)\n",
      "DataSpliterTrans transform done.\n",
      "(30485, 4)\n",
      "DataSpliterTrans transform done.\n",
      "(30485, 19)\n",
      "DataSpliterTrans transform done.\n",
      "(30485, 19)\n",
      "ObjtoCatStrtoIntTrans transform done.\n"
     ]
    }
   ],
   "source": [
    "y_predict2 = call.predict_proba(x_test2)"
   ]
  },
  {
   "cell_type": "code",
   "execution_count": 18,
   "metadata": {
    "collapsed": false
   },
   "outputs": [
    {
     "data": {
      "text/plain": [
       "array([[ 1787,  5574],\n",
       "       [ 2218, 20906]])"
      ]
     },
     "execution_count": 18,
     "metadata": {},
     "output_type": "execute_result"
    }
   ],
   "source": [
    "#### 2.2 confusion matrix\n",
    "cm22 = confusion_matrix(y_test2,y_predict2)\n",
    "cm22"
   ]
  },
  {
   "cell_type": "code",
   "execution_count": 19,
   "metadata": {
    "collapsed": false
   },
   "outputs": [
    {
     "data": {
      "text/plain": [
       "<matplotlib.text.Text at 0x7fa3544a5278>"
      ]
     },
     "execution_count": 19,
     "metadata": {},
     "output_type": "execute_result"
    },
    {
     "data": {
      "image/png": "[encoded data removed]",
      "text/plain": [
       "<matplotlib.figure.Figure at 0x7fa355661d68>"
      ]
     },
     "metadata": {},
     "output_type": "display_data"
    }
   ],
   "source": [
    "ax = sns.heatmap(cm22)\n",
    "ax.set_title('confusion matrix 2.2')"
   ]
  },
  {
   "cell_type": "code",
   "execution_count": 20,
   "metadata": {
    "collapsed": true
   },
   "outputs": [],
   "source": [
    "fig = ax.get_figure()\n",
    "fig.savefig(\"cm22_posCV.png\")"
   ]
  },
  {
   "cell_type": "code",
   "execution_count": 21,
   "metadata": {
    "collapsed": true
   },
   "outputs": [],
   "source": [
    "#### 2.3 samples\n",
    "x_train3 = x_train.iloc[itr[2],:]\n",
    "x_test3 = x_train.iloc[ite[2],:]\n",
    "y_train3 = tr_a.target.iloc[itr[2]]\n",
    "y_test3 = tr_a.target.iloc[ite[2]]"
   ]
  },
  {
   "cell_type": "code",
   "execution_count": 22,
   "metadata": {
    "collapsed": false
   },
   "outputs": [
    {
     "name": "stdout",
     "output_type": "stream",
     "text": [
      "pipeline done.\n",
      "NullToNaNTrans fit done.\n",
      "NullToNaNTrans transform done.\n",
      "DataSpliterTrans fit done.\n",
      "(60971, 108)\n",
      "DataSpliterTrans transform done.\n",
      "DataSpliterTrans fit done.\n",
      "(60971, 4)\n",
      "DataSpliterTrans transform done.\n",
      "DataSpliterTrans fit done.\n",
      "(60971, 19)\n",
      "DataSpliterTrans transform done.\n",
      "ObjtoCatStrtoIntTrans fit done.\n",
      "(60971, 19)\n",
      "ObjtoCatStrtoIntTrans transform done.\n"
     ]
    }
   ],
   "source": [
    "#### 2.3 make prediction\n",
    "call = PipelineBNP(RandomForestClassifier)\n",
    "call = call.fit(x_train3,y_train3)"
   ]
  },
  {
   "cell_type": "code",
   "execution_count": 23,
   "metadata": {
    "collapsed": false
   },
   "outputs": [
    {
     "name": "stdout",
     "output_type": "stream",
     "text": [
      "NullToNaNTrans transform done.\n",
      "(30485, 108)\n",
      "DataSpliterTrans transform done.\n",
      "(30485, 4)\n",
      "DataSpliterTrans transform done.\n",
      "(30485, 19)\n",
      "DataSpliterTrans transform done.\n",
      "(30485, 19)\n",
      "ObjtoCatStrtoIntTrans transform done.\n"
     ]
    }
   ],
   "source": [
    "y_predict3 = call.predict_proba(x_test3)"
   ]
  },
  {
   "cell_type": "code",
   "execution_count": 24,
   "metadata": {
    "collapsed": false
   },
   "outputs": [
    {
     "data": {
      "text/plain": [
       "array([[ 1920,  5304],\n",
       "       [ 2224, 21037]])"
      ]
     },
     "execution_count": 24,
     "metadata": {},
     "output_type": "execute_result"
    }
   ],
   "source": [
    "#### 2.3 confusion matrix\n",
    "cm23 = confusion_matrix(y_test3,y_predict3)\n",
    "cm23"
   ]
  },
  {
   "cell_type": "code",
   "execution_count": 25,
   "metadata": {
    "collapsed": false
   },
   "outputs": [
    {
     "data": {
      "text/plain": [
       "<matplotlib.text.Text at 0x7fa35b817fd0>"
      ]
     },
     "execution_count": 25,
     "metadata": {},
     "output_type": "execute_result"
    },
    {
     "data": {
      "image/png": "[encoded data removed]",
      "text/plain": [
       "<matplotlib.figure.Figure at 0x7fa333f61390>"
      ]
     },
     "metadata": {},
     "output_type": "display_data"
    }
   ],
   "source": [
    "ax = sns.heatmap(cm23)\n",
    "ax.set_title('confusion matrix 2.3')"
   ]
  },
  {
   "cell_type": "code",
   "execution_count": 26,
   "metadata": {
    "collapsed": true
   },
   "outputs": [],
   "source": [
    "fig = ax.get_figure()\n",
    "fig.savefig(\"cm23_posCV.png\")"
   ]
  },
  {
   "cell_type": "code",
   "execution_count": null,
   "metadata": {
    "collapsed": true
   },
   "outputs": [],
   "source": []
  }
 ],
 "metadata": {
  "kernelspec": {
   "display_name": "Python 3",
   "language": "python",
   "name": "python3"
  },
  "language_info": {
   "codemirror_mode": {
    "name": "ipython",
    "version": 3
   },
   "file_extension": ".py",
   "mimetype": "text/x-python",
   "name": "python",
   "nbconvert_exporter": "python",
   "pygments_lexer": "ipython3",
   "version": "3.4.3+"
  }
 },
 "nbformat": 4,
 "nbformat_minor": 0
}
