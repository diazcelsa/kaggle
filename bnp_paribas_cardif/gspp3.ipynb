{
 "cells": [
  {
   "cell_type": "code",
   "execution_count": 1,
   "metadata": {
    "collapsed": false
   },
   "outputs": [],
   "source": [
    "################\n",
    "################   Clean Data + Generate Model + Evaluate\n",
    "################   BNP Paribas Cardif Claims Management Kaggle Competition\n",
    "################\n",
    "\n",
    "import pandas as pd\n",
    "import numpy as np\n",
    "import matplotlib.pyplot as plt\n",
    "from pandas import Series, DataFrame\n",
    "import seaborn as sns\n",
    "from sklearn import preprocessing\n",
    "from sklearn.preprocessing import OneHotEncoder\n",
    "from sklearn.preprocessing import Imputer\n",
    "from sklearn.ensemble import RandomForestClassifier\n",
    "from sklearn.metrics import confusion_matrix\n",
    "from sklearn.cross_validation import KFold\n",
    "from sklearn.cross_validation import train_test_split\n",
    "from sklearn import metrics\n",
    "from sklearn import grid_search\n",
    "from scipy import stats\n",
    "\n",
    "# import other methods\n",
    "from clean import *\n",
    "\n",
    "%matplotlib inline\n",
    "\n",
    "##### upload data\n",
    "train = pd.read_csv(\"../../../github_data/bnp_paribas_cardif_data/train.csv\")\n",
    "test = pd.read_csv(\"../../../github_data/bnp_paribas_cardif_data/test.csv\")\n",
    "sample = pd.read_csv(\"../../../github_data/bnp_paribas_cardif_data/sample_submission.csv\")\n",
    "trains = train[:100]\n",
    "tests = test[:100]\n",
    "\n",
    "\n",
    "##### split data  \n",
    "tr_a, te_a = train_test_split(train, train_size = 0.8)\n",
    "\n",
    "## define variables \n",
    "y_train = tr_a.target\n",
    "y_test = te_a.target\n",
    "columns = train.columns\n",
    "x_train = tr_a[columns[2:]]\n",
    "x_test = te_a[columns[2:]]"
   ]
  },
  {
   "cell_type": "code",
   "execution_count": 7,
   "metadata": {
    "collapsed": true
   },
   "outputs": [],
   "source": [
    "## define parameters\n",
    "param_grid_1 =  {'randomforestclassifier__max_depth': [8,16],\n",
    "               'randomforestclassifier__criterion': ['gini'], \n",
    "               'randomforestclassifier__n_estimators':[20,100], \n",
    "               'randomforestclassifier__max_leaf_nodes':[None], \n",
    "               'randomforestclassifier__min_samples_split':[2],\n",
    "               'randomforestclassifier__min_samples_leaf':[10], \n",
    "               'randomforestclassifier__min_weight_fraction_leaf':[0.0],\n",
    "               'randomforestclassifier__n_jobs':[1]\n",
    "}\n",
    "param_grid_2 =  {'randomforestclassifier__max_depth': [16,300],\n",
    "               'randomforestclassifier__criterion': ['gini'], \n",
    "               'randomforestclassifier__n_estimators':[5,10], \n",
    "               'randomforestclassifier__max_leaf_nodes':[None], \n",
    "               'randomforestclassifier__min_samples_split':[2],\n",
    "               'randomforestclassifier__min_samples_leaf':[10], \n",
    "               'randomforestclassifier__min_weight_fraction_leaf':[0.0],\n",
    "               'randomforestclassifier__n_jobs':[1]\n",
    "}\n",
    "param_grid_3 =  {'randomforestclassifier__max_depth': [16,75],\n",
    "               'randomforestclassifier__criterion': ['gini'], \n",
    "               'randomforestclassifier__n_estimators':[2,5], \n",
    "               'randomforestclassifier__max_leaf_nodes':[None], \n",
    "               'randomforestclassifier__min_samples_split':[2],\n",
    "               'randomforestclassifier__min_samples_leaf':[10], \n",
    "               'randomforestclassifier__min_weight_fraction_leaf':[0.0],\n",
    "               'randomforestclassifier__n_jobs':[1]\n",
    "}\n",
    "param_grid_4 =  {'randomforestclassifier__max_depth': [8,16],\n",
    "               'randomforestclassifier__criterion': ['gini'], \n",
    "               'randomforestclassifier__n_estimators':[10], \n",
    "               'randomforestclassifier__max_leaf_nodes':[None], \n",
    "               'randomforestclassifier__min_samples_split':[2],\n",
    "               'randomforestclassifier__min_samples_leaf':[1,5], \n",
    "               'randomforestclassifier__min_weight_fraction_leaf':[0.0],\n",
    "               'randomforestclassifier__n_jobs':[1]\n",
    "}\n",
    "param_grid_5 =  {'randomforestclassifier__max_depth': [16,25],\n",
    "               'randomforestclassifier__criterion': ['gini'], \n",
    "               'randomforestclassifier__n_estimators':[10,50], \n",
    "               'randomforestclassifier__max_leaf_nodes':[None], \n",
    "               'randomforestclassifier__min_samples_split':[2],\n",
    "               'randomforestclassifier__min_samples_leaf':[1], \n",
    "               'randomforestclassifier__min_weight_fraction_leaf':[0.0],\n",
    "               'randomforestclassifier__n_jobs':[1]\n",
    "}"
   ]
  },
  {
   "cell_type": "code",
   "execution_count": null,
   "metadata": {
    "collapsed": false
   },
   "outputs": [
    {
     "name": "stdout",
     "output_type": "stream",
     "text": [
      "pipeline done.\n"
     ]
    },
    {
     "name": "stderr",
     "output_type": "stream",
     "text": [
      "/home/celsa/.local/lib/python3.4/site-packages/sklearn/utils/__init__.py:157: DataConversionWarning: Copying input dataframe for slicing.\n",
      "  DataConversionWarning)\n",
      "/home/celsa/.local/lib/python3.4/site-packages/sklearn/utils/__init__.py:157: DataConversionWarning: Copying input dataframe for slicing.\n",
      "  DataConversionWarning)\n",
      "/home/celsa/.local/lib/python3.4/site-packages/sklearn/utils/__init__.py:157: DataConversionWarning: Copying input dataframe for slicing.\n",
      "  DataConversionWarning)\n"
     ]
    },
    {
     "name": "stdout",
     "output_type": "stream",
     "text": [
      "NullToNaNTrans fit done.\n",
      "NullToNaNTrans transform done.\n"
     ]
    },
    {
     "name": "stderr",
     "output_type": "stream",
     "text": [
      "/home/celsa/.local/lib/python3.4/site-packages/sklearn/utils/__init__.py:157: DataConversionWarning: Copying input dataframe for slicing.\n",
      "  DataConversionWarning)\n"
     ]
    },
    {
     "name": "stdout",
     "output_type": "stream",
     "text": [
      "DataSpliterTrans fit done.\n",
      "NullToNaNTrans fit done.\n",
      "NullToNaNTrans transform done.\n",
      "DataSpliterTrans fit done.\n",
      "(45727, 108)\n",
      "DataSpliterTrans transform done.\n",
      "(45729, 108)\n",
      "DataSpliterTrans transform done.\n",
      "DataSpliterTrans fit done.\n",
      "DataSpliterTrans fit done.\n",
      "(45727, 108)\n",
      "DataSpliterTrans transform done.\n",
      "(45729, 108)\n",
      "DataSpliterTrans transform done.\n",
      "DataSpliterTrans fit done.\n",
      "(45727, 108)\n",
      "DataSpliterTrans transform done.\n",
      "ObjtoCatStrtoIntTrans fit done.\n",
      "(45727, 108)\n",
      "ObjtoCatStrtoIntTrans transform done.\n",
      "DataSpliterTrans fit done.\n",
      "(45729, 108)\n",
      "DataSpliterTrans transform done.\n",
      "ObjtoCatStrtoIntTrans fit done.\n",
      "(45729, 108)\n",
      "ObjtoCatStrtoIntTrans transform done.\n",
      "NullToNaNTrans transform done.\n",
      "(45729, 108)\n",
      "DataSpliterTrans transform done.\n",
      "(45729, 108)\n",
      "DataSpliterTrans transform done.\n",
      "(45729, 108)\n",
      "DataSpliterTrans transform done.\n",
      "(45729, 108)\n",
      "ObjtoCatStrtoIntTrans transform done.\n",
      "NullToNaNTrans transform done.\n",
      "(45727, 108)\n",
      "DataSpliterTrans transform done.\n",
      "(45727, 108)\n",
      "DataSpliterTrans transform done.\n"
     ]
    },
    {
     "name": "stderr",
     "output_type": "stream",
     "text": [
      "/home/celsa/.local/lib/python3.4/site-packages/sklearn/utils/__init__.py:157: DataConversionWarning: Copying input dataframe for slicing.\n",
      "  DataConversionWarning)\n",
      "/home/celsa/.local/lib/python3.4/site-packages/sklearn/utils/__init__.py:157: DataConversionWarning: Copying input dataframe for slicing.\n",
      "  DataConversionWarning)\n"
     ]
    },
    {
     "name": "stdout",
     "output_type": "stream",
     "text": [
      "NullToNaNTrans fit done.\n",
      "NullToNaNTrans transform done.\n",
      "DataSpliterTrans fit done.\n",
      "(45727, 108)\n",
      "DataSpliterTrans transform done.\n",
      "(45727, 108)\n",
      "DataSpliterTrans transform done.\n",
      "DataSpliterTrans fit done.\n",
      "(45727, 108)\n",
      "DataSpliterTrans transform done.\n",
      "(45727, 108)\n",
      "ObjtoCatStrtoIntTrans transform done.\n"
     ]
    },
    {
     "name": "stderr",
     "output_type": "stream",
     "text": [
      "/home/celsa/.local/lib/python3.4/site-packages/sklearn/utils/__init__.py:157: DataConversionWarning: Copying input dataframe for slicing.\n",
      "  DataConversionWarning)\n",
      "/home/celsa/.local/lib/python3.4/site-packages/sklearn/utils/__init__.py:157: DataConversionWarning: Copying input dataframe for slicing.\n",
      "  DataConversionWarning)\n"
     ]
    },
    {
     "name": "stdout",
     "output_type": "stream",
     "text": [
      "NullToNaNTrans fit done.\n",
      "NullToNaNTrans transform done.\n",
      "DataSpliterTrans fit done.\n",
      "(45729, 108)\n",
      "DataSpliterTrans transform done.\n",
      "DataSpliterTrans fit done.\n",
      "(45729, 108)\n",
      "DataSpliterTrans transform done.\n",
      "DataSpliterTrans fit done.\n",
      "(45727, 108)\n",
      "DataSpliterTrans transform done.\n",
      "ObjtoCatStrtoIntTrans fit done.\n",
      "(45727, 108)\n",
      "ObjtoCatStrtoIntTrans transform done.\n",
      "DataSpliterTrans fit done.\n",
      "(45729, 108)\n",
      "DataSpliterTrans transform done.\n",
      "ObjtoCatStrtoIntTrans fit done.\n",
      "(45729, 108)\n",
      "ObjtoCatStrtoIntTrans transform done.\n",
      "NullToNaNTrans transform done.\n",
      "(45729, 108)\n",
      "DataSpliterTrans transform done.\n",
      "(45729, 108)\n",
      "DataSpliterTrans transform done.\n",
      "(45729, 108)\n",
      "DataSpliterTrans transform done.\n",
      "(45729, 108)\n",
      "ObjtoCatStrtoIntTrans transform done.\n"
     ]
    },
    {
     "name": "stderr",
     "output_type": "stream",
     "text": [
      "/home/celsa/.local/lib/python3.4/site-packages/sklearn/utils/__init__.py:157: DataConversionWarning: Copying input dataframe for slicing.\n",
      "  DataConversionWarning)\n",
      "/home/celsa/.local/lib/python3.4/site-packages/sklearn/utils/__init__.py:157: DataConversionWarning: Copying input dataframe for slicing.\n",
      "  DataConversionWarning)\n"
     ]
    },
    {
     "name": "stdout",
     "output_type": "stream",
     "text": [
      "NullToNaNTrans fit done.\n",
      "NullToNaNTrans transform done.\n",
      "DataSpliterTrans fit done.\n",
      "(45727, 108)\n",
      "DataSpliterTrans transform done.\n",
      "DataSpliterTrans fit done.\n",
      "(45727, 108)\n",
      "DataSpliterTrans transform done.\n",
      "NullToNaNTrans transform done.\n",
      "(45727, 108)\n",
      "DataSpliterTrans transform done.\n",
      "(45727, 108)\n",
      "DataSpliterTrans transform done.\n",
      "(45727, 108)\n",
      "DataSpliterTrans transform done.\n",
      "(45727, 108)\n",
      "ObjtoCatStrtoIntTrans transform done.\n"
     ]
    },
    {
     "name": "stderr",
     "output_type": "stream",
     "text": [
      "/home/celsa/.local/lib/python3.4/site-packages/sklearn/utils/__init__.py:157: DataConversionWarning: Copying input dataframe for slicing.\n",
      "  DataConversionWarning)\n",
      "/home/celsa/.local/lib/python3.4/site-packages/sklearn/utils/__init__.py:157: DataConversionWarning: Copying input dataframe for slicing.\n",
      "  DataConversionWarning)\n"
     ]
    },
    {
     "name": "stdout",
     "output_type": "stream",
     "text": [
      "NullToNaNTrans fit done.\n",
      "NullToNaNTrans transform done.\n",
      "DataSpliterTrans fit done.\n",
      "(45729, 108)\n",
      "DataSpliterTrans transform done.\n",
      "DataSpliterTrans fit done.\n",
      "(45729, 108)\n",
      "DataSpliterTrans transform done.\n",
      "DataSpliterTrans fit done.\n",
      "(45727, 108)\n",
      "DataSpliterTrans transform done.\n",
      "ObjtoCatStrtoIntTrans fit done.\n",
      "(45727, 108)\n",
      "ObjtoCatStrtoIntTrans transform done.\n",
      "DataSpliterTrans fit done.\n",
      "(45729, 108)\n",
      "DataSpliterTrans transform done.\n",
      "ObjtoCatStrtoIntTrans fit done.\n",
      "(45729, 108)\n",
      "ObjtoCatStrtoIntTrans transform done.\n",
      "NullToNaNTrans transform done.\n",
      "(45729, 108)\n",
      "DataSpliterTrans transform done.\n",
      "(45729, 108)\n",
      "DataSpliterTrans transform done.\n",
      "(45729, 108)\n",
      "DataSpliterTrans transform done.\n",
      "(45729, 108)\n",
      "ObjtoCatStrtoIntTrans transform done.\n"
     ]
    },
    {
     "name": "stderr",
     "output_type": "stream",
     "text": [
      "/home/celsa/.local/lib/python3.4/site-packages/sklearn/utils/__init__.py:157: DataConversionWarning: Copying input dataframe for slicing.\n",
      "  DataConversionWarning)\n",
      "/home/celsa/.local/lib/python3.4/site-packages/sklearn/utils/__init__.py:157: DataConversionWarning: Copying input dataframe for slicing.\n",
      "  DataConversionWarning)\n"
     ]
    },
    {
     "name": "stdout",
     "output_type": "stream",
     "text": [
      "NullToNaNTrans fit done.\n",
      "NullToNaNTrans transform done.\n",
      "DataSpliterTrans fit done.\n",
      "(45727, 108)\n",
      "DataSpliterTrans transform done.\n",
      "DataSpliterTrans fit done.\n",
      "(45727, 108)\n",
      "DataSpliterTrans transform done.\n",
      "NullToNaNTrans transform done.\n",
      "(45727, 108)\n",
      "DataSpliterTrans transform done.\n",
      "(45727, 108)\n",
      "DataSpliterTrans transform done.\n",
      "(45727, 108)\n",
      "DataSpliterTrans transform done.\n",
      "(45727, 108)\n",
      "ObjtoCatStrtoIntTrans transform done.\n"
     ]
    },
    {
     "name": "stderr",
     "output_type": "stream",
     "text": [
      "/home/celsa/.local/lib/python3.4/site-packages/sklearn/utils/__init__.py:157: DataConversionWarning: Copying input dataframe for slicing.\n",
      "  DataConversionWarning)\n",
      "/home/celsa/.local/lib/python3.4/site-packages/sklearn/utils/__init__.py:157: DataConversionWarning: Copying input dataframe for slicing.\n",
      "  DataConversionWarning)\n"
     ]
    },
    {
     "name": "stdout",
     "output_type": "stream",
     "text": [
      "NullToNaNTrans fit done.\n",
      "NullToNaNTrans transform done.\n",
      "DataSpliterTrans fit done.\n",
      "(45729, 108)\n",
      "DataSpliterTrans transform done.\n",
      "DataSpliterTrans fit done.\n",
      "(45729, 108)\n",
      "DataSpliterTrans transform done.\n",
      "DataSpliterTrans fit done.\n",
      "(45727, 108)\n",
      "DataSpliterTrans transform done.\n",
      "ObjtoCatStrtoIntTrans fit done.\n",
      "(45727, 108)\n",
      "ObjtoCatStrtoIntTrans transform done.\n",
      "DataSpliterTrans fit done.\n",
      "(45729, 108)\n",
      "DataSpliterTrans transform done.\n",
      "ObjtoCatStrtoIntTrans fit done.\n",
      "(45729, 108)\n",
      "ObjtoCatStrtoIntTrans transform done.\n",
      "NullToNaNTrans transform done.\n",
      "(45729, 108)\n",
      "DataSpliterTrans transform done.\n",
      "(45729, 108)\n",
      "DataSpliterTrans transform done.\n",
      "(45729, 108)\n",
      "DataSpliterTrans transform done.\n",
      "(45729, 108)\n",
      "ObjtoCatStrtoIntTrans transform done.\n",
      "DataSpliterTrans fit done.\n",
      "(91456, 108)\n",
      "DataSpliterTrans transform done.\n",
      "ObjtoCatStrtoIntTrans fit done.\n",
      "(91456, 108)\n",
      "ObjtoCatStrtoIntTrans transform done.\n"
     ]
    }
   ],
   "source": [
    "##### generate pipeline \n",
    "## X.shape (91456, 108)\n",
    "call = PipelineBNP(RandomForestClassifier)\n",
    "gs = grid_search.GridSearchCV(call, param_grid_5, cv=2, scoring='roc_auc', n_jobs=2, pre_dispatch='n_jobs')\n",
    "gs = gs.fit(x_train,y_train)"
   ]
  },
  {
   "cell_type": "code",
   "execution_count": 9,
   "metadata": {
    "collapsed": false
   },
   "outputs": [
    {
     "data": {
      "text/plain": [
       "[mean: 0.59965, std: 0.06192, params: {'randomforestclassifier__max_depth': 16, 'randomforestclassifier__min_samples_split': 2, 'randomforestclassifier__criterion': 'gini', 'randomforestclassifier__n_jobs': 1, 'randomforestclassifier__n_estimators': 10, 'randomforestclassifier__max_leaf_nodes': None, 'randomforestclassifier__min_weight_fraction_leaf': 0.0, 'randomforestclassifier__min_samples_leaf': 1},\n",
       " mean: 0.60224, std: 0.02562, params: {'randomforestclassifier__max_depth': 16, 'randomforestclassifier__min_samples_split': 2, 'randomforestclassifier__criterion': 'gini', 'randomforestclassifier__n_jobs': 1, 'randomforestclassifier__n_estimators': 50, 'randomforestclassifier__max_leaf_nodes': None, 'randomforestclassifier__min_weight_fraction_leaf': 0.0, 'randomforestclassifier__min_samples_leaf': 1},\n",
       " mean: 0.56259, std: 0.01290, params: {'randomforestclassifier__max_depth': 25, 'randomforestclassifier__min_samples_split': 2, 'randomforestclassifier__criterion': 'gini', 'randomforestclassifier__n_jobs': 1, 'randomforestclassifier__n_estimators': 10, 'randomforestclassifier__max_leaf_nodes': None, 'randomforestclassifier__min_weight_fraction_leaf': 0.0, 'randomforestclassifier__min_samples_leaf': 1},\n",
       " mean: 0.61776, std: 0.00793, params: {'randomforestclassifier__max_depth': 25, 'randomforestclassifier__min_samples_split': 2, 'randomforestclassifier__criterion': 'gini', 'randomforestclassifier__n_jobs': 1, 'randomforestclassifier__n_estimators': 50, 'randomforestclassifier__max_leaf_nodes': None, 'randomforestclassifier__min_weight_fraction_leaf': 0.0, 'randomforestclassifier__min_samples_leaf': 1}]"
      ]
     },
     "execution_count": 9,
     "metadata": {},
     "output_type": "execute_result"
    }
   ],
   "source": [
    "##### plot the roc_auc to compare parameters\n",
    "sco = gs.grid_scores_\n",
    "sco"
   ]
  },
  {
   "cell_type": "code",
   "execution_count": 10,
   "metadata": {
    "collapsed": false
   },
   "outputs": [
    {
     "name": "stdout",
     "output_type": "stream",
     "text": [
      "randomforestclassifier__max_depth randomforestclassifier__n_estimators\n"
     ]
    }
   ],
   "source": [
    "# extract data from scoring function\n",
    "meanv = np.zeros(len(sco))\n",
    "deptv = np.zeros(len(sco),dtype=np.int)\n",
    "estiv = np.zeros(len(sco),dtype=np.int)\n",
    "deptk = [i for i in sco[0].parameters.keys()][0]\n",
    "estik = [i for i in sco[0].parameters.keys()][4]\n",
    "\n",
    "l = 0\n",
    "while l < len(sco):\n",
    "    mean = sco[l].mean_validation_score\n",
    "    par = sco[l].parameters.values()\n",
    "    values = [v for v in par]\n",
    "    meanv[l] = mean\n",
    "    estiv[l] = values[4]\n",
    "    deptv[l] = values[0]\n",
    "    l += 1\n",
    "print(deptk,estik)"
   ]
  },
  {
   "cell_type": "code",
   "execution_count": 11,
   "metadata": {
    "collapsed": false
   },
   "outputs": [
    {
     "name": "stdout",
     "output_type": "stream",
     "text": [
      "[[ 0.59965432  0.60224266]\n",
      " [ 0.56259135  0.61775878]]\n"
     ]
    },
    {
     "data": {
      "image/png": "[encoded data removed]",
      "text/plain": [
       "<matplotlib.figure.Figure at 0x7f9e28a4b780>"
      ]
     },
     "metadata": {},
     "output_type": "display_data"
    }
   ],
   "source": [
    "# plot scoring function data\n",
    "ma = np.matrix([[meanv[0], meanv[1]], [meanv[2], meanv[3]]], dtype=np.float64)\n",
    "scores = pd.DataFrame(ma,columns=np.unique(estiv),index=np.unique(deptv))\n",
    "ax = sns.heatmap(scores)\n",
    "ax.set_title('parameters evaluation roc_auc 5 depth vs n_estimators')\n",
    "ax.set_title\n",
    "fig = ax.get_figure()\n",
    "fig.savefig(\"par_eval_5_depth8_10_esti20_100.png\")\n",
    "print(ma)"
   ]
  },
  {
   "cell_type": "code",
   "execution_count": null,
   "metadata": {
    "collapsed": true
   },
   "outputs": [],
   "source": [
    "##### generate y_predict\n",
    "y_predict = gs.predict_proba(x_test)"
   ]
  },
  {
   "cell_type": "code",
   "execution_count": null,
   "metadata": {
    "collapsed": false
   },
   "outputs": [],
   "source": [
    "##### check parameters\n",
    "#call.get_params()"
   ]
  },
  {
   "cell_type": "code",
   "execution_count": null,
   "metadata": {
    "collapsed": true
   },
   "outputs": [],
   "source": [
    "##### Compute ROC curve and ROC area for each fold\n",
    "fpr1, tpr1, thresholds1 = metrics.roc_curve(y_test1,y_predict1_1)\n",
    "a1 = metrics.auc(fpr1, tpr1)\n",
    "fpr2, tpr2, thresholds2 = metrics.roc_curve(y_test2,y_predict2_1)\n",
    "a2 = metrics.auc(fpr2, tpr2)\n",
    "fpr3, tpr3, thresholds3 = metrics.roc_curve(y_test3,y_predict3_1)\n",
    "a3 = metrics.auc(fpr3, tpr3)"
   ]
  },
  {
   "cell_type": "code",
   "execution_count": null,
   "metadata": {
    "collapsed": false
   },
   "outputs": [],
   "source": [
    "ax = sns.set_style(\"whitegrid\")\n",
    "ax = sns.set_context(\"notebook\", font_scale=1.1, rc={\"lines.linewidth\": 1.5})"
   ]
  },
  {
   "cell_type": "code",
   "execution_count": null,
   "metadata": {
    "collapsed": false
   },
   "outputs": [],
   "source": [
    "plt.plot(fpr1, tpr1, label='ROC curve 1 (area = %0.2f)' % a1)\n",
    "plt.plot(fpr2, tpr2, label='ROC curve 2 (area = %0.2f)' % a2)\n",
    "plt.plot(fpr3, tpr3, label='ROC curve 3 (area = %0.2f)' % a3)\n",
    "plt.xlabel('False Positive Rate')\n",
    "plt.ylabel('True Positive Rate')\n",
    "plt.title('ROC Curve for 3-fold CV before Grid Search')\n",
    "plt.legend(loc=\"lower right\")\n",
    "plt.show()\n",
    "plt.savefig(\"ROC_Curve_wGS\")"
   ]
  },
  {
   "cell_type": "code",
   "execution_count": null,
   "metadata": {
    "collapsed": true
   },
   "outputs": [],
   "source": []
  }
 ],
 "metadata": {
  "kernelspec": {
   "display_name": "Python 3",
   "language": "python",
   "name": "python3"
  },
  "language_info": {
   "codemirror_mode": {
    "name": "ipython",
    "version": 3
   },
   "file_extension": ".py",
   "mimetype": "text/x-python",
   "name": "python",
   "nbconvert_exporter": "python",
   "pygments_lexer": "ipython3",
   "version": "3.4.3+"
  }
 },
 "nbformat": 4,
 "nbformat_minor": 0
}
