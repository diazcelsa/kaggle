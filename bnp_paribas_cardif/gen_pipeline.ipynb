{
 "cells": [
  {
   "cell_type": "code",
   "execution_count": 1,
   "metadata": {
    "collapsed": false
   },
   "outputs": [],
   "source": [
    "################\n",
    "################   Check pipeline steps\n",
    "################   BNP Paribas Cardif Claims Management Kaggle Competition\n",
    "################\n",
    "%load_ext autoreload\n",
    "\n",
    "%autoreload 2\n",
    "\n",
    "import pandas as pd\n",
    "import numpy as np\n",
    "import matplotlib.pyplot as plt\n",
    "from pandas import Series, DataFrame\n",
    "import seaborn as sns\n",
    "from sklearn import preprocessing\n",
    "from sklearn.preprocessing import OneHotEncoder\n",
    "from sklearn.preprocessing import Imputer\n",
    "from sklearn.ensemble import RandomForestClassifier\n",
    "from scipy import stats\n",
    "\n",
    "# import other methods\n",
    "from data_modifier import *\n",
    "\n",
    "##### upload data\n",
    "train = pd.read_csv(\"../../../github_data/bnp_paribas_cardif_data/train.csv\")\n",
    "test = pd.read_csv(\"../../../github_data/bnp_paribas_cardif_data/test.csv\")\n",
    "sample = pd.read_csv(\"../../../github_data/bnp_paribas_cardif_data/sample_submission.csv\")\n",
    "trains = train[:100]\n",
    "tests = test[:100]"
   ]
  },
  {
   "cell_type": "code",
   "execution_count": 3,
   "metadata": {
    "collapsed": false,
    "scrolled": true
   },
   "outputs": [
    {
     "name": "stdout",
     "output_type": "stream",
     "text": [
      "NullToNaNTrans fit done.\n",
      "NullToNaNTrans transform done.\n",
      "NullToNaNTrans transform done.\n"
     ]
    }
   ],
   "source": [
    "##### split and clean data\n",
    "## define variables\n",
    "y = trains.target\n",
    "columns = train.columns\n",
    "x_train = trains[columns[2:]]\n",
    "x_test = trains[columns[1:]]\n",
    "\n",
    "## change null to nan\n",
    "nton = NulltoNanTrans()\n",
    "nton = nton.fit(x_train)\n",
    "x_tr_ntont = nton.transform(x_train)\n",
    "x_te_ntont = nton.transform(x_test)"
   ]
  },
  {
   "cell_type": "code",
   "execution_count": 4,
   "metadata": {
    "collapsed": false
   },
   "outputs": [
    {
     "name": "stdout",
     "output_type": "stream",
     "text": [
      "DataSpliterTrans fit done.\n",
      "DataSpliterTrans transform done.\n",
      "DataSpliterTrans transform done.\n"
     ]
    }
   ],
   "source": [
    "#### continous data\n",
    "dat = DataSpliterTrans(dtype=np.float64)\n",
    "dat = dat.fit(x_tr_ntont)\n",
    "x_tr_datct = dat.transform(x_tr_ntont)\n",
    "x_te_datct = dat.transform(x_te_ntont)\n",
    "\n",
    "## if nan change nan to median\n",
    "imp = Imputer(missing_values='NaN', strategy='median', axis=0)\n",
    "imp = imp.fit(x_tr_datct)\n",
    "x_tr_ntovt = imp.transform(x_tr_datct)\n",
    "x_te_ntovt = imp.transform(x_te_datct)"
   ]
  },
  {
   "cell_type": "code",
   "execution_count": 5,
   "metadata": {
    "collapsed": false
   },
   "outputs": [
    {
     "name": "stdout",
     "output_type": "stream",
     "text": [
      "DataSpliterTrans fit done.\n",
      "DataSpliterTrans transform done.\n",
      "DataSpliterTrans transform done.\n"
     ]
    }
   ],
   "source": [
    "#### categorical data\n",
    "### int categorical data\n",
    "dat = DataSpliterTrans(dtype=np.int)\n",
    "dat = dat.fit(x_tr_ntont)\n",
    "x_tr_datit = dat.transform(x_tr_ntont)\n",
    "x_te_datit = dat.transform(x_te_ntont)\n",
    "\n",
    "## if nan change nan to most frequent\n",
    "imp = Imputer(missing_values='NaN', strategy='most_frequent', axis=0)\n",
    "imp = imp.fit(x_tr_datit)\n",
    "x_tr_ntovt2 = imp.transform(x_tr_datit)\n",
    "x_te_ntovt2 = imp.transform(x_te_datit)\n",
    "\n",
    "## transform each category to binary\n",
    "enc = preprocessing.OneHotEncoder(handle_unknown='ignore')\n",
    "enc = enc.fit(x_tr_ntovt2)\n",
    "x_tr_catobit = enc.transform(x_tr_ntovt2)\n",
    "x_te_catobit = enc.transform(x_te_ntovt2)"
   ]
  },
  {
   "cell_type": "code",
   "execution_count": 6,
   "metadata": {
    "collapsed": false
   },
   "outputs": [
    {
     "name": "stdout",
     "output_type": "stream",
     "text": [
      "DataSpliterTrans fit done.\n",
      "DataSpliterTrans transform done.\n",
      "DataSpliterTrans transform done.\n"
     ]
    }
   ],
   "source": [
    "### object categorical data\n",
    "dat = DataSpliterTrans(dtype=np.object)\n",
    "dat = dat.fit(x_tr_ntont)\n",
    "x_tr_datot = dat.transform(x_tr_ntont)\n",
    "x_te_datot = dat.transform(x_te_ntont)"
   ]
  },
  {
   "cell_type": "code",
   "execution_count": 7,
   "metadata": {
    "collapsed": false,
    "scrolled": true
   },
   "outputs": [
    {
     "name": "stdout",
     "output_type": "stream",
     "text": [
      "ObjtoCatStrtoIntTrans fit done.\n",
      "(100, 19)\n",
      "ObjtoCatStrtoIntTrans transform done.\n",
      "(100, 19)\n",
      "ObjtoCatStrtoIntTrans transform done.\n"
     ]
    }
   ],
   "source": [
    "## change object to categorical & convert categories str to int\n",
    "cat = ObjtoCatStrtoIntTrans()\n",
    "cat = cat.fit(x_tr_datot)\n",
    "x_tr_catot = cat.transform(x_tr_datot)\n",
    "x_tr_catot = cat.transform(x_te_datot)"
   ]
  },
  {
   "cell_type": "code",
   "execution_count": 8,
   "metadata": {
    "collapsed": true
   },
   "outputs": [],
   "source": [
    "## if nan change nan to most frequent\n",
    "imp = Imputer(missing_values='NaN', strategy='most_frequent', axis=0)\n",
    "imp = imp.fit(x_tr_catot)\n",
    "x_tr_ntovt3 = imp.transform(x_tr_catot)\n",
    "x_te_ntovt3 = imp.transform(x_tr_catot)"
   ]
  },
  {
   "cell_type": "code",
   "execution_count": null,
   "metadata": {
    "collapsed": true
   },
   "outputs": [],
   "source": [
    "## transform each category to binary\n",
    "enc = preprocessing.OneHotEncoder(handle_unknown='ignore')\n",
    "enc = enc.fit(x_tr_ntovt3)\n",
    "x_tr_catobit = enc.transform(x_tr_ntovt3)\n",
    "x_te_catobit = enc.transform(x_te_ntovt3)"
   ]
  },
  {
   "cell_type": "code",
   "execution_count": null,
   "metadata": {
    "collapsed": true
   },
   "outputs": [],
   "source": []
  },
  {
   "cell_type": "code",
   "execution_count": null,
   "metadata": {
    "collapsed": true
   },
   "outputs": [],
   "source": []
  }
 ],
 "metadata": {
  "kernelspec": {
   "display_name": "Python 3",
   "language": "python",
   "name": "python3"
  },
  "language_info": {
   "codemirror_mode": {
    "name": "ipython",
    "version": 3
   },
   "file_extension": ".py",
   "mimetype": "text/x-python",
   "name": "python",
   "nbconvert_exporter": "python",
   "pygments_lexer": "ipython3",
   "version": "3.4.3+"
  }
 },
 "nbformat": 4,
 "nbformat_minor": 0
}
