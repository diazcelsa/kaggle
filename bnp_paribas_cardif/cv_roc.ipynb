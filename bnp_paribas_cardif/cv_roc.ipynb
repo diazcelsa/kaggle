{
 "cells": [
  {
   "cell_type": "code",
   "execution_count": 1,
   "metadata": {
    "collapsed": false
   },
   "outputs": [],
   "source": [
    "################\n",
    "################   Clean Data + Generate Model + Evaluate\n",
    "################   BNP Paribas Cardif Claims Management Kaggle Competition\n",
    "################\n",
    "\n",
    "import pandas as pd\n",
    "import numpy as np\n",
    "import matplotlib.pyplot as plt\n",
    "from pandas import Series, DataFrame\n",
    "import seaborn as sns\n",
    "from sklearn import preprocessing\n",
    "from sklearn.preprocessing import OneHotEncoder\n",
    "from sklearn.preprocessing import Imputer\n",
    "from sklearn.ensemble import RandomForestClassifier\n",
    "from sklearn.metrics import confusion_matrix\n",
    "from sklearn.cross_validation import KFold\n",
    "from sklearn.cross_validation import train_test_split\n",
    "from sklearn import metrics\n",
    "from scipy import stats\n",
    "\n",
    "# import other methods\n",
    "from data_modifier import *\n",
    "\n",
    "%matplotlib inline\n",
    "\n",
    "##### upload data\n",
    "train = pd.read_csv(\"../../../github_data/bnp_paribas_cardif_data/train.csv\")\n",
    "test = pd.read_csv(\"../../../github_data/bnp_paribas_cardif_data/test.csv\")\n",
    "sample = pd.read_csv(\"../../../github_data/bnp_paribas_cardif_data/sample_submission.csv\")\n",
    "trains = train[:100]\n",
    "tests = test[:100]\n",
    "\n",
    "\n",
    "##### split and clean data  \n",
    "tr_a, te_a = train_test_split(train, train_size = 0.8)\n",
    "## define variables \n",
    "y_train = tr_a.target\n",
    "y_test = te_a.target\n",
    "columns = train.columns\n",
    "x_train = tr_a[columns[2:]]\n",
    "x_test = te_a[columns[2:]]"
   ]
  },
  {
   "cell_type": "code",
   "execution_count": 2,
   "metadata": {
    "collapsed": false,
    "scrolled": true
   },
   "outputs": [
    {
     "name": "stdout",
     "output_type": "stream",
     "text": [
      "pipeline done.\n",
      "NullToNaNTrans fit done.\n",
      "NullToNaNTrans transform done.\n",
      "DataSpliterTrans fit done.\n",
      "DataSpliterTrans transform done.\n",
      "DataSpliterTrans fit done.\n",
      "DataSpliterTrans transform done.\n",
      "DataSpliterTrans fit done.\n",
      "DataSpliterTrans transform done.\n",
      "ObjtoCatStrtoIntTrans fit done.\n",
      "(91456, 19)\n",
      "ObjtoCatStrtoIntTrans transform done.\n"
     ]
    }
   ],
   "source": [
    "##### generate pipeline \n",
    "## X.shape (91456, 108)\n",
    "call = PipelineBNP(RandomForestClassifier)\n",
    "call = call.fit(x_train,y_train)"
   ]
  },
  {
   "cell_type": "code",
   "execution_count": 3,
   "metadata": {
    "collapsed": false
   },
   "outputs": [
    {
     "name": "stdout",
     "output_type": "stream",
     "text": [
      "NullToNaNTrans transform done.\n",
      "DataSpliterTrans transform done.\n",
      "DataSpliterTrans transform done.\n",
      "DataSpliterTrans transform done.\n",
      "(22865, 19)\n",
      "ObjtoCatStrtoIntTrans transform done.\n"
     ]
    }
   ],
   "source": [
    "##### generate y_predict\n",
    "y_predict = call.predict_proba(x_test)"
   ]
  },
  {
   "cell_type": "code",
   "execution_count": 4,
   "metadata": {
    "collapsed": false
   },
   "outputs": [
    {
     "data": {
      "text/plain": [
       "array([0, 1])"
      ]
     },
     "execution_count": 4,
     "metadata": {},
     "output_type": "execute_result"
    }
   ],
   "source": [
    "## get classes from prediction\n",
    "# in this case boolean, use for evaluation only second class (1)\n",
    "call.classes_"
   ]
  },
  {
   "cell_type": "code",
   "execution_count": 5,
   "metadata": {
    "collapsed": false
   },
   "outputs": [],
   "source": [
    "## define prediction for each class\n",
    "y_predict_0 = y_predict[:,0]\n",
    "y_predict_1 = y_predict[:,1]\n",
    "y_predict_0 = pd.Series(y_predict_0,index=y_test.index)\n",
    "y_predict_1 = pd.Series(y_predict_1,index=y_test.index)"
   ]
  },
  {
   "cell_type": "code",
   "execution_count": 6,
   "metadata": {
    "collapsed": false
   },
   "outputs": [
    {
     "name": "stdout",
     "output_type": "stream",
     "text": [
      "[30486 30487 30488 ..., 91453 91454 91455] [    0     1     2 ..., 30483 30484 30485]\n",
      "[    0     1     2 ..., 91453 91454 91455] [30486 30487 30488 ..., 60968 60969 60970]\n",
      "[    0     1     2 ..., 60968 60969 60970] [60971 60972 60973 ..., 91453 91454 91455]\n"
     ]
    }
   ],
   "source": [
    "##### cross validation 3 folds\n",
    "kf = KFold(91456, n_folds=3)\n",
    "itr = defaultdict(list)\n",
    "ite = defaultdict(list)\n",
    "c = 0\n",
    "for trai, tes in kf:\n",
    "    print(\"%s %s\" % (trai, tes))\n",
    "    itr[c] = trai\n",
    "    ite[c] = tes\n",
    "    c += 1"
   ]
  },
  {
   "cell_type": "code",
   "execution_count": 7,
   "metadata": {
    "collapsed": false
   },
   "outputs": [],
   "source": [
    "##### redefine my samples\n",
    "\n",
    "#### 2.1 samples\n",
    "x_train1 = x_train.iloc[itr[0],:]\n",
    "x_test1 = x_train.iloc[ite[0],:]\n",
    "y_train1 = tr_a.target.iloc[itr[0]]\n",
    "y_test1 = tr_a.target.iloc[ite[0]]"
   ]
  },
  {
   "cell_type": "code",
   "execution_count": 8,
   "metadata": {
    "collapsed": false
   },
   "outputs": [
    {
     "name": "stdout",
     "output_type": "stream",
     "text": [
      "pipeline done.\n",
      "NullToNaNTrans fit done.\n",
      "NullToNaNTrans transform done.\n",
      "DataSpliterTrans fit done.\n",
      "DataSpliterTrans transform done.\n",
      "DataSpliterTrans fit done.\n",
      "DataSpliterTrans transform done.\n",
      "DataSpliterTrans fit done.\n",
      "DataSpliterTrans transform done.\n",
      "ObjtoCatStrtoIntTrans fit done.\n",
      "(60970, 19)\n",
      "ObjtoCatStrtoIntTrans transform done.\n"
     ]
    }
   ],
   "source": [
    "#### 2.1 make prediction\n",
    "call = PipelineBNP(RandomForestClassifier)\n",
    "call = call.fit(x_train1,y_train1)"
   ]
  },
  {
   "cell_type": "code",
   "execution_count": 9,
   "metadata": {
    "collapsed": false
   },
   "outputs": [
    {
     "name": "stdout",
     "output_type": "stream",
     "text": [
      "NullToNaNTrans transform done.\n",
      "DataSpliterTrans transform done.\n",
      "DataSpliterTrans transform done.\n",
      "DataSpliterTrans transform done.\n",
      "(30486, 19)\n",
      "ObjtoCatStrtoIntTrans transform done.\n"
     ]
    }
   ],
   "source": [
    "y_predict1 = call.predict_proba(x_test1)"
   ]
  },
  {
   "cell_type": "code",
   "execution_count": 10,
   "metadata": {
    "collapsed": false
   },
   "outputs": [],
   "source": [
    "y_predict1_0 = y_predict1[:,0] \n",
    "y_predict1_1 = y_predict1[:,1]\n",
    "y_predict1_0 = pd.Series(y_predict1_0,index=y_test1.index)\n",
    "y_predict1_1 = pd.Series(y_predict1_1,index=y_test1.index)"
   ]
  },
  {
   "cell_type": "code",
   "execution_count": 11,
   "metadata": {
    "collapsed": false
   },
   "outputs": [],
   "source": [
    "#### 2.2 samples\n",
    "x_train2 = x_train.iloc[itr[1],:]\n",
    "x_test2 = x_train.iloc[ite[1],:]\n",
    "y_train2 = tr_a.target.iloc[itr[1]]\n",
    "y_test2 = tr_a.target.iloc[ite[1]]"
   ]
  },
  {
   "cell_type": "code",
   "execution_count": 12,
   "metadata": {
    "collapsed": false
   },
   "outputs": [
    {
     "name": "stdout",
     "output_type": "stream",
     "text": [
      "pipeline done.\n",
      "NullToNaNTrans fit done.\n",
      "NullToNaNTrans transform done.\n",
      "DataSpliterTrans fit done.\n",
      "DataSpliterTrans transform done.\n",
      "DataSpliterTrans fit done.\n",
      "DataSpliterTrans transform done.\n",
      "DataSpliterTrans fit done.\n",
      "DataSpliterTrans transform done.\n",
      "ObjtoCatStrtoIntTrans fit done.\n",
      "(60971, 19)\n",
      "ObjtoCatStrtoIntTrans transform done.\n"
     ]
    }
   ],
   "source": [
    "#### 2.2 make prediction\n",
    "call = PipelineBNP(RandomForestClassifier)\n",
    "call = call.fit(x_train2,y_train2)"
   ]
  },
  {
   "cell_type": "code",
   "execution_count": 13,
   "metadata": {
    "collapsed": false
   },
   "outputs": [
    {
     "name": "stdout",
     "output_type": "stream",
     "text": [
      "NullToNaNTrans transform done.\n",
      "DataSpliterTrans transform done.\n",
      "DataSpliterTrans transform done.\n",
      "DataSpliterTrans transform done.\n",
      "(30485, 19)\n",
      "ObjtoCatStrtoIntTrans transform done.\n"
     ]
    }
   ],
   "source": [
    "y_predict2 = call.predict_proba(x_test2)"
   ]
  },
  {
   "cell_type": "code",
   "execution_count": 14,
   "metadata": {
    "collapsed": false
   },
   "outputs": [],
   "source": [
    "y_predict2_0 = y_predict2[:,0] \n",
    "y_predict2_1 = y_predict2[:,1]\n",
    "y_predict2_0 = pd.Series(y_predict2_0,index=y_test2.index)\n",
    "y_predict2_1 = pd.Series(y_predict2_1,index=y_test2.index)"
   ]
  },
  {
   "cell_type": "code",
   "execution_count": 15,
   "metadata": {
    "collapsed": false
   },
   "outputs": [],
   "source": [
    "#### 2.3 samples\n",
    "x_train3 = x_train.iloc[itr[2],:]\n",
    "x_test3 = x_train.iloc[ite[2],:]\n",
    "y_train3 = tr_a.target.iloc[itr[2]]\n",
    "y_test3 = tr_a.target.iloc[ite[2]]"
   ]
  },
  {
   "cell_type": "code",
   "execution_count": 16,
   "metadata": {
    "collapsed": false
   },
   "outputs": [
    {
     "name": "stdout",
     "output_type": "stream",
     "text": [
      "pipeline done.\n",
      "NullToNaNTrans fit done.\n",
      "NullToNaNTrans transform done.\n",
      "DataSpliterTrans fit done.\n",
      "DataSpliterTrans transform done.\n",
      "DataSpliterTrans fit done.\n",
      "DataSpliterTrans transform done.\n",
      "DataSpliterTrans fit done.\n",
      "DataSpliterTrans transform done.\n",
      "ObjtoCatStrtoIntTrans fit done.\n",
      "(60971, 19)\n",
      "ObjtoCatStrtoIntTrans transform done.\n"
     ]
    }
   ],
   "source": [
    "#### 2.3 make prediction\n",
    "call = PipelineBNP(RandomForestClassifier)\n",
    "call = call.fit(x_train3,y_train3)"
   ]
  },
  {
   "cell_type": "code",
   "execution_count": 17,
   "metadata": {
    "collapsed": false
   },
   "outputs": [
    {
     "name": "stdout",
     "output_type": "stream",
     "text": [
      "NullToNaNTrans transform done.\n",
      "DataSpliterTrans transform done.\n",
      "DataSpliterTrans transform done.\n",
      "DataSpliterTrans transform done.\n",
      "(30485, 19)\n",
      "ObjtoCatStrtoIntTrans transform done.\n"
     ]
    }
   ],
   "source": [
    "y_predict3 = call.predict_proba(x_test3)"
   ]
  },
  {
   "cell_type": "code",
   "execution_count": 18,
   "metadata": {
    "collapsed": false
   },
   "outputs": [],
   "source": [
    "y_predict3_0 = y_predict3[:,0] \n",
    "y_predict3_1 = y_predict3[:,1]\n",
    "y_predict3_0 = pd.Series(y_predict3_0,index=y_test3.index)\n",
    "y_predict3_1 = pd.Series(y_predict3_1,index=y_test3.index)"
   ]
  },
  {
   "cell_type": "code",
   "execution_count": 19,
   "metadata": {
    "collapsed": false
   },
   "outputs": [],
   "source": [
    "##### check parameters\n",
    "#call.get_params()"
   ]
  },
  {
   "cell_type": "code",
   "execution_count": 20,
   "metadata": {
    "collapsed": false
   },
   "outputs": [],
   "source": [
    "##### Compute ROC curve and ROC area for each fold\n",
    "fpr0, tpr0, thresholds = metrics.roc_curve(y_test,y_predict_1)\n",
    "a0 = metrics.auc(fpr0, tpr0)\n",
    "fpr1, tpr1, thresholds1 = metrics.roc_curve(y_test1,y_predict1_1)\n",
    "a1 = metrics.auc(fpr1, tpr1)\n",
    "fpr2, tpr2, thresholds2 = metrics.roc_curve(y_test2,y_predict2_1)\n",
    "a2 = metrics.auc(fpr2, tpr2)\n",
    "fpr3, tpr3, thresholds3 = metrics.roc_curve(y_test3,y_predict3_1)\n",
    "a3 = metrics.auc(fpr3, tpr3)"
   ]
  },
  {
   "cell_type": "code",
   "execution_count": 21,
   "metadata": {
    "collapsed": false
   },
   "outputs": [],
   "source": [
    "ax = sns.set_style(\"whitegrid\")\n",
    "ax = sns.set_context(\"notebook\", font_scale=1.1, rc={\"lines.linewidth\": 1.5})"
   ]
  },
  {
   "cell_type": "code",
   "execution_count": 22,
   "metadata": {
    "collapsed": false
   },
   "outputs": [
    {
     "data": {
      "image/png": "[encoded data removed]",
      "text/plain": [
       "<matplotlib.figure.Figure at 0x7fb2f53cfc18>"
      ]
     },
     "metadata": {},
     "output_type": "display_data"
    },
    {
     "data": {
      "text/plain": [
       "<matplotlib.figure.Figure at 0x7fb2da25e630>"
      ]
     },
     "metadata": {},
     "output_type": "display_data"
    }
   ],
   "source": [
    "plt.plot(fpr0, tpr0, label='ROC curve 0 (area = %0.2f)' % a0)\n",
    "plt.plot(fpr1, tpr1, label='ROC curve 1 (area = %0.2f)' % a1)\n",
    "plt.plot(fpr2, tpr2, label='ROC curve 2 (area = %0.2f)' % a2)\n",
    "plt.plot(fpr3, tpr3, label='ROC curve 3 (area = %0.2f)' % a3)\n",
    "plt.xlabel('False Positive Rate')\n",
    "plt.ylabel('True Positive Rate')\n",
    "plt.title('ROC Curve for 3-fold CV before Grid Search')\n",
    "plt.legend(loc=\"lower right\")\n",
    "plt.show()\n",
    "plt.savefig(\"ROC_Curve_woGS\")"
   ]
  }
 ],
 "metadata": {
  "kernelspec": {
   "display_name": "Python 3",
   "language": "python",
   "name": "python3"
  },
  "language_info": {
   "codemirror_mode": {
    "name": "ipython",
    "version": 3
   },
   "file_extension": ".py",
   "mimetype": "text/x-python",
   "name": "python",
   "nbconvert_exporter": "python",
   "pygments_lexer": "ipython3",
   "version": "3.4.3+"
  }
 },
 "nbformat": 4,
 "nbformat_minor": 0
}
